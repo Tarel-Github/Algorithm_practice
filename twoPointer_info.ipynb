{
 "cells": [
  {
   "attachments": {},
   "cell_type": "markdown",
   "metadata": {},
   "source": [
    "#### 투 포인터 (문제 종류)\n",
    "\n",
    "##### 목적\n",
    "2개의 포인터로 알고리즘의 시간복잡도를 최적화 하는 알고리즘\n",
    "\n",
    "##### 이론\n",
    "핵심은 포인터 역할을 해주는 두 개의 변수다.\n",
    "만약 주어진 값들이 난잡하다면 정렬을 해주는 것이 편할 수 있다.\n",
    "\n",
    "##### 결론\n"
   ]
  }
 ],
 "metadata": {
  "kernelspec": {
   "display_name": "Python 3",
   "language": "python",
   "name": "python3"
  },
  "language_info": {
   "name": "python",
   "version": "3.11.2 (tags/v3.11.2:878ead1, Feb  7 2023, 16:38:35) [MSC v.1934 64 bit (AMD64)]"
  },
  "orig_nbformat": 4,
  "vscode": {
   "interpreter": {
    "hash": "a3d8f53f1429d27b792a3789224562ddd32c1395c9a9cfbb17b3c19c3b9a493d"
   }
  }
 },
 "nbformat": 4,
 "nbformat_minor": 2
}
