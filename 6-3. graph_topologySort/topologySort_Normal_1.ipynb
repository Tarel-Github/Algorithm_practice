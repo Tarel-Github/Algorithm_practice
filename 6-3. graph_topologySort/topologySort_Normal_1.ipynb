{
 "cells": [
  {
   "attachments": {},
   "cell_type": "markdown",
   "metadata": {},
   "source": [
    "#### 문제 (그래프 위상정렬)\n",
    "\n",
    "\n",
    "##### 입력예시\n",
    "\n",
    "\n",
    "##### 출력예시\n"
   ]
  },
  {
   "attachments": {},
   "cell_type": "markdown",
   "metadata": {},
   "source": [
    "내 첫번째 답안\n",
    "- 답안의 문제점"
   ]
  },
  {
   "cell_type": "code",
   "execution_count": null,
   "metadata": {},
   "outputs": [],
   "source": []
  },
  {
   "attachments": {},
   "cell_type": "markdown",
   "metadata": {},
   "source": [
    "\n",
    "책의 답안\n",
    "- 답안의 특징"
   ]
  },
  {
   "cell_type": "code",
   "execution_count": null,
   "metadata": {},
   "outputs": [],
   "source": [
    "from collections import deque\n",
    "N, M = map (int, input().split())\n",
    "A = [[] for _ in range(N+1)]\n",
    "indegree = [0] * (N + 1)\n",
    "\n",
    "\n",
    "for i in range(M):\n",
    "    S, E = map(int, input().split())\n",
    "    A[S].append(E)\n",
    "    indegree[E] += 1    # 진입차수 데이터 저장\n",
    "\n",
    "queue = deque()\n",
    "\n",
    "for i in range(1, N + 1):\n",
    "    if indegree[i] == 0 :\n",
    "        queue.append(i)\n",
    "\n",
    "while queue:\n",
    "    now = queue.popleft()\n",
    "    print(now, end = ' ')\n",
    "    for next in A[now]:\n",
    "        indegree[next] -= 1\n",
    "        if indegree[next] == 0 :\n",
    "            queue.append(next)"
   ]
  },
  {
   "attachments": {},
   "cell_type": "markdown",
   "metadata": {},
   "source": [
    "개선 답안"
   ]
  },
  {
   "cell_type": "code",
   "execution_count": null,
   "metadata": {},
   "outputs": [],
   "source": []
  }
 ],
 "metadata": {
  "kernelspec": {
   "display_name": "Python 3",
   "language": "python",
   "name": "python3"
  },
  "language_info": {
   "name": "python",
   "version": "3.11.2 (tags/v3.11.2:878ead1, Feb  7 2023, 16:38:35) [MSC v.1934 64 bit (AMD64)]"
  },
  "orig_nbformat": 4,
  "vscode": {
   "interpreter": {
    "hash": "a3d8f53f1429d27b792a3789224562ddd32c1395c9a9cfbb17b3c19c3b9a493d"
   }
  }
 },
 "nbformat": 4,
 "nbformat_minor": 2
}
