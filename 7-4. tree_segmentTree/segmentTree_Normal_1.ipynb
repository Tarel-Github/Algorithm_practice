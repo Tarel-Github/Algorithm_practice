{
 "cells": [
  {
   "attachments": {},
   "cell_type": "markdown",
   "metadata": {},
   "source": [
    "#### 구간합 (세그먼트 트리) 연습이 필요함\n",
    "세그먼트 트리는 주어진 데이터의 구간합과 데이터 업데이트를 빠르게 하기 위한 자료구조다.  \n",
    "세그먼트 트리의 종류는 구간합, 최대, 최소구하기로 나눌 수 있다.  \n",
    "구현 단계는 트리초기화 -> 질의값 -> 데이터 업데이트로 나눌 수 있다.  \n",
    "  \n",
    "N개 수가 있는데 중간 수의 변경이 빈번하고 그 중간의 어떤 부분의 합을 구해야한다.  \n",
    "\n",
    "##### 입력예시\n",
    "5 2 2  <-- 노드수, 변경횟수, 구간합 횟수  \n",
    "1  \n",
    "2  \n",
    "3  \n",
    "4  \n",
    "5     <-- 노드 수만큼 입력 받음  \n",
    "1 3 6    <-- 1을 입력 받으면 3 번째 수를 6으로 바꿈\n",
    "2 2 5    <-- 2를 입력 받으면 2 번째부터 5번째까지 구간합을 구해서 출력   \n",
    "1 5 2  \n",
    "2 3 5  \n",
    "\n",
    "##### 출력예시\n",
    "17  \n",
    "12  "
   ]
  },
  {
   "attachments": {},
   "cell_type": "markdown",
   "metadata": {},
   "source": [
    "내 첫번째 답안\n",
    "- 답안의 문제점"
   ]
  },
  {
   "cell_type": "code",
   "execution_count": null,
   "metadata": {},
   "outputs": [],
   "source": []
  },
  {
   "attachments": {},
   "cell_type": "markdown",
   "metadata": {},
   "source": [
    "\n",
    "책의 답안\n",
    "- 답안의 특징"
   ]
  },
  {
   "cell_type": "code",
   "execution_count": null,
   "metadata": {},
   "outputs": [],
   "source": [
    "# 임포트\n",
    "import sys\n",
    "input = sys.stdin.readlines\n",
    "\n",
    "# 자료입력\n",
    "N, M, K = map(int, input().split())         # 노드개수,  변경횟수, 구간합 횟수\n",
    "treeHeight = 0                              # 트리 높이는 일단 0\n",
    "length = N                                  # 트리 높이를 구하기 위한 임시 값\n",
    "\n",
    "# 트리 높이값을 완성시키기 위한 반복문\n",
    "while length != 0:              # length가 0이 될 때까지\n",
    "    length //= 2                # length를 2로 나눔 (소숫점 버림)\n",
    "    treeHeight += 1             # 트리 높이를 1씩 증가\n",
    "\n",
    "# 트리의 크기는 \n",
    "treeSize = pow(2, treeHeight)   # 거듭제곱을 반환, 예를 들어 pow(2, 3)은 2의 3승, 즉 8을 반환\n",
    "leftNodeStartIndex = treeSize // 2 -1   # 왼쪽 노드 시작인덱스로 가장 왼쪽 끝에 있는 노드의 인덱스값\n",
    "tree = [0] * (treeSize + 1)     # 트리 초기화, 트리 크기 + 1만큼 배열 생성, [0,0,0,0,0....] 0번 인덱스는 안씀\n",
    "\n",
    "for i in range(leftNodeStartIndex + 1, leftNodeStartIndex + N + 1):\n",
    "    tree[i] = int(input())\n",
    "\n",
    "# 트리 완성 함수\n",
    "def setTree(i):\n",
    "    while i != 1:\n",
    "        tree[i //2 ] += tree[i]\n",
    "        i -= 1\n",
    "\n",
    "setTree(treeSize - 1)\n",
    "\n",
    "# 노드값 변경 함수\n",
    "def changeVal(index, value):\n",
    "    diff = value - tree[index]\n",
    "    while index > 0:\n",
    "        tree[index] = tree[index] + diff\n",
    "        index = index // 2\n",
    "\n",
    "# 구간합을 구하는 함수\n",
    "def getSum(s, e):\n",
    "    partSum = 0\n",
    "    while s <= e:\n",
    "        if s% 2 == 1:\n",
    "            partSum += tree[s]\n",
    "            s += 1\n",
    "        if e%2 ==0:\n",
    "            partSum += tree[e]\n",
    "            e -= 1\n",
    "        s = s//2\n",
    "        e=e//2\n",
    "    return partSum\n",
    "\n",
    "# 질문에 대한 답을 처리하는 부분\n",
    "for _ in range(M + K):\n",
    "    question, s, e = map(int, input().split())\n",
    "    if question == 1:\n",
    "        changeVal(leftNodeStartIndex + s, e)\n",
    "    elif question == 2:\n",
    "        s = s + leftNodeStartIndex\n",
    "        e = e + leftNodeStartIndex\n",
    "        print(getSum(s, e))\n"
   ]
  },
  {
   "attachments": {},
   "cell_type": "markdown",
   "metadata": {},
   "source": [
    "개선 답안"
   ]
  },
  {
   "cell_type": "code",
   "execution_count": null,
   "metadata": {},
   "outputs": [],
   "source": []
  }
 ],
 "metadata": {
  "kernelspec": {
   "display_name": "Python 3",
   "language": "python",
   "name": "python3"
  },
  "language_info": {
   "name": "python",
   "version": "3.11.2 (tags/v3.11.2:878ead1, Feb  7 2023, 16:38:35) [MSC v.1934 64 bit (AMD64)]"
  },
  "orig_nbformat": 4,
  "vscode": {
   "interpreter": {
    "hash": "a3d8f53f1429d27b792a3789224562ddd32c1395c9a9cfbb17b3c19c3b9a493d"
   }
  }
 },
 "nbformat": 4,
 "nbformat_minor": 2
}
