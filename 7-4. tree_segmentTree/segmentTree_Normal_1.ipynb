{
 "cells": [
  {
   "attachments": {},
   "cell_type": "markdown",
   "metadata": {},
   "source": [
    "#### 문제 (세그먼트 트리)\n",
    "\n",
    "문제 내용\n",
    "\n",
    "##### 입력예시\n",
    "\n",
    "\n",
    "##### 출력예시\n"
   ]
  },
  {
   "attachments": {},
   "cell_type": "markdown",
   "metadata": {},
   "source": [
    "내 첫번째 답안\n",
    "- 답안의 문제점"
   ]
  },
  {
   "cell_type": "code",
   "execution_count": null,
   "metadata": {},
   "outputs": [],
   "source": []
  },
  {
   "attachments": {},
   "cell_type": "markdown",
   "metadata": {},
   "source": [
    "\n",
    "책의 답안\n",
    "- 답안의 특징"
   ]
  },
  {
   "cell_type": "code",
   "execution_count": null,
   "metadata": {},
   "outputs": [],
   "source": [
    "import sys\n",
    "input = sys.stdin.readlines\n",
    "N, M, K = map(int, input().split())\n",
    "treeHeight = 0\n",
    "length = N\n",
    "\n",
    "while length != 0:\n",
    "    length //= 2\n",
    "    treeHeight += 1\n",
    "\n",
    "treeSize = pow(2, treeHeight)\n",
    "leftNodeStartIndex = treeSize // 2 -1\n",
    "tree = [0] * (treeSize + 1)\n",
    "\n",
    "for i in range(leftNodeStartIndex + 1, leftNodeStartIndex + N + 1):\n",
    "    tree[i] = int(input())\n",
    "\n",
    "def setTree(i):\n",
    "    while i != 1:\n",
    "        tree[i //2 ] += tree[i]\n",
    "        i -= 1\n",
    "\n",
    "setTree(treeSize - 1)\n",
    "\n",
    "def changeVal(index, value):\n",
    "    diff = value - tree[index]\n",
    "    while index > 0:\n",
    "        tree[index] = tree[index] + diff\n",
    "        index = index // 2\n",
    "    \n",
    "def getSum(s, e):\n",
    "    partSum = 0\n",
    "    while s <= e:\n",
    "        if s% 2 == 1:\n",
    "            partSum += tree[s]\n",
    "            s += 1\n",
    "        if e%2 ==0:\n",
    "            partSum += tree[e]\n",
    "            e -= 1\n",
    "        s = s//2\n",
    "        e=e//2\n",
    "    return partSum\n",
    "\n",
    "for _ in range(M + K):\n",
    "    question, s, e = map(int, input().split())\n",
    "    if question == 1:\n",
    "        changeVal(leftNodeStartIndex + s, e)\n",
    "    elif question == 2:\n",
    "        s = s + leftNodeStartIndex\n",
    "        e = e + leftNodeStartIndex\n",
    "        print(getSum(s, e))\n",
    "\n"
   ]
  },
  {
   "attachments": {},
   "cell_type": "markdown",
   "metadata": {},
   "source": [
    "개선 답안"
   ]
  },
  {
   "cell_type": "code",
   "execution_count": null,
   "metadata": {},
   "outputs": [],
   "source": []
  }
 ],
 "metadata": {
  "kernelspec": {
   "display_name": "Python 3",
   "language": "python",
   "name": "python3"
  },
  "language_info": {
   "name": "python",
   "version": "3.11.2 (tags/v3.11.2:878ead1, Feb  7 2023, 16:38:35) [MSC v.1934 64 bit (AMD64)]"
  },
  "orig_nbformat": 4,
  "vscode": {
   "interpreter": {
    "hash": "a3d8f53f1429d27b792a3789224562ddd32c1395c9a9cfbb17b3c19c3b9a493d"
   }
  }
 },
 "nbformat": 4,
 "nbformat_minor": 2
}
