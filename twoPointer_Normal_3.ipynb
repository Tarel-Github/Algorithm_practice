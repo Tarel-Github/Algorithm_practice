{
 "cells": [
  {
   "attachments": {},
   "cell_type": "markdown",
   "metadata": {},
   "source": [
    "#### 문제 (투 포인터)\n",
    "\n",
    "N개의 수가 입력된다.  \n",
    "이 숫자들 안에서, 어떤 숫자든지 다른 두 수의 합으로 표현되는 수가 있다면 그 수를  \n",
    "좋은 수라고 정의한다.  \n",
    "이때 좋은 수가 몇 개인지 출력하시오.  \n",
    "\n",
    "##### 입력예시\n",
    "10  \n",
    "1 2 3 4 5 6 7 8 9 10  \n",
    "\n",
    "##### 출력예시\n",
    "8  \n"
   ]
  },
  {
   "attachments": {},
   "cell_type": "markdown",
   "metadata": {},
   "source": [
    "내 첫번째 답안\n",
    "- 답안의 문제점"
   ]
  },
  {
   "cell_type": "code",
   "execution_count": null,
   "metadata": {},
   "outputs": [],
   "source": [
    "n = int(input())\n",
    "A = list(map(int, (input().split())))\n",
    "\n",
    "A.sort()\n",
    "count = 0\n",
    "i = 0\n",
    "j = n-1 # 끝부분 인덱스가 마지막 번호에서 시작\n",
    "tg = 0\n",
    "\n",
    "while tg < n:\n",
    "    if A[i] + A[j] > A[tg]:\n",
    "        j -= 1\n",
    "    elif A[i] + A[j] < A[tg]:\n",
    "        i += 1\n",
    "    else:   # 정답인 경우\n",
    "        tg += 1\n",
    "        count += 1\n",
    "        i = 0\n",
    "        j = n-1\n",
    "    \n",
    "    if j == 0:  # 없는 경우\n",
    "        tg += 1\n",
    "        i = 0\n",
    "        j = n-1\n",
    "\n",
    "print(count)"
   ]
  },
  {
   "attachments": {},
   "cell_type": "markdown",
   "metadata": {},
   "source": [
    "\n",
    "책의 답안\n",
    "- 답안의 특징"
   ]
  },
  {
   "cell_type": "code",
   "execution_count": null,
   "metadata": {},
   "outputs": [],
   "source": []
  },
  {
   "attachments": {},
   "cell_type": "markdown",
   "metadata": {},
   "source": [
    "개선 답안"
   ]
  },
  {
   "cell_type": "code",
   "execution_count": null,
   "metadata": {},
   "outputs": [],
   "source": []
  }
 ],
 "metadata": {
  "kernelspec": {
   "display_name": "Python 3",
   "language": "python",
   "name": "python3"
  },
  "language_info": {
   "name": "python",
   "version": "3.11.2 (tags/v3.11.2:878ead1, Feb  7 2023, 16:38:35) [MSC v.1934 64 bit (AMD64)]"
  },
  "orig_nbformat": 4,
  "vscode": {
   "interpreter": {
    "hash": "a3d8f53f1429d27b792a3789224562ddd32c1395c9a9cfbb17b3c19c3b9a493d"
   }
  }
 },
 "nbformat": 4,
 "nbformat_minor": 2
}
