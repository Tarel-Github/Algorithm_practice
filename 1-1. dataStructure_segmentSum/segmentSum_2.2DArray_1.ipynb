{
 "cells": [
  {
   "attachments": {},
   "cell_type": "markdown",
   "metadata": {},
   "source": [
    "#### 2D 리스트 구간합 (구간합)\n",
    "\n",
    "N * N개의 수가 N * N 크기의 표에 채워져 있다.  \n",
    "이 중 (X1, Y1)에서 (X2, Y2)까지 더하는 알고리즘을 작성해보자\n",
    "\n",
    "##### 입력예시\n",
    "4 3&nbsp;&nbsp;&nbsp;&nbsp;&nbsp;<-- 2차원 배열의 크기와 구간합 질문의 수  \n",
    "1 2 3 4&nbsp;&nbsp;&nbsp;&nbsp;<-- 배열 1번째 줄  \n",
    "2 3 4 5  \n",
    "3 4 5 6  \n",
    "4 5 6 7&nbsp;&nbsp;&nbsp;&nbsp;<-- 배열 마지막 줄  \n",
    "2 2 3 4&nbsp;&nbsp;&nbsp;&nbsp;<-- 여기서 부터 질의, (2, 2) 부터 (3, 4) 까지 더함  \n",
    "3 4 3 4  \n",
    "1 1 4 4  \n",
    "\n",
    "##### 출력예시\n",
    "27  \n",
    "6  \n",
    "64  "
   ]
  },
  {
   "attachments": {},
   "cell_type": "markdown",
   "metadata": {},
   "source": [
    "내 답안\n",
    "- 2차원 배열을 만들때는 배열의 크기+1 만큼 만드는 것이 좋다.\n",
    "- 2차원 배열의 구간합은 2차원 배열이 가지는 특징을 이용해야 한다.\n",
    "- 주어진 2차원 배열을 2차원 합배열로 만든 다음, 그 합배열을 이용해서 구간합을 구해야 한다."
   ]
  },
  {
   "cell_type": "code",
   "execution_count": null,
   "metadata": {},
   "outputs": [],
   "source": [
    "n, m = list(map(int, input().split()))\n",
    "A = [[0]* (n + 1)]\n",
    "D = [[0]* (n + 1) for i in range(n + 1)]\n",
    "#[0]* (n + 1) 이건 [0]을 (n+1)만큼 넣으라는 의미, 즉 [0 ,0 ...., n]이 된다.\n",
    "# n은 배열의 크기, m은 질문의 수가 된다.\n",
    "\n",
    "a = []\n",
    "for i in range(0, n + 1):\n",
    "    a.append(i)\n",
    "D[0] = a\n",
    "# 첫번째 행을 0, 1, 2, 3, 4~로 채운다\n",
    "\n",
    "for i in range(n):\n",
    "    A_row = [i] + list(map(int, input().split()))\n",
    "    D[i+1] = A_row\n",
    "# 2차원 배열을 완성\n",
    "\n",
    "for i in range(1, n+1):\n",
    "    for j in range(1, n+1):\n",
    "        D[i][j] = D[i][j-1] + D[i-1][j] - D[i-1][j-1] + A[i][j]\n",
    "# 2차원 합배열을 완성\n",
    "\n",
    "for _ in range(m):\n",
    "    x1, y1, x2, y2 = list(map(int, input().split()))\n",
    "    result = D[x2][y2] - D[x1-1][y2] - D[x2][y1-1] + D[x1-1][y1-1]\n",
    "    print(result)\n",
    "# 질문을 받으면 해석"
   ]
  },
  {
   "attachments": {},
   "cell_type": "markdown",
   "metadata": {},
   "source": [
    "\n",
    "책의 답안\n",
    "- 답안의 특징"
   ]
  },
  {
   "cell_type": "code",
   "execution_count": null,
   "metadata": {},
   "outputs": [],
   "source": [
    "# 임포트\n",
    "import sys\n",
    "input = sys.stdin.readline\n",
    "\n",
    "# 리스트의 크기와 질의 수를 입력\n",
    "n, m = map(int, input().split())\n",
    "\n",
    "'''\n",
    "아래 A는 만약 n이 5면 다음과 같이 나온다. 보시다시피 한 칸 더 나온다.\n",
    "A = [[0, 0, 0, 0, 0, 0]]\n",
    "\n",
    "D 는 아래와 같이 나온다. 마찬가지로, 행렬 각각 한 칸 더 나온다.\n",
    "[[0, 0, 0, 0, 0, 0],\n",
    " [0, 0, 0, 0, 0, 0],\n",
    " [0, 0, 0, 0, 0, 0],\n",
    " [0, 0, 0, 0, 0, 0],\n",
    " [0, 0, 0, 0, 0, 0],\n",
    " [0, 0, 0, 0, 0, 0]]\n",
    "\n",
    "'''\n",
    "A = [[0] * ( n + 1 )]\n",
    "D = [[0] * ( n + 1 ) for _ in range(n+1)]           # [[0] * ( n + 1 )] * (n + 1) 이렇게 적어도 됌\n",
    "\n",
    "# 각 배열들의 요소를 입력받아서 2차원 배열을 완성하기 위한 부분\n",
    "for i in range(n):\n",
    "    A_row = [0] + [int(x) for x in input().split()]\n",
    "    A.append(A_row)\n",
    "\n",
    "# 이곳이 핵심, 2차원 합배열을 완성하는 반복문이다.\n",
    "for i in range(1, n + 1):\n",
    "    for j in range(1, n + 1):\n",
    "        D[i][j] = D[i][j - 1] + D[i-1][j] - D[i-1][j-1] + A[i][j]\n",
    "\n",
    "# 어디서부터 어디까지 더할지를 입력받는다.\n",
    "for i in range(m):\n",
    "    x1, y1, x2, y2 = map(int, input().split())\n",
    " \n",
    "    result = D[x2][y2] - D[x1-1][y2] - D[x2][y1-1] + D[x1 - 1][y1 - 1]\n",
    "    print(result)"
   ]
  }
 ],
 "metadata": {
  "kernelspec": {
   "display_name": "Python 3",
   "language": "python",
   "name": "python3"
  },
  "language_info": {
   "name": "python",
   "version": "3.11.2 (tags/v3.11.2:878ead1, Feb  7 2023, 16:38:35) [MSC v.1934 64 bit (AMD64)]"
  },
  "orig_nbformat": 4,
  "vscode": {
   "interpreter": {
    "hash": "a3d8f53f1429d27b792a3789224562ddd32c1395c9a9cfbb17b3c19c3b9a493d"
   }
  }
 },
 "nbformat": 4,
 "nbformat_minor": 2
}
