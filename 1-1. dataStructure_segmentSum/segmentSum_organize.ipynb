{
 "cells": [
  {
   "attachments": {},
   "cell_type": "markdown",
   "metadata": {},
   "source": [
    "## SegmentSum"
   ]
  },
  {
   "attachments": {},
   "cell_type": "markdown",
   "metadata": {},
   "source": [
    "___\n",
    "### 필수 코드\n",
    "import sys  \n",
    "input = sys.stdin.readlines  \n",
    "코드의 시간 복잡도를 낮추기 위해서 사용  \n",
    "___"
   ]
  },
  {
   "attachments": {},
   "cell_type": "markdown",
   "metadata": {},
   "source": [
    "### Normal"
   ]
  },
  {
   "attachments": {},
   "cell_type": "markdown",
   "metadata": {},
   "source": [
    "배열을 입력 받으면 그 배열을 바탕으로 합 배열을 만들어 준다.  \n",
    "temp = temp + i같은 식으로 입력 받은 배열과는 별개의 배열을 만들고  \n",
    "e에서 s까지의 배열합을 구한다면 합배열의 s인덱스 값 - e 인덱스 값으로 구할 수 있다.  "
   ]
  },
  {
   "attachments": {},
   "cell_type": "markdown",
   "metadata": {},
   "source": [
    "--- "
   ]
  },
  {
   "attachments": {},
   "cell_type": "markdown",
   "metadata": {},
   "source": [
    "### 2DArray"
   ]
  },
  {
   "attachments": {},
   "cell_type": "markdown",
   "metadata": {},
   "source": [
    "#### 1. 합배열 만들기  \n",
    "입력받은 배열과 별개인 새로운 배열을 만들어야 하며 이를 <b>합배열</b>이라고 한다.  \n",
    "예를 들어, 4 * 4 크기의 배열이라면 왼쪽과 위쪽으로 한 단계 증설하고 해당 위치에  \n",
    "가로와 세로로 1, 2, 3, 4 를 추가한다.  \n",
    "  \n",
    "기존 배열을 A, 합배열을 D라고 할때  \n",
    "★첫번째 가로줄은 <b>자신의 바로 왼쪽 D배열값과 A배열의 자신의 값을 더한 값</b>을 넣는다. \n",
    "★첫번째 세로줄은 <b>자신의 바로 윗쪽 D배열값과 A배열의 자신의 값을 더한 값</b>을 넣는다.  \n",
    "\n",
    "★이후 2번째 ~ 마지막 가로줄과 세로줄은  \n",
    "<b>자신의 바로 윗칸 D값과 왼쪽 D값을 곱한 후 왼쪽윗칸 D값을 빼고 자신과 같은 칸의 A값을 더한다.</b>  \n",
    "  \n",
    "  \n",
    "이를 식으로 나타내면 다음과 같다.  \n",
    "첫 줄 가로줄 계산 => D[1][j] = D[1][j-1] + A[1][j]  \n",
    "첫 줄 세로줄 계산 => D[i][1] = D[i-1][1] + A[i][1]  \n",
    "이후 계산 => D[i][j] = D[i][j-1] + D[i-1][j] - D[i-1][j-1] + A[i][j]  \n",
    "  \n",
    "#### 2. 어디서부터 어디까지 더하는가?\n",
    "예를 들어 시작점 ~ 끝점 까지 더한다고 가정해보자  \n",
    "(이때, 시작점의 인덱스가 끝점보다 크다.)  \n",
    "그 두 개를 기점으로 한 사각형을 만들고 왼쪽과 윗쪽으로 한칸씩 연장한다.  \n",
    "그리고 왼쪽위와 오른쪽 아래의 D값을 서로 더하고, 그 값에 왼쪽 아래 값을 빼고 오른쪽 위 값을 뺀다.  \n",
    "\n",
    "이를 식으로 나타내면 다음과 같다.  \n",
    "D[X2][Y2] - D[X1-1][Y2] - D[X2][Y1-1] + D[X1-1][Y1-1]\n",
    "\n",
    "#### 정리\n",
    "먼저 입력받은 배열의 윗쪽과 왼쪽이 1, 2, 3, 4....로 채워진 형태의 배열로 만든다.\n",
    "그 다음  D[i][j] = D[i][j-1] + D[i-1][j] - D[i-1][j-1] + A[i][j] 식을 사용해  \n",
    "첫 줄부터 순차적으로 2차원 합배열을 완성한다.  \n",
    "D[x2][y2] - D[x1-1][y2] - D[x2][y1-1] + D[x1-1][y1-1] 식을 이용하여  \n",
    "구간합 문제를 해결한다.\n",
    "\n",
    "\n"
   ]
  },
  {
   "attachments": {},
   "cell_type": "markdown",
   "metadata": {},
   "source": [
    "___"
   ]
  },
  {
   "attachments": {},
   "cell_type": "markdown",
   "metadata": {},
   "source": [
    "### ModularSumOperation\n",
    "나머지 합 연산  \n",
    "구간합의 응용이다.  \n",
    "합배열을 만들고, 그 합배열을 바탕으로 배열 C를 완성해야 한다.    \n",
    "  \n",
    "배열 C의 역할은 나머지값이 n인것이 몇 개인지를 기록한다. 예를 들어, 나머지가 0인 경우가 2개라면  \n",
    "0번 인덱스의 값이 2가 되는 이런식이다.  \n",
    "  \n",
    "그 다음 나머지가 0인 경우가 몇 개인지 구하고  \n",
    "나머지가 1 이상인 것들의 합을 구한다."
   ]
  }
 ],
 "metadata": {
  "kernelspec": {
   "display_name": "Python 3",
   "language": "python",
   "name": "python3"
  },
  "language_info": {
   "name": "python",
   "version": "3.11.2 (tags/v3.11.2:878ead1, Feb  7 2023, 16:38:35) [MSC v.1934 64 bit (AMD64)]"
  },
  "orig_nbformat": 4,
  "vscode": {
   "interpreter": {
    "hash": "a3d8f53f1429d27b792a3789224562ddd32c1395c9a9cfbb17b3c19c3b9a493d"
   }
  }
 },
 "nbformat": 4,
 "nbformat_minor": 2
}
