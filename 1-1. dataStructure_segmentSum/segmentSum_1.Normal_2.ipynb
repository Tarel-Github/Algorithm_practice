{
 "cells": [
  {
   "attachments": {},
   "cell_type": "markdown",
   "metadata": {},
   "source": [
    "#### 평균 구하기 (구간합)\n",
    "아래 예시처럼 입력을 두 번 받음\n",
    "첫 번째 입력은 두 번째 입력의 길이와 같은 개념, 즉 공백 포함 숫자 집합이 3이면 3이 되는것\n",
    "\n",
    "두 번째 입력 요소들을 \"두 번째 입력 요소들 가운데 가장 큰 값 * 100\" 으로 나눈 다음\n",
    "그 평균 값을 구할 것\n",
    "\n",
    "##### 입력예시\n",
    "3\n",
    "\n",
    "20 30 40\n",
    "\n",
    "##### 출력예시\n",
    "75.0"
   ]
  },
  {
   "attachments": {},
   "cell_type": "markdown",
   "metadata": {},
   "source": [
    "내 답안\n",
    "- 높은 반복문 의존"
   ]
  },
  {
   "cell_type": "code",
   "execution_count": null,
   "metadata": {},
   "outputs": [],
   "source": [
    "n = input()\n",
    "score = input().split(' ')\n",
    "score.sort()\n",
    "newScore = []\n",
    "top = int(score[-1])\n",
    "ans = 0\n",
    "for i in score:\n",
    "    newScore.append(int(i) / top * 100)\n",
    "    print(newScore)\n",
    "for i in newScore:\n",
    "    ans += i\n",
    "\n",
    "print(ans/len(score))"
   ]
  },
  {
   "attachments": {},
   "cell_type": "markdown",
   "metadata": {},
   "source": [
    "\n",
    "책의 답안\n",
    "- 반복문이 사용되지 않았음"
   ]
  },
  {
   "cell_type": "code",
   "execution_count": 1,
   "metadata": {},
   "outputs": [
    {
     "name": "stdout",
     "output_type": "stream",
     "text": [
      "75.0\n"
     ]
    }
   ],
   "source": [
    "n = input()\n",
    "mylist = list(map(int, input().split()))\n",
    "mymax= max(mylist)\n",
    "sum = sum(mylist)\n",
    "print(sum * 100 / mymax / int(n))"
   ]
  },
  {
   "attachments": {},
   "cell_type": "markdown",
   "metadata": {},
   "source": [
    "코드를 조금 더 줄였음"
   ]
  },
  {
   "cell_type": "code",
   "execution_count": null,
   "metadata": {},
   "outputs": [],
   "source": [
    "n = int(input())\n",
    "mylist = list(map(int, input().split()))\n",
    "maxValue = max(mylist)\n",
    "print((sum(mylist)* 100/ maxValue) / n )"
   ]
  }
 ],
 "metadata": {
  "kernelspec": {
   "display_name": "Python 3",
   "language": "python",
   "name": "python3"
  },
  "language_info": {
   "codemirror_mode": {
    "name": "ipython",
    "version": 3
   },
   "file_extension": ".py",
   "mimetype": "text/x-python",
   "name": "python",
   "nbconvert_exporter": "python",
   "pygments_lexer": "ipython3",
   "version": "3.11.2 (tags/v3.11.2:878ead1, Feb  7 2023, 16:38:35) [MSC v.1934 64 bit (AMD64)]"
  },
  "orig_nbformat": 4,
  "vscode": {
   "interpreter": {
    "hash": "a3d8f53f1429d27b792a3789224562ddd32c1395c9a9cfbb17b3c19c3b9a493d"
   }
  }
 },
 "nbformat": 4,
 "nbformat_minor": 2
}
