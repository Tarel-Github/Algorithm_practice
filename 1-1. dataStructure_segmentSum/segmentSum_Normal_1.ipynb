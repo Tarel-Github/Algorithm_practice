{
 "cells": [
  {
   "attachments": {},
   "cell_type": "markdown",
   "metadata": {},
   "source": [
    "#### 구간합 기본 (구간합)\n",
    "파이썬에서, 배열과 리스트는 따로 구분하지 않지만 두 개는 엄연히 다르다.  \n",
    "\n",
    "##### 배열\n",
    "배열은 메모리 연속공간에 값이 채워져 있는 형태이다.  \n",
    "인덱스를 통해 접근하며 새로운 값을 중간에 삽입하면 그 이후 값의 인덱스가  \n",
    "전부 수정되기 때문에 새로운 값을 삽입&삭제 하기 어렵다.  \n",
    "한 번 선언하면 크기를 늘리거나 줄일 수 없다.  \n",
    "구조가 간단해서 많이 사용된다.\n",
    "\n",
    "##### 리스트\n",
    "값과 포인터를 묶은 노드라는 것을 포인터로 연결한 것  \n",
    "각 노드는 자신의 앞 노드와 뒷 노드를 가리키는 포인터가 있다.  \n",
    "중간에 값을 삽입&삭제해도 앞뒤 노드의 포인터만 바꾸면 되기 때문에  \n",
    "중간에 값을 삽입&삭제하기 편리하다.  \n",
    "그러나 인덱스가 없어서 값에 접근하려면 맨 처음 노드부터 순차적으로  \n",
    "접근해야 한다. 즉, 값에 접근하는 속도가 느리다.  \n",
    "또, 선언할 때 크기가 정해져 있지 않다.  \n",
    "즉, 크기가 변하기 쉬운 데이터를 다룰 때 적합하다.  \n",
    "그러나 포인터 저장 공간이 따로 필요하기 때문에 배열보다 구조가 복잡하다.  \n",
    "\n",
    "##### 문제\n",
    "N개의 숫자가 공백 없이 써 있을 떄, 이 숫자를 모두 합해 출력하는 프로그램을 작성  \n",
    "\n",
    "##### 입력예시\n",
    "5  \n",
    "54321  \n",
    "\n",
    "##### 출력예시\n",
    "15  "
   ]
  },
  {
   "attachments": {},
   "cell_type": "markdown",
   "metadata": {},
   "source": [
    "내 첫번째 답안\n",
    "- 높은 반복문 의존"
   ]
  },
  {
   "cell_type": "code",
   "execution_count": null,
   "metadata": {},
   "outputs": [],
   "source": []
  },
  {
   "attachments": {},
   "cell_type": "markdown",
   "metadata": {},
   "source": [
    "책의 답안\n",
    "- ㅇ"
   ]
  },
  {
   "cell_type": "code",
   "execution_count": null,
   "metadata": {},
   "outputs": [],
   "source": [
    "n = input()\n",
    "numbers= list(input())\n",
    "sum = 0\n",
    "\n",
    "for i in numbers:\n",
    "    sum = sum + int(i)\n",
    "\n",
    "print(sum)"
   ]
  },
  {
   "attachments": {},
   "cell_type": "markdown",
   "metadata": {},
   "source": [
    "개선 답안"
   ]
  },
  {
   "cell_type": "code",
   "execution_count": null,
   "metadata": {},
   "outputs": [],
   "source": []
  }
 ],
 "metadata": {
  "kernelspec": {
   "display_name": "Python 3",
   "language": "python",
   "name": "python3"
  },
  "language_info": {
   "name": "python",
   "version": "3.11.2 (tags/v3.11.2:878ead1, Feb  7 2023, 16:38:35) [MSC v.1934 64 bit (AMD64)]"
  },
  "orig_nbformat": 4,
  "vscode": {
   "interpreter": {
    "hash": "a3d8f53f1429d27b792a3789224562ddd32c1395c9a9cfbb17b3c19c3b9a493d"
   }
  }
 },
 "nbformat": 4,
 "nbformat_minor": 2
}
