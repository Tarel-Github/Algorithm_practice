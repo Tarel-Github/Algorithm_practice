{
 "cells": [
  {
   "attachments": {},
   "cell_type": "markdown",
   "metadata": {},
   "source": [
    "#### 문제 (구간합)\n",
    "숫자 N개 만큼, 질문이 M개 만큼 주어지고 N개만큼의 숫자를 받는다.\n",
    "이후, A B 를 입력 받는데, 숫자 N개들 중 A번째부터 B번째까지 더하는 과정을 M번 수행하는 알고리즘을 작성\n",
    "\n",
    "##### 입력예시\n",
    "5 3 &nbsp;&nbsp;&nbsp;&nbsp;&nbsp;       <--숫자의 수, 질문의 수  \n",
    "5 4 3 2 1<br>\n",
    "1 3 &nbsp;&nbsp;&nbsp;&nbsp;&nbsp;       <--질문 1, 1에서 3번째까지 수를 더하기  \n",
    "2 4 <br>\n",
    "5 5 <br>\n",
    "\n",
    "##### 출력예시\n",
    "12  &nbsp;&nbsp;&nbsp;&nbsp;&nbsp;       <--1번 질문에 대한 답   \n",
    "9  \n",
    "1  \n"
   ]
  },
  {
   "attachments": {},
   "cell_type": "markdown",
   "metadata": {},
   "source": [
    "내 답안"
   ]
  },
  {
   "cell_type": "code",
   "execution_count": 1,
   "metadata": {},
   "outputs": [
    {
     "name": "stdout",
     "output_type": "stream",
     "text": [
      "12\n",
      "9\n",
      "1\n"
     ]
    }
   ],
   "source": [
    "n = list(map(int, input().split()))\n",
    "target =list(map(int, input().split()))\n",
    "\n",
    "sum = 0\n",
    "for j in range(n[1]):\n",
    "    porpose = list(map(int, input().split()))\n",
    "    for i in range(porpose[0]-1, porpose[1]):\n",
    "        sum += target[i]\n",
    "    print(sum)\n",
    "    sum = 0"
   ]
  },
  {
   "attachments": {},
   "cell_type": "markdown",
   "metadata": {},
   "source": [
    "\n",
    "책의 답안\n",
    "- 입력받은 배열을 기반으로 새로운 합배열을 만든다.\n",
    "- 예를 들어, 5번부터 3번까지 더한다면 합배열의 5번 값과 3번값을 빼면 된다."
   ]
  },
  {
   "cell_type": "code",
   "execution_count": 1,
   "metadata": {},
   "outputs": [],
   "source": [
    "# 임포트\n",
    "import sys\n",
    "input = sys.stdin.readlines\n",
    "\n",
    "# 숫자 수와 질의 수를 입력\n",
    "suNo, quizNo = map(int, input().split())\n",
    "\n",
    "# 숫자 배열을 입력\n",
    "numbers = list(map(int, input().split()))\n",
    "\n",
    "# 합배열로 사용할 리스트랑 합배열을 만들기 위한 보조 변수\n",
    "prefix_sum = [0]\n",
    "temp = 0\n",
    "\n",
    "# 합배열을 만든다.\n",
    "for i in numbers:\n",
    "    temp = temp + i\n",
    "    prefix_sum.append(temp)\n",
    "\n",
    "# 번호를 입력받는다.\n",
    "# e에서 s까지의 배열합을 구한다면\n",
    "# 합배열의 해당 인덱스 값을 빼주면 된다.\n",
    "for i in range(quizNo):\n",
    "    s, e = map(int, input().split())\n",
    "    print(prefix_sum[e] - prefix_sum[s-1])"
   ]
  },
  {
   "attachments": {},
   "cell_type": "markdown",
   "metadata": {},
   "source": [
    "### 핵심\n",
    "합배열을 만든다는 것에 있다.  \n",
    "일단 합배열을 완성하면, 반복문을 추가로 쓸 필요 없이  \n",
    "이후에도 쉽게 배열합을 구할 수 있다."
   ]
  }
 ],
 "metadata": {
  "kernelspec": {
   "display_name": "Python 3",
   "language": "python",
   "name": "python3"
  },
  "language_info": {
   "codemirror_mode": {
    "name": "ipython",
    "version": 3
   },
   "file_extension": ".py",
   "mimetype": "text/x-python",
   "name": "python",
   "nbconvert_exporter": "python",
   "pygments_lexer": "ipython3",
   "version": "3.11.2"
  },
  "orig_nbformat": 4,
  "vscode": {
   "interpreter": {
    "hash": "a3d8f53f1429d27b792a3789224562ddd32c1395c9a9cfbb17b3c19c3b9a493d"
   }
  }
 },
 "nbformat": 4,
 "nbformat_minor": 2
}
