{
 "cells": [
  {
   "attachments": {},
   "cell_type": "markdown",
   "metadata": {},
   "source": [
    "#### 문제 (기수 정렬)\n",
    "\n",
    "기수정렬은 값을 비교하지 않는 정렬이다.  \n",
    "기수정렬은 시간 복잡도가 가장 짧은 정렬로 데이터가 클 수록 다른 알고리즘에 비해 빠르다.  \n",
    "  \n",
    "각 자리의 수를 기준으로, 일의 자리부터 높은 자리 숫자까지 순서대로 비교하는 방식이다.  \n",
    "먼저 일의 자리 숫자를 기준으로 정렬한 다음,  \n",
    "이후 십의 자리, 백의 자리, 천의 자리 등 높은 자리 숫자 순서대로 정렬한다.  \n",
    "\n",
    "\n",
    "\n",
    "##### 입력예시\n",
    "\n",
    "\n",
    "##### 출력예시\n"
   ]
  },
  {
   "attachments": {},
   "cell_type": "markdown",
   "metadata": {},
   "source": [
    "내 첫번째 답안\n",
    "- 답안의 문제점"
   ]
  },
  {
   "cell_type": "code",
   "execution_count": null,
   "metadata": {},
   "outputs": [],
   "source": []
  },
  {
   "attachments": {},
   "cell_type": "markdown",
   "metadata": {},
   "source": [
    "\n",
    "책의 답안\n",
    "- 생각보다 짧다."
   ]
  },
  {
   "cell_type": "code",
   "execution_count": null,
   "metadata": {},
   "outputs": [],
   "source": [
    "import sys\n",
    "input = sys.stdin.readline\n",
    "\n",
    "N = int(input())\n",
    "count =[0] * 10001\n",
    "\n",
    "for i in range(N):\n",
    "    count[int(input())] += 1\n",
    "\n",
    "for i in range(10001):\n",
    "    if count[i] != 0:\n",
    "        for _ in range(count[i]):\n",
    "            print(i)"
   ]
  },
  {
   "attachments": {},
   "cell_type": "markdown",
   "metadata": {},
   "source": [
    "개선 답안"
   ]
  },
  {
   "cell_type": "code",
   "execution_count": null,
   "metadata": {},
   "outputs": [],
   "source": []
  }
 ],
 "metadata": {
  "kernelspec": {
   "display_name": "Python 3",
   "language": "python",
   "name": "python3"
  },
  "language_info": {
   "name": "python",
   "version": "3.11.2 (tags/v3.11.2:878ead1, Feb  7 2023, 16:38:35) [MSC v.1934 64 bit (AMD64)]"
  },
  "orig_nbformat": 4,
  "vscode": {
   "interpreter": {
    "hash": "a3d8f53f1429d27b792a3789224562ddd32c1395c9a9cfbb17b3c19c3b9a493d"
   }
  }
 },
 "nbformat": 4,
 "nbformat_minor": 2
}
