{
 "cells": [
  {
   "attachments": {},
   "cell_type": "markdown",
   "metadata": {},
   "source": [
    "#### 문제 (깊이우선탐색)\n",
    "\n",
    "깊이 우선 탐색은 그래프 완전 탐색 기법 중 하나다.  \n",
    "시작노드에서 출발해서 탐색할 한 쪽 분기를 정해서 최대 깊이까지 탐색한 후, 다른쪽 분기를 탐색하는 알고리즘\n",
    "  \n",
    "엣지간의 중복과 방향은 없다.  \n",
    "노드의 개수와 엣지의 개수를 입력받고  \n",
    "이어진 노드가 무엇인지 입력받는다.  \n",
    "연결 요소의 개수를 구하시오.  \n",
    "연결 요소란, 노드간의 연결이 되어있지 않아 고립된 연결들의 수를 말한다.\n",
    "\n",
    "##### 입력예시\n",
    "6 5 <-- 노드의 개수, 엣지의 개수  \n",
    "1 2  \n",
    "2 5  \n",
    "5 1  \n",
    "3 4  \n",
    "4 6  \n",
    "##### 출력예시\n",
    "2"
   ]
  },
  {
   "attachments": {},
   "cell_type": "markdown",
   "metadata": {},
   "source": [
    "내 첫번째 답안\n",
    "- 답안의 문제점"
   ]
  },
  {
   "cell_type": "code",
   "execution_count": null,
   "metadata": {},
   "outputs": [],
   "source": []
  },
  {
   "attachments": {},
   "cell_type": "markdown",
   "metadata": {},
   "source": [
    "\n",
    "책의 답안\n",
    "- 답안의 특징"
   ]
  },
  {
   "cell_type": "code",
   "execution_count": null,
   "metadata": {},
   "outputs": [],
   "source": [
    "import sys\n",
    "sys.setrecursionlimit(10000)\n",
    "input = sys.stdin.readline\n",
    "\n",
    "n, m = map(int, input().split())    # 노드와 엣지의 수를 입력받는다.\n",
    "A = [[] for _ in range(n + 1)]      # 리스트 안에 노드 수 + 1 개만큼 추가로 빈 리스트를 만든다.\n",
    "visited = [False] * (n + 1)         # 위와 똑같이 만든다. 단, 안에 False가 있어야 한다.\n",
    "\n",
    "def DFS(v):\n",
    "    visited[v] = True   # 함수가 실행되었다는건 해당 요소에 방문을 했다는 뜻\n",
    "    for i in A[v]:      # A배열의 V번째 리스트의 요소를 빼서 i에 대입하며 반복\n",
    "        if not visited[i]:\n",
    "            DFS(i)\n",
    "\n",
    "for _ in range(m):\n",
    "    s, e = map(int, input().split())    # 뭐랑 뭐가 연결된 엣지인지 차례대로 입력받는다.\n",
    "    A[s].append(e)                      # A행렬의 s번째에 e가 대입된다.\n",
    "    A[e].append(s)                      # 반대로도 적용한다. \n",
    "                        # 이걸 반복하면 s번째 노드는 e와 연결되어 있다는 데이터가 담긴 배열이 완성된다.\n",
    "print(A)\n",
    "count = 0\n",
    "\n",
    "for i in range(1,n+1):\n",
    "    if not visited[i]:  # 우선 visited의 모든 요소가 False이므로 이 조건문을 통과한다.\n",
    "        count += 1      # count가 1 증가하고 주 함수 실행\n",
    "        DFS(i)\n",
    "print(A, visited)\n",
    "print(count)\n",
    "\n",
    "'''A리스트는 1부터 N+1개의 요소를 가지고 있다.\n",
    "    1번 인덱스에 2와 5의 값을 가지고 있다면 이는 1번 노드는 2번과 5번 노드와 연결되어 있다는 의미다.\n",
    "    당연히 0번 인덱스는 없는셈 친다.\n",
    "\n",
    "    때문에 1 ~ n+1 동안 반복문을 돌린다.\n",
    "    \n",
    "    노드 방문 여부를 체크하는 리스트에서, 해당 리스트 값이 False라면 DFS 함수를 실행한다.\n",
    "    그리곤 해당 리스트 값을 True로 바꾼다.\n",
    "    A리스트의 해당 인덱스 값은 자신과 이어진 노드 번호를 뜻하니\n",
    "    visited 리스트에서 False인 인덱스를 찾아서 다시 DFS 함수를 돌린다.\n",
    "    이렇게 재귀함수 처럼 사용하면 해당 인덱스의 끝까지 방문할 수 있다.\n",
    "\n",
    "    DFS가 끝났을 때, 아직 방문하지 않은 노드가 있다면 다서 DFS를 실행하고\n",
    "    count값이 오른다.\n",
    "    '''"
   ]
  },
  {
   "attachments": {},
   "cell_type": "markdown",
   "metadata": {},
   "source": [
    "개선 답안"
   ]
  },
  {
   "cell_type": "code",
   "execution_count": null,
   "metadata": {},
   "outputs": [],
   "source": []
  }
 ],
 "metadata": {
  "kernelspec": {
   "display_name": "Python 3",
   "language": "python",
   "name": "python3"
  },
  "language_info": {
   "name": "python",
   "version": "3.11.2 (tags/v3.11.2:878ead1, Feb  7 2023, 16:38:35) [MSC v.1934 64 bit (AMD64)]"
  },
  "orig_nbformat": 4,
  "vscode": {
   "interpreter": {
    "hash": "a3d8f53f1429d27b792a3789224562ddd32c1395c9a9cfbb17b3c19c3b9a493d"
   }
  }
 },
 "nbformat": 4,
 "nbformat_minor": 2
}
