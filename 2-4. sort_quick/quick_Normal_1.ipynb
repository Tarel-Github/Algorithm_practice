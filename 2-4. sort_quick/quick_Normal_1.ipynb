{
 "cells": [
  {
   "attachments": {},
   "cell_type": "markdown",
   "metadata": {},
   "source": [
    "#### 문제 (퀵 정렬)\n",
    "퀵 정렬은 기준값을 선정해 해당 값보다 작은 데이터와 큰 데이터를 분류하는 것  \n",
    "피벗이라는 기준값을 중심으로 작은 값은 왼쪽으로, 큰 값은 오른쪽으로 나누어 정렬한다.  \n",
    "평균적으로 가장 빠른것이 특징이다  \n",
    "\n",
    "데이터의 수와 K번째 수를 입력받는다.\n",
    "이후 데이터들을 입력받는다.  \n",
    "데이터들을 정렬했을 때, K번째 수의 값을 구하는 알고리즘을 작성  \n",
    "\n",
    "##### 입력예시\n",
    "5 2  \n",
    "4 1 2 3 5  \n",
    "\n",
    "##### 출력예시\n",
    "2"
   ]
  },
  {
   "attachments": {},
   "cell_type": "markdown",
   "metadata": {},
   "source": [
    "내 첫번째 답안\n",
    "- 답안의 문제점"
   ]
  },
  {
   "cell_type": "code",
   "execution_count": null,
   "metadata": {},
   "outputs": [],
   "source": []
  },
  {
   "attachments": {},
   "cell_type": "markdown",
   "metadata": {},
   "source": [
    "\n",
    "책의 답안\n",
    "- 너무 길다! 이해하기 어려움!"
   ]
  },
  {
   "cell_type": "code",
   "execution_count": null,
   "metadata": {},
   "outputs": [],
   "source": [
    "import sys\n",
    "input = sys.stdin.readline\n",
    "N, K = map(int, input().split())\n",
    "A = list(map(int, input().split()))\n",
    "\n",
    "def quickSort(S, E, K):   # 시작값, 끝값, 피벗값\n",
    "    global A\n",
    "    if S < E:\n",
    "        pivot = partition(S, E)\n",
    "        if pivot == K:\n",
    "            return\n",
    "        elif K < pivot:#K가 피봇보다 작으면 왼쪽그룹만 정렬\n",
    "            quickSort(S, pivot -1, K)\n",
    "        else:\n",
    "            quickSort(pivot +1 , E, K)\n",
    "\n",
    "def swap(i,j):\n",
    "    global A\n",
    "    temp = A [i]\n",
    "    A[i] = A[j]\n",
    "    A[j] = temp\n",
    "\n",
    "def partition(S, E):\n",
    "    global A\n",
    "    if S + 1 == E:\n",
    "        if A[S] > A[E]:\n",
    "            swap(S,E)\n",
    "        return E\n",
    "    \n",
    "    M = (S + E) // 2\n",
    "    swap(S, M)\n",
    "    pivot = A[S]\n",
    "\n",
    "    i = S + 1\n",
    "    j = E\n",
    "\n",
    "    while i <= j:\n",
    "        while pivot < A[j] and j > 0:\n",
    "            j= j-1\n",
    "        while pivot > A[i] and i < len(A) - 1:\n",
    "            i= i+1\n",
    "        if i <= j:\n",
    "            swap(i, j)\n",
    "            i = i + 1\n",
    "            j = j - 1\n",
    "    A[S] = A[j]\n",
    "    A[j] = pivot\n",
    "    return j\n",
    "quickSort(0, N-1, K-1)            \n",
    "print(A[K-1])"
   ]
  },
  {
   "attachments": {},
   "cell_type": "markdown",
   "metadata": {},
   "source": [
    "개선 답안\n",
    "- 이 답안은 메모리가 초과되는 문제가 발생했다.\n",
    "- 원인은 리스트를 반복적으로 생성하고 복사하는 것 때문으로 보인다.\n",
    "- 개선 답안 2 참조"
   ]
  },
  {
   "cell_type": "code",
   "execution_count": null,
   "metadata": {},
   "outputs": [],
   "source": [
    "import sys\n",
    "input = sys.stdin.readline\n",
    "N, K = map(int, input().split())\n",
    "A = list(map(int, input().split()))\n",
    "\n",
    "def quick_sort(A):\n",
    "    if len(A) <= 1:         # 배열 A의 길이가 1이하면 그냥 리턴\n",
    "        return A\n",
    "\n",
    "    pivot = A[0]\n",
    "    left, right = [], []\n",
    "\n",
    "    for i in range(1, len(A)):\n",
    "        if A[i] < pivot:\n",
    "            left.append(A[i])\n",
    "        else:\n",
    "            right.append(A[i])\n",
    "\n",
    "    return quick_sort(left) + [pivot] + quick_sort(right)\n",
    "\n",
    "print(quick_sort(A))"
   ]
  },
  {
   "attachments": {},
   "cell_type": "markdown",
   "metadata": {},
   "source": [
    "개선답안2\n",
    "- 코드가 조금 길어졌다."
   ]
  },
  {
   "cell_type": "code",
   "execution_count": null,
   "metadata": {},
   "outputs": [],
   "source": [
    "import sys\n",
    "input = sys.stdin.readline\n",
    "\n",
    "N, K = map(int, input().split())\n",
    "A = list(map(int, input().split()))\n",
    "\n",
    "def quickSort(A, K, start, end):\n",
    "    if start == end:\n",
    "        return A[start]\n",
    "    pivot = A[start]\n",
    "    left = start + 1\n",
    "    right = end\n",
    "    while left <= right:\n",
    "        while left <= end and A[left] < pivot:\n",
    "            left += 1\n",
    "        while right > start and A[right] >= pivot:\n",
    "            right -= 1\n",
    "        if left <= right:\n",
    "            A[left], A[right] = A[right], A[left]\n",
    "            left += 1\n",
    "            right -= 1\n",
    "    A[start], A[right] = A[right], A[start]\n",
    "    if K == right:\n",
    "        return A[K]\n",
    "    elif K < right:\n",
    "        return quickSort(A, K, start, right - 1)\n",
    "    else:\n",
    "        return quickSort(A, K, right + 1, end)\n",
    "\n",
    "print(quickSort(A, K - 1, 0, N - 1))"
   ]
  }
 ],
 "metadata": {
  "kernelspec": {
   "display_name": "Python 3",
   "language": "python",
   "name": "python3"
  },
  "language_info": {
   "name": "python",
   "version": "3.11.2 (tags/v3.11.2:878ead1, Feb  7 2023, 16:38:35) [MSC v.1934 64 bit (AMD64)]"
  },
  "orig_nbformat": 4,
  "vscode": {
   "interpreter": {
    "hash": "a3d8f53f1429d27b792a3789224562ddd32c1395c9a9cfbb17b3c19c3b9a493d"
   }
  }
 },
 "nbformat": 4,
 "nbformat_minor": 2
}
