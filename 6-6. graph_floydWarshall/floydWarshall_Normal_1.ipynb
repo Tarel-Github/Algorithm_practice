{
 "cells": [
  {
   "attachments": {},
   "cell_type": "markdown",
   "metadata": {},
   "source": [
    "#### 문제 (플루이드 워셜)\n",
    "플로이드 워셜은 그래프에서 최단거리를 구하는 알고리즘이다.  \n",
    "음수 가중치가 있어도 가능하며, 동적 계획법의 원리를 사용한다.  \n",
    "  \n",
    "버스가 한 도시에서 출발해 다른 도시에 도착하는 버스가 수십만개 있을 때, 모든 도시의 쌍 (A, B)에 관해  도시 A에서 B로 가는데 필요한 비용의 최솟값을 구하는 프로그램을 작성  \n",
    "여기서, 시작 도시 a, 도착 도시b, 비용은 c로 입력받는다.  \n",
    "c는 가중치로써의 역할을 할 수 있다고 보면 된다.  \n",
    "  \n",
    "그래프에서 시작점을 지정하지 않고 모든 노드와 관련된 최소 경로를 구하는 알고리즘이다.  \n",
    "##### 입력예시\n",
    "5 <-- 도시의 수\n",
    "14 <-- 노선의 수\n",
    "1 2 2  \n",
    "1 3 3  \n",
    "1 4 1  \n",
    "1 5 10  \n",
    "2 4 2  \n",
    "3 4 1  \n",
    "3 5 1  \n",
    "4 5 3  \n",
    "3 5 10  \n",
    "3 1 8  \n",
    "1 4 2  \n",
    "5 1 7  \n",
    "3 4 2  \n",
    "5 2 4  \n",
    "\n",
    "##### 출력예시\n",
    "0 2 3 1 4  \n",
    "12 0 15 2 5  \n",
    "8 5 0 1 1  \n",
    "10 7 13 0 3  \n",
    "7 4 10 6 0  "
   ]
  },
  {
   "attachments": {},
   "cell_type": "markdown",
   "metadata": {},
   "source": [
    "내 첫번째 답안\n",
    "- 답안의 문제점"
   ]
  },
  {
   "cell_type": "code",
   "execution_count": null,
   "metadata": {},
   "outputs": [],
   "source": []
  },
  {
   "attachments": {},
   "cell_type": "markdown",
   "metadata": {},
   "source": [
    "\n",
    "책의 답안\n",
    "- 답안의 특징"
   ]
  },
  {
   "cell_type": "code",
   "execution_count": null,
   "metadata": {},
   "outputs": [],
   "source": [
    "import sys\n",
    "input = sys.stdin.readline\n",
    "\n",
    "\n",
    "\n",
    "N = int(input())                    # 도시 수 입력\n",
    "M = int(input())                    # 노선 수 입력(이 문제에선 노선 수만큼 반복)\n",
    "\n",
    "# 거리 배열을 엄청 큰 수를 바탕으로 초기화, 0번 인덱스는 사용하지 않음\n",
    "distance=[[sys.maxsize() for j in range(N+1)] for i in range(N+1)]\n",
    "print(distance)\n",
    "\n",
    "for i in range(1, N+1):\n",
    "    distance[i][i] = 0\n",
    "\n",
    "for i in range(M):\n",
    "    s, e, v = map(int, input().split())\n",
    "    if distance[s][e] > v:\n",
    "        distance[s][e] = v\n",
    "\n",
    "# 플로이드 - 워셜 수행\n",
    "for k in range(1, N+1):\n",
    "    for i in range(1, N+1):\n",
    "        for j in range(1, N+1):\n",
    "            if distance[i][j] > distance[i][k] + distance[k][j]:\n",
    "                distance[i][j] = distance[i][k] + distance[k][j]\n",
    "\n",
    "for i in range(1, N+1):\n",
    "    for j in range(1, N+1):\n",
    "        if distance[i][j] == sys.maxsize:\n",
    "            print(0, end=' ')\n",
    "        else:\n",
    "            print(distance[i][j], end= ' ')\n",
    "    print()\n",
    "\n",
    "'''\n",
    "\n",
    "'''"
   ]
  },
  {
   "attachments": {},
   "cell_type": "markdown",
   "metadata": {},
   "source": [
    "개선 답안"
   ]
  },
  {
   "cell_type": "code",
   "execution_count": null,
   "metadata": {},
   "outputs": [],
   "source": []
  }
 ],
 "metadata": {
  "kernelspec": {
   "display_name": "Python 3",
   "language": "python",
   "name": "python3"
  },
  "language_info": {
   "name": "python",
   "version": "3.11.2 (tags/v3.11.2:878ead1, Feb  7 2023, 16:38:35) [MSC v.1934 64 bit (AMD64)]"
  },
  "orig_nbformat": 4,
  "vscode": {
   "interpreter": {
    "hash": "a3d8f53f1429d27b792a3789224562ddd32c1395c9a9cfbb17b3c19c3b9a493d"
   }
  }
 },
 "nbformat": 4,
 "nbformat_minor": 2
}
