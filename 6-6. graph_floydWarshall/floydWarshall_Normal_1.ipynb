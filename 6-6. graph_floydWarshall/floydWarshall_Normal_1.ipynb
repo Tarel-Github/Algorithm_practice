{
 "cells": [
  {
   "attachments": {},
   "cell_type": "markdown",
   "metadata": {},
   "source": [
    "#### 문제 (플루이드 워셜)\n",
    "\n",
    "문제 내용\n",
    "\n",
    "##### 입력예시\n",
    "\n",
    "\n",
    "##### 출력예시\n"
   ]
  },
  {
   "attachments": {},
   "cell_type": "markdown",
   "metadata": {},
   "source": [
    "내 첫번째 답안\n",
    "- 답안의 문제점"
   ]
  },
  {
   "cell_type": "code",
   "execution_count": null,
   "metadata": {},
   "outputs": [],
   "source": []
  },
  {
   "attachments": {},
   "cell_type": "markdown",
   "metadata": {},
   "source": [
    "\n",
    "책의 답안\n",
    "- 답안의 특징"
   ]
  },
  {
   "cell_type": "code",
   "execution_count": null,
   "metadata": {},
   "outputs": [],
   "source": [
    "import sys\n",
    "input = sys.stdin.readline\n",
    "N = input().split()\n",
    "M = input().split()\n",
    "distance=[[sys.maxsize() for _ in range(N+1)] for _ in range(N+1)]\n",
    "\n",
    "for i in range(1, N+1):\n",
    "    distance[i][i] = 0\n",
    "\n",
    "for i in range(M):\n",
    "    s, e, v = map(int, input().split())\n",
    "    if distance[s][e] > v:\n",
    "        distance[s][e] = v\n",
    "\n",
    "# 플로이드 - 워셜 수행\n",
    "for k in range(1, N+1):\n",
    "    for i in range(1, N+1):\n",
    "        for j in range(1, N+1):\n",
    "            if distance[i][j] > distance[i][k] + distance[k][j]:\n",
    "                distance[i][j] = distance[i][k] + distance[k][j]\n",
    "\n",
    "for i in range(1, N+1):\n",
    "    for j in range(1, N+1):\n",
    "        if distance[i][j] == sys.maxsize:\n",
    "            print(0, end=' ')\n",
    "        else:\n",
    "            print(distance[i][j], end= ' ')\n",
    "    print()\n",
    "\n",
    "'''\n",
    "\n",
    "'''"
   ]
  },
  {
   "attachments": {},
   "cell_type": "markdown",
   "metadata": {},
   "source": [
    "개선 답안"
   ]
  },
  {
   "cell_type": "code",
   "execution_count": null,
   "metadata": {},
   "outputs": [],
   "source": []
  }
 ],
 "metadata": {
  "kernelspec": {
   "display_name": "Python 3",
   "language": "python",
   "name": "python3"
  },
  "language_info": {
   "name": "python",
   "version": "3.11.2 (tags/v3.11.2:878ead1, Feb  7 2023, 16:38:35) [MSC v.1934 64 bit (AMD64)]"
  },
  "orig_nbformat": 4,
  "vscode": {
   "interpreter": {
    "hash": "a3d8f53f1429d27b792a3789224562ddd32c1395c9a9cfbb17b3c19c3b9a493d"
   }
  }
 },
 "nbformat": 4,
 "nbformat_minor": 2
}
