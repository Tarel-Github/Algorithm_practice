{
 "cells": [
  {
   "attachments": {},
   "cell_type": "markdown",
   "metadata": {},
   "source": [
    "#### 이항개수 구하기 (조합)\n",
    "조합은 nC_r 로 표현하는데, 이는 n개의 숫자에서 r개를 뽑는 경우의 수를 뜻한다.  \n",
    "순열은 nP_r로 표현되고 이는 n개의 숫자 중 r개를 뽑아 순서를 고려해 나열한 경우의의 수다.  \n",
    "순열과 조합의 차이는 순서의 고려 유무에 있다.  \n",
    "즉, 1, 2, 3과 3, 2, 1을 조합에서는 같은 경우로, 순열에서는 다른 경우로 본다.  \n",
    "\n",
    "실제로는 순열보다 조합의 출제빈도가 높고 응용범위도 넓다.  \n",
    "\n",
    "순열의 수학적 공식 = n! / (n-r)!\n",
    "조합의 수학적 공식 = n! / (n-r)!r!\n",
    "여기서, n은 전체 숫자의 수, r은 뽑는 숫자의 수다.\n",
    "\n",
    "자연수 N과 정수 K가 주어졌을 때, 이항계수를 구하는 프로그램을 작성  \n",
    "\n",
    "이항 계수란 n개의 서로 다른 원소 중에서 r개의 원소를 순서 없이 골라내는 방법의 수다.  \n",
    "즉, 위의 조합 공식을 말하는 것이다.  \n",
    "##### 입력예시\n",
    "5 2\n",
    "\n",
    "##### 출력예시\n",
    "10  "
   ]
  },
  {
   "attachments": {},
   "cell_type": "markdown",
   "metadata": {},
   "source": [
    "내 첫번째 답안\n",
    "- 답안의 문제점"
   ]
  },
  {
   "cell_type": "code",
   "execution_count": null,
   "metadata": {},
   "outputs": [],
   "source": []
  },
  {
   "attachments": {},
   "cell_type": "markdown",
   "metadata": {},
   "source": [
    "\n",
    "책의 답안\n",
    "- 답안의 특징"
   ]
  },
  {
   "cell_type": "code",
   "execution_count": null,
   "metadata": {},
   "outputs": [],
   "source": [
    "import sys\n",
    "input = sys.stdin.readline\n",
    "N, K =map(int, input().split())\n",
    "D = [[0 for j in range(N+1)] for i in range(N + 1)]\n",
    "\n",
    "\n",
    "for i in range(0, N+1):\n",
    "    D[i][1] = i\n",
    "    D[i][0] = 1\n",
    "    D[i][i] = 1\n",
    "\n",
    "for i in range(2, N+1):\n",
    "    for j in range(1, i):\n",
    "        D[i][j] = D[i-1][j] + D[i - 1][j-1]\n",
    "\n",
    "print(D[N][K])\n"
   ]
  },
  {
   "attachments": {},
   "cell_type": "markdown",
   "metadata": {},
   "source": [
    "개선 답안"
   ]
  },
  {
   "cell_type": "code",
   "execution_count": null,
   "metadata": {},
   "outputs": [],
   "source": []
  }
 ],
 "metadata": {
  "kernelspec": {
   "display_name": "Python 3",
   "language": "python",
   "name": "python3"
  },
  "language_info": {
   "name": "python",
   "version": "3.11.2 (tags/v3.11.2:878ead1, Feb  7 2023, 16:38:35) [MSC v.1934 64 bit (AMD64)]"
  },
  "orig_nbformat": 4,
  "vscode": {
   "interpreter": {
    "hash": "a3d8f53f1429d27b792a3789224562ddd32c1395c9a9cfbb17b3c19c3b9a493d"
   }
  }
 },
 "nbformat": 4,
 "nbformat_minor": 2
}
