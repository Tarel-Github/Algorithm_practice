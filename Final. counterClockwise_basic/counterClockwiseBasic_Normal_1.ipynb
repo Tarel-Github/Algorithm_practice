{
 "cells": [
  {
   "attachments": {},
   "cell_type": "markdown",
   "metadata": {},
   "source": [
    "#### 선분 방향 구하기 (기하)\n",
    "\n",
    "기하, 그러니까 CCW는 평면상의 3개의 점과 관련된 점들의 위치 관계를 판단하는 알고리즘이다.  \n",
    "3점 A(x1, y1), B(x2, y2), C(x3, y3)의 CCW 공식은 다음과 같다.  \n",
    "CCW = (x1y2 + x2y3 + x3y1) - (x2y1 + x3y2 + x1y3)  \n",
    "이 공식은 기하의 가장 기본이 되므로 암기하는 것이 좋다.\n",
    "다음과 같이 암기하자: 12 23 31 - 21 32 13  \n",
    "  \n",
    "CCW의 결과가 양수냐, 0이냐, 음수냐에 따라 다음의 의미를 가진다.  \n",
    "음수 = 시계방향, 0 = 일직선, 양수 = 반시계방향  \n",
    "이 부호와는 별개로 CCW결과의 절댓값은 세 점의 백터의 외적값을 나타낸다.  \n",
    "이 절댓값을 반으로 나누면 3점으로 이뤄진 삼각형의 넓이를 나타낸다.  \n",
    "즉 CCW 결과값 / 2 는 3점으로 이루어진 삼각형의 넓이다.  \n",
    "이 2가지 원리를 이용하면 다양한 기하 관련 문제를 해결할 수 있다.  \n",
    "\n",
    "  \n",
    "2차원 자표 평면 위의 점 3개 P1, P2, P3가 있다.  \n",
    "이걸 순서대로 이었을 때, 어떤 방향을 이루고 있는지를 구하는 프로그램 작성  \n",
    "\n",
    "##### 입력예시\n",
    "1 1  \n",
    "5 5  \n",
    "7 3  \n",
    "\n",
    "##### 출력예시\n",
    "-1  "
   ]
  },
  {
   "attachments": {},
   "cell_type": "markdown",
   "metadata": {},
   "source": [
    "내 첫번째 답안\n",
    "- 답안의 문제점"
   ]
  },
  {
   "cell_type": "code",
   "execution_count": null,
   "metadata": {},
   "outputs": [],
   "source": []
  },
  {
   "attachments": {},
   "cell_type": "markdown",
   "metadata": {},
   "source": [
    "\n",
    "책의 답안\n",
    "- 기하 문제 중 가장 기본적인 문제다.\n",
    "- 기하 공식만 외우면 어렵지 않은 문제"
   ]
  },
  {
   "cell_type": "code",
   "execution_count": null,
   "metadata": {},
   "outputs": [],
   "source": [
    "# 임포트\n",
    "import sys\n",
    "input = sys.stdin.readline\n",
    "\n",
    "# 좌표 포인트를 입력 받음\n",
    "x1, y1 = map(int, input.split())\n",
    "x2, y2 = map(int, input.split())\n",
    "x3, y3 = map(int, input.split())\n",
    "\n",
    "# CCW 공식을 그대로 사용\n",
    "result = (x1 * y2 + x2 * y3 + x3 * y1) - (x2 * y1 + x3 * y2 + x1 * y3)\n",
    "\n",
    "# 양수면 시계방향, 음수면 반 시계방향, 0이면 직선이다.\n",
    "if result > 0:\n",
    "    print(1)   \n",
    "elif result < 0:\n",
    "    print(-1)\n",
    "else:\n",
    "    print(0)"
   ]
  },
  {
   "attachments": {},
   "cell_type": "markdown",
   "metadata": {},
   "source": [
    "개선 답안"
   ]
  },
  {
   "cell_type": "code",
   "execution_count": null,
   "metadata": {},
   "outputs": [],
   "source": []
  }
 ],
 "metadata": {
  "kernelspec": {
   "display_name": "Python 3",
   "language": "python",
   "name": "python3"
  },
  "language_info": {
   "name": "python",
   "version": "3.11.2 (tags/v3.11.2:878ead1, Feb  7 2023, 16:38:35) [MSC v.1934 64 bit (AMD64)]"
  },
  "orig_nbformat": 4,
  "vscode": {
   "interpreter": {
    "hash": "a3d8f53f1429d27b792a3789224562ddd32c1395c9a9cfbb17b3c19c3b9a493d"
   }
  }
 },
 "nbformat": 4,
 "nbformat_minor": 2
}
