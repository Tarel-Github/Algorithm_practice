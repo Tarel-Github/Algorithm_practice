{
 "cells": [
  {
   "attachments": {},
   "cell_type": "markdown",
   "metadata": {},
   "source": [
    "#### 문제 (그래프, 유니온 파인드)\n",
    "\n",
    "유니온 파인드는 여러노드가 있을때 특정 2개 노드를 연결해 하나로 묶는  \n",
    "유니온 연산과 두 노드가 같은 집합에 속해있는지 확인하는 파인드 연산  \n",
    "으로 구성된 알고리즘이다.  \n",
    "  \n",
    "대표노드라는 개념이 있다.\n",
    "\n",
    "find연산은 자신이 속한 집합의 대표노드를 찾는 연산이다.  \n",
    "유니온 연산을 하면 두 원소를 하나로 묶는다.  \n",
    "파인드 연산을 하면 특정 원소가 어느 집합에 포함되어 있는지를 확인한다.  \n",
    "  \n",
    "이 문제에서는 원소개수와 질의 개수를 입력받은 다음, 숫자를 3개씩 입력받는다.  \n",
    "첫 번째 숫자는 0이면 유니온 연산을 하고, 1이면 두 숫자가 같은 집합에 속하는지를 확인한다.  \n",
    "\n",
    "즉, 파인드 연산을 조금 응용해야 한다.  \n",
    "알고리즘을 작성해보자  \n",
    "\n",
    "##### 입력예시\n",
    "7 8  \n",
    "0 1 3  \n",
    "1 1 7  \n",
    "0 7 6  \n",
    "1 7 1  \n",
    "0 3 7  \n",
    "0 4 2  \n",
    "0 1 1  \n",
    "1 1 1  \n",
    "\n",
    "##### 출력예시\n",
    "NO  \n",
    "NO  \n",
    "YES  "
   ]
  },
  {
   "attachments": {},
   "cell_type": "markdown",
   "metadata": {},
   "source": [
    "내 첫번째 답안\n",
    "- 답안의 문제점"
   ]
  },
  {
   "cell_type": "code",
   "execution_count": null,
   "metadata": {},
   "outputs": [],
   "source": []
  },
  {
   "attachments": {},
   "cell_type": "markdown",
   "metadata": {},
   "source": [
    "\n",
    "책의 답안\n",
    "- 유니온 연산을 할 때 파인드 연산을 먼저 한다."
   ]
  },
  {
   "cell_type": "code",
   "execution_count": null,
   "metadata": {},
   "outputs": [],
   "source": [
    "import sys\n",
    "input = sys.stdin.readline\n",
    "sys.setrecursionlimit(100000)\n",
    "\n",
    "N, M = map(int, input().split())    # 원소 수와 질의 수\n",
    "parent = [0] * (N + 1)              # 원소 수 + 1개만큼 리스트 생성\n",
    "\n",
    "\n",
    "# 파인드 연산, 만약 a가 어디에도 안 속해 있다면 parent[a]의 값은 그대로 0일 것이다.\n",
    "def find(a):                        \n",
    "    if a == parent[a]:  # 원소 a를 받았을 때, parent 배열의 a번째 값과 같다면 그냥 a를 리턴\n",
    "        return a\n",
    "    else:\n",
    "        parent[a] = find(parent[a])\n",
    "        return parent[a]\n",
    "\n",
    "# 유니온 연산\n",
    "def union(a, b):\n",
    "    a = find(a)         # 입력 받은 두 a, b의 값이 어디에 속해있는지 부터 확인하고\n",
    "    b = find(b)\n",
    "    if a!= b:           # a와 b가 같은 집합에 있는 것이 아니라면\n",
    "        parent[b] = a   # b번인덱스에 a를 투입한다. 즉, parent[a] 와 parnet[b] 는 값이 같아지고 이로써 같은 집합에 속하게 된다.\n",
    "\n",
    "def checkSame(a, b):\n",
    "    a = find(a)\n",
    "    b = find(b)\n",
    "    if a == b:\n",
    "        return True\n",
    "    return False\n",
    "\n",
    "for i in range(0 , N + 1):\n",
    "    parent[i]= i\n",
    "\n",
    "for i in range(M):\n",
    "    question, a, b, =map (int, input().split())     # 입력받은 값이 0이면 유니온, 1이면 두 원소가 같은 집합에 포함되는지 확인하는 연산을 한다.\n",
    "    if question == 0:\n",
    "        union(a, b) # 0이면 유니온 연산\n",
    "    else:\n",
    "        if checkSame(a, b): # 1이면 a, b가 같은 집합에 속하는지 확인\n",
    "            print(\"Yes\")\n",
    "        else:\n",
    "            print(\"NO\")\n",
    "\n",
    "'''\n",
    "두 원소가 같은 집합에 속해있는지에 대한 여부를 어떻게 확인하는가가 중요하다.\n",
    "두 값을 받고 유니온 연산에 들어가면, 먼저 두 값이 어디에 속해있는지 부터 확인한다.\n",
    "\n",
    "parent[] 의 값은 [0, 1, 2, 3, 4, 5, 6,......] 로 시작한다. parent 값은, 각 인덱스 번호가 어느 집합에 속해있는지를 나타낸다.\n",
    "우선, 원소 a가 어디에도 속해있지 않다면 parent[a]의 값은 a이다.\n",
    "\n",
    "만약, 두 원소가 다른 원소에 있었다면 parent[b]의 값을 a로 바꾼다.\n",
    "이렇게 유니온 연산이 완성된다.\n",
    "'''"
   ]
  },
  {
   "attachments": {},
   "cell_type": "markdown",
   "metadata": {},
   "source": [
    "개선 답안"
   ]
  },
  {
   "cell_type": "code",
   "execution_count": null,
   "metadata": {},
   "outputs": [],
   "source": []
  }
 ],
 "metadata": {
  "kernelspec": {
   "display_name": "Python 3",
   "language": "python",
   "name": "python3"
  },
  "language_info": {
   "name": "python",
   "version": "3.11.2 (tags/v3.11.2:878ead1, Feb  7 2023, 16:38:35) [MSC v.1934 64 bit (AMD64)]"
  },
  "orig_nbformat": 4,
  "vscode": {
   "interpreter": {
    "hash": "a3d8f53f1429d27b792a3789224562ddd32c1395c9a9cfbb17b3c19c3b9a493d"
   }
  }
 },
 "nbformat": 4,
 "nbformat_minor": 2
}
