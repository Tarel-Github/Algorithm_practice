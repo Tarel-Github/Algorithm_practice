{
 "cells": [
  {
   "attachments": {},
   "cell_type": "markdown",
   "metadata": {},
   "source": [
    "#### 문제 (그래프, 유니온 파인드)\n",
    "\n",
    "유니온 파인드는 여러노드가 있을때 특정 2개 노드를 연결해 하나로 묶는  \n",
    "유니온 연산과 두 노드가 같은 집합에 속해있는지 확인하는 파인드 연산  \n",
    "으로 구성된 알고리즘이다.  \n",
    "  \n",
    "대표노드라는 개념이 있다.\n",
    "\n",
    "find연산은 자신이 속한 집합의 대표노드를 찾는 연산이다.\n",
    "\n",
    "##### 입력예시\n",
    "\n",
    "\n",
    "##### 출력예시\n"
   ]
  },
  {
   "attachments": {},
   "cell_type": "markdown",
   "metadata": {},
   "source": [
    "내 첫번째 답안\n",
    "- 답안의 문제점"
   ]
  },
  {
   "cell_type": "code",
   "execution_count": null,
   "metadata": {},
   "outputs": [],
   "source": []
  },
  {
   "attachments": {},
   "cell_type": "markdown",
   "metadata": {},
   "source": [
    "\n",
    "책의 답안\n",
    "- 답안의 특징"
   ]
  },
  {
   "cell_type": "code",
   "execution_count": null,
   "metadata": {},
   "outputs": [],
   "source": [
    "import sys\n",
    "input = sys.stdin.readline\n",
    "sys.setrecursionlimit(100000)\n",
    "\n",
    "N, M = map(int, input().split())    # 도시수, 도로수, 구할 거리, 출발 도시 번호\n",
    "parent = [0] * (N + 1)              # 도시수 + 1 만큼 배열 생성\n",
    "\n",
    "\n",
    "# 파인드 연산,\n",
    "def find(a):                        \n",
    "    if a == parent[a]:\n",
    "        return a\n",
    "    else:\n",
    "        parent[a] = find(parent[a])\n",
    "        return parent[a]\n",
    "    \n",
    "def union(a, b):\n",
    "    a = find(a)\n",
    "    b = find(b)\n",
    "    if a!= b:\n",
    "        parent[b] = a\n",
    "\n",
    "def checkSame(a, b):\n",
    "    a = find(a)\n",
    "    b = find(b)\n",
    "    if a == b:\n",
    "        return True\n",
    "    return False\n",
    "\n",
    "for i in range(0 , N + 1):\n",
    "    parent[i]= i\n",
    "\n",
    "for i in range(M):\n",
    "    question, a, b, =map (int, input().split())\n",
    "    if question == 0:\n",
    "        union(a, b)\n",
    "    else:\n",
    "        if checkSame(a, b):\n",
    "            print(\"Yes\")\n",
    "        else:\n",
    "            print(\"NO\")\n",
    "\n",
    "'''\n",
    "\n",
    "\n",
    "'''"
   ]
  },
  {
   "attachments": {},
   "cell_type": "markdown",
   "metadata": {},
   "source": [
    "개선 답안"
   ]
  },
  {
   "cell_type": "code",
   "execution_count": null,
   "metadata": {},
   "outputs": [],
   "source": []
  }
 ],
 "metadata": {
  "kernelspec": {
   "display_name": "Python 3",
   "language": "python",
   "name": "python3"
  },
  "language_info": {
   "name": "python",
   "version": "3.11.2 (tags/v3.11.2:878ead1, Feb  7 2023, 16:38:35) [MSC v.1934 64 bit (AMD64)]"
  },
  "orig_nbformat": 4,
  "vscode": {
   "interpreter": {
    "hash": "a3d8f53f1429d27b792a3789224562ddd32c1395c9a9cfbb17b3c19c3b9a493d"
   }
  }
 },
 "nbformat": 4,
 "nbformat_minor": 2
}
