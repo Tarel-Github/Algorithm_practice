{
 "cells": [
  {
   "attachments": {},
   "cell_type": "markdown",
   "metadata": {},
   "source": [
    "#### 문제 (문제 종류)\n",
    "\n",
    "문제 내용\n",
    "\n",
    "##### 입력예시\n",
    "\n",
    "\n",
    "##### 출력예시\n"
   ]
  },
  {
   "attachments": {},
   "cell_type": "markdown",
   "metadata": {},
   "source": [
    "내 첫번째 답안\n",
    "- 답안의 문제점"
   ]
  },
  {
   "cell_type": "code",
   "execution_count": null,
   "metadata": {},
   "outputs": [],
   "source": []
  },
  {
   "attachments": {},
   "cell_type": "markdown",
   "metadata": {},
   "source": [
    "\n",
    "책의 답안\n",
    "- 답안의 특징"
   ]
  },
  {
   "cell_type": "code",
   "execution_count": null,
   "metadata": {},
   "outputs": [],
   "source": [
    "import sys\n",
    "input = sys.stdin.readline\n",
    "N, M = map(int, input().split())\n",
    "edges = []\n",
    "distance = [sys.maxsize] * (N+1)\n",
    "\n",
    "for i in range(N):\n",
    "    start, end, time = map(int, input().split())\n",
    "    edges.append((start, end, time))\n",
    "\n",
    "distance[1] = 0\n",
    "\n",
    "for _ in range(N-1):\n",
    "    for start, end, time in edges:\n",
    "        if distance[start] != sys.maxsize and distance[end] > distance[start] + time:\n",
    "            distance[end] = distance[start] + time\n",
    "\n",
    "mCycle = False\n",
    "\n",
    "for start, end, time in edges:\n",
    "    if distance[start] != sys.maxsize and distance[end] > distance[start] + time:\n",
    "        mCycle = True\n",
    "\n",
    "\n",
    "if not mCycle:\n",
    "    for i in range(2, N+1):\n",
    "        if distance[i] != sys.maxsize:\n",
    "            print(distance[i])\n",
    "        else:\n",
    "            print(-1)\n",
    "else:\n",
    "    print(-1)\n",
    "\n",
    "\n",
    "'''\n",
    "\n",
    "'''"
   ]
  },
  {
   "attachments": {},
   "cell_type": "markdown",
   "metadata": {},
   "source": [
    "개선 답안"
   ]
  },
  {
   "cell_type": "code",
   "execution_count": null,
   "metadata": {},
   "outputs": [],
   "source": []
  }
 ],
 "metadata": {
  "kernelspec": {
   "display_name": "Python 3",
   "language": "python",
   "name": "python3"
  },
  "language_info": {
   "name": "python",
   "version": "3.11.2 (tags/v3.11.2:878ead1, Feb  7 2023, 16:38:35) [MSC v.1934 64 bit (AMD64)]"
  },
  "orig_nbformat": 4,
  "vscode": {
   "interpreter": {
    "hash": "a3d8f53f1429d27b792a3789224562ddd32c1395c9a9cfbb17b3c19c3b9a493d"
   }
  }
 },
 "nbformat": 4,
 "nbformat_minor": 2
}
