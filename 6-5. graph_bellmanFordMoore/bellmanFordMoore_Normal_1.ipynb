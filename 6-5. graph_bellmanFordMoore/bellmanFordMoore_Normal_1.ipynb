{
 "cells": [
  {
   "attachments": {},
   "cell_type": "markdown",
   "metadata": {},
   "source": [
    "#### 문제 (벨만 포드)\n",
    "벨만 포드는 최단거리를 구하는 알고리즘으로 음수 가중치가 있어도 수행할 수 있다.  \n",
    "1번 도시에서 출발해 나머지 도시로 가는 가장 빠른 시간을 구할 것  \n",
    "만약 1번 도시에서 출발해, 시간을 무한히 오래 전으로 되돌릴 수 있다면 가장 첫 줄에 -1을 출력한다.  \n",
    "만약 이 도시로 가는 경로가 없다면 -1을 출력한다.  \n",
    "\n",
    "##### 입력예시\n",
    "3 4  \n",
    "1 2 4  \n",
    "1 3 3  \n",
    "2 3 -4  \n",
    "3 1 -2  \n",
    "\n",
    "##### 출력예시\n",
    "-1"
   ]
  },
  {
   "attachments": {},
   "cell_type": "markdown",
   "metadata": {},
   "source": [
    "내 첫번째 답안\n",
    "- 답안의 문제점"
   ]
  },
  {
   "cell_type": "code",
   "execution_count": null,
   "metadata": {},
   "outputs": [],
   "source": []
  },
  {
   "attachments": {},
   "cell_type": "markdown",
   "metadata": {},
   "source": [
    "\n",
    "책의 답안\n",
    "- 답안의 특징"
   ]
  },
  {
   "cell_type": "code",
   "execution_count": null,
   "metadata": {},
   "outputs": [],
   "source": [
    "import sys\n",
    "input = sys.stdin.readline\n",
    "N, M = map(int, input().split())        # 노드 수와 엣지수를 입력받음\n",
    "edges = []                              # 엣지 정보 저장(바로 아래 반복문에 나옴)\n",
    "distance = [sys.maxsize] * (N+1)        # 거리값 초기화(엄청 큰 값)\n",
    "\n",
    "# 연결정보를 작성한다. 이전과는 조금 다른 방식으로 작성한다.\n",
    "for i in range(N):\n",
    "    start, end, time = map(int, input().split())    # 출발점, 도착점, 가중치를 입력받아서\n",
    "    edges.append((start, end, time))                # 엣지 정보에 넣는다.\n",
    "\n",
    "distance[1] = 0 # 시작점은 1이고, 고로 시작점과 시작점의 거리를 0으로 한다.\n",
    "\n",
    "#벨만포드 알고리즘을 이용한 최단거리찾기 시작\n",
    "for _ in range(N-1):\n",
    "    for start, end, time in edges:\n",
    "        # 출발노드의 거리값이 초기값이 아니고 도착노드값이 출발노드값+가중치 보다 크면 아래를 수행한다.\n",
    "        if distance[start] != sys.maxsize and distance[end] > distance[start] + time:\n",
    "            distance[end] = distance[start] + time  # 도착노드에 오는데 걸리는 시간이 출발노드 도착시간 + 가중치다.\n",
    "\n",
    "mCycle = False\n",
    "\n",
    "#음의 사이클이 존재하는지 검사, 음의 사이클은 가중치를 모두 더했을 때, 음수인 것을 말함\n",
    "for start, end, time in edges:\n",
    "    # 거리값이 초기값이 아니고 도착노드 거리값이 출발노드 거리값+가중치보다 크면\n",
    "    if distance[start] != sys.maxsize and distance[end] > distance[start] + time:\n",
    "        mCycle = True\n",
    "\n",
    "# 음의 사이클이 없으면 결과 출력\n",
    "if not mCycle:\n",
    "    for i in range(2, N+1):\n",
    "        if distance[i] != sys.maxsize:\n",
    "            print(distance[i])\n",
    "        else:\n",
    "            print(-1)\n",
    "else:\n",
    "    print(-1)\n",
    "\n",
    "\n",
    "'''\n",
    "\n",
    "'''"
   ]
  },
  {
   "attachments": {},
   "cell_type": "markdown",
   "metadata": {},
   "source": [
    "개선 답안"
   ]
  },
  {
   "cell_type": "code",
   "execution_count": null,
   "metadata": {},
   "outputs": [],
   "source": []
  }
 ],
 "metadata": {
  "kernelspec": {
   "display_name": "Python 3",
   "language": "python",
   "name": "python3"
  },
  "language_info": {
   "name": "python",
   "version": "3.11.2 (tags/v3.11.2:878ead1, Feb  7 2023, 16:38:35) [MSC v.1934 64 bit (AMD64)]"
  },
  "orig_nbformat": 4,
  "vscode": {
   "interpreter": {
    "hash": "a3d8f53f1429d27b792a3789224562ddd32c1395c9a9cfbb17b3c19c3b9a493d"
   }
  }
 },
 "nbformat": 4,
 "nbformat_minor": 2
}
