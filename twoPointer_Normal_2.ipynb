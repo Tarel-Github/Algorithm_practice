{
 "cells": [
  {
   "attachments": {},
   "cell_type": "markdown",
   "metadata": {},
   "source": [
    "#### 문제 (투 포인터)\n",
    "\n",
    "N개의 숫자가 주어지고 그 숫자들 중 2가지를 합치면 K가 된다.  \n",
    "입력은 N, K, 그리고 N개의 숫자로 총 3번 입력을 받는다.  \n",
    "출력은 K를 몇 번 만들 수 있는지 나와야한다.  \n",
    "\n",
    "##### 입력예시\n",
    "6  \n",
    "9  \n",
    "2 7 4 1 5 3  \n",
    "\n",
    "##### 출력예시\n",
    "2  \n"
   ]
  },
  {
   "attachments": {},
   "cell_type": "markdown",
   "metadata": {},
   "source": [
    "내 첫번째 답안\n",
    "- 리스트의 시작 인덱스와 끝 인덱스를 각각 리스트의 첫번째와 두번째로 잡았다."
   ]
  },
  {
   "cell_type": "code",
   "execution_count": null,
   "metadata": {},
   "outputs": [],
   "source": [
    "n = int(input())\n",
    "k = int(input())\n",
    "nList = list(map(int, (input().split())))\n",
    "\n",
    "nList.sort()\n",
    "indexS = 0\n",
    "indexE = 0\n",
    "count = 0\n",
    "\n",
    "\n",
    "while indexS < len(nList)-2:\n",
    "    if nList[indexS] + nList[indexE] == k:  # 정답인 경우\n",
    "        count += 1\n",
    "        indexS += 1\n",
    "        indexE = indexS +1\n",
    "    elif nList[indexS] + nList[indexE] < k: # 더한 값이 정답보다 작은경우\n",
    "        indexE += 1\n",
    "    else:\n",
    "        indexS += 1\n",
    "        indexE = indexS +1\n",
    "\n",
    "    if indexE == len(nList):\n",
    "        indexS += 1\n",
    "        indexE = indexS + 1\n",
    "    if indexS == indexE:\n",
    "        indexE += 1\n",
    "\n",
    "print(count)"
   ]
  },
  {
   "attachments": {},
   "cell_type": "markdown",
   "metadata": {},
   "source": [
    "\n",
    "책의 답안\n",
    "- 두 포인터를 각각 리스트의 시작부분과 끝부분으로 잡았다."
   ]
  },
  {
   "cell_type": "code",
   "execution_count": null,
   "metadata": {},
   "outputs": [],
   "source": [
    "n = int(input())\n",
    "k = int(input())\n",
    "nList = list(map(int, (input().split())))\n",
    "\n",
    "#1 2 3 4 5 7 \n",
    "nList.sort()\n",
    "count = 0\n",
    "indexS = 0\n",
    "indexE = n -1 # 끝부분 인덱스가 마지막 번호에서 시작\n",
    "\n",
    "\n",
    "while indexS < indexE:\n",
    "    if nList[indexS] + nList[indexE] < k: # 더한 값이 정답보다 작은 경우\n",
    "        indexS += 1\n",
    "    elif nList[indexS] + nList[indexE] > k: # 더한 값이 정답보다 큰 경우\n",
    "        indexE -= 1\n",
    "    else:               # 정답인 경우\n",
    "        count += 1\n",
    "        indexS += 1\n",
    "        indexE -= 1\n",
    "\n",
    "print(count)"
   ]
  },
  {
   "attachments": {},
   "cell_type": "markdown",
   "metadata": {},
   "source": [
    "개선 답안"
   ]
  },
  {
   "cell_type": "code",
   "execution_count": null,
   "metadata": {},
   "outputs": [],
   "source": []
  }
 ],
 "metadata": {
  "kernelspec": {
   "display_name": "Python 3",
   "language": "python",
   "name": "python3"
  },
  "language_info": {
   "name": "python",
   "version": "3.11.2 (tags/v3.11.2:878ead1, Feb  7 2023, 16:38:35) [MSC v.1934 64 bit (AMD64)]"
  },
  "orig_nbformat": 4,
  "vscode": {
   "interpreter": {
    "hash": "a3d8f53f1429d27b792a3789224562ddd32c1395c9a9cfbb17b3c19c3b9a493d"
   }
  }
 },
 "nbformat": 4,
 "nbformat_minor": 2
}
