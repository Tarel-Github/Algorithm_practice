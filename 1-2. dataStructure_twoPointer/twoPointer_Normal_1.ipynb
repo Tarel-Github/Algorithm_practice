{
 "cells": [
  {
   "attachments": {},
   "cell_type": "markdown",
   "metadata": {},
   "source": [
    "#### 연속된 자연수의 합을 구하기 (투 포인터)\n",
    "투 포인터는 2개의 포인터로 알고리즘의 시간복잡도를 최적화 하는 알고리즘이다.  \n",
    "핵심은 포인터 역할을 해주는 두 개의 변수다.  \n",
    "만약 주어진 값들이 난잡하다면 정렬을 해주는 것이 편할 수 있다.  \n",
    "알고리즘에 따라 두 포인터의 위치를 어디로 하고 포인터는 어떻게 이동할지 생각해볼 필요가 있다.  \n",
    "\n",
    "\n",
    "어떤 자연수를 몇 개의 연속된 합으로 나타낼 수 있는 경우가 몇 개인지 나타내는 알고리즘을 작성  \n",
    "예를 들어, 15는 15, 7 + 8, 4 + 5 + 6, 1 + 2 + 3 + 4 + 5 로 총 4가지다.\n",
    "\n",
    "##### 입력예시\n",
    "15\n",
    "\n",
    "##### 출력예시\n",
    "4"
   ]
  },
  {
   "attachments": {},
   "cell_type": "markdown",
   "metadata": {},
   "source": [
    "내 첫번째 답안\n",
    "- 답안의 문제점"
   ]
  },
  {
   "cell_type": "code",
   "execution_count": null,
   "metadata": {},
   "outputs": [],
   "source": [
    "n = int(input())\n",
    "count = 1           # 리턴해야할 값, 총 몇 종류가 나오는가?\n",
    "start_index = 1\n",
    "end_index = 1\n",
    "sum = 1             # 더하는 값 저장\n",
    "\n",
    "while end_index != n:\n",
    "    if sum == n:        # 정답인 경우\n",
    "        count += 1\n",
    "        end_index += 1\n",
    "    elif sum > n:       # 두 포인터 사이 값을 전부 더했을 때, n보다 크다면\n",
    "        sum -= start_index  # \n",
    "        start_index += 1    # 스타트 값을 올린다.\n",
    "    else:               # 두 포인터 사이 값이 n보다 작다면(초반부에 주로 발생)\n",
    "        end_index += 1\n",
    "        sum += end_index\n",
    "\n",
    "print(count)"
   ]
  },
  {
   "attachments": {},
   "cell_type": "markdown",
   "metadata": {},
   "source": [
    "\n",
    "책의 답안\n",
    "- 답안의 특징"
   ]
  },
  {
   "cell_type": "code",
   "execution_count": null,
   "metadata": {},
   "outputs": [],
   "source": []
  },
  {
   "attachments": {},
   "cell_type": "markdown",
   "metadata": {},
   "source": [
    "개선 답안"
   ]
  },
  {
   "cell_type": "code",
   "execution_count": null,
   "metadata": {},
   "outputs": [],
   "source": []
  }
 ],
 "metadata": {
  "kernelspec": {
   "display_name": "Python 3",
   "language": "python",
   "name": "python3"
  },
  "language_info": {
   "name": "python",
   "version": "3.11.2 (tags/v3.11.2:878ead1, Feb  7 2023, 16:38:35) [MSC v.1934 64 bit (AMD64)]"
  },
  "orig_nbformat": 4,
  "vscode": {
   "interpreter": {
    "hash": "a3d8f53f1429d27b792a3789224562ddd32c1395c9a9cfbb17b3c19c3b9a493d"
   }
  }
 },
 "nbformat": 4,
 "nbformat_minor": 2
}
