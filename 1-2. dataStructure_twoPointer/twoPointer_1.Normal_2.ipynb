{
 "cells": [
  {
   "attachments": {},
   "cell_type": "markdown",
   "metadata": {},
   "source": [
    "#### 투 포인터 (투 포인터)\n",
    "\n",
    "N개의 숫자가 주어지고 그 숫자들 중 2가지를 합치면 K가 된다.  \n",
    "입력은 N, K, 그리고 N개의 숫자들로 입력을 총 3번 받는다.  \n",
    "출력은 K를 몇 번 만들 수 있는지 나와야한다.  \n",
    "  \n",
    "아래 입력 예시에서, 각 숫자들의 값을 합쳐서 목표값을 만들 수 있는 경우가  \n",
    "총 몇번인지를 구해야 한다.    \n",
    "\n",
    "##### 입력예시\n",
    "6 <--입력받을 수의 개수  \n",
    "9 <--목표 값  \n",
    "2 7 4 1 5 3  \n",
    "\n",
    "##### 출력예시\n",
    "2  \n"
   ]
  },
  {
   "attachments": {},
   "cell_type": "markdown",
   "metadata": {},
   "source": [
    "내 첫번째 답안\n",
    "- 리스트의 시작 인덱스와 끝 인덱스를 각각 리스트의 첫번째와 두번째로 잡았다."
   ]
  },
  {
   "cell_type": "code",
   "execution_count": null,
   "metadata": {},
   "outputs": [],
   "source": [
    "n = int(input())\n",
    "k = int(input())\n",
    "nList = list(map(int, (input().split())))\n",
    "\n",
    "nList.sort()\n",
    "indexS = 0\n",
    "indexE = 0\n",
    "count = 0\n",
    "\n",
    "\n",
    "while indexS < len(nList)-2:\n",
    "    if nList[indexS] + nList[indexE] == k:  # 정답인 경우\n",
    "        count += 1\n",
    "        indexS += 1\n",
    "        indexE = indexS +1\n",
    "    elif nList[indexS] + nList[indexE] < k: # 더한 값이 정답보다 작은경우\n",
    "        indexE += 1\n",
    "    else:\n",
    "        indexS += 1\n",
    "        indexE = indexS +1\n",
    "\n",
    "    if indexE == len(nList):\n",
    "        indexS += 1\n",
    "        indexE = indexS + 1\n",
    "    if indexS == indexE:\n",
    "        indexE += 1\n",
    "\n",
    "print(count)"
   ]
  },
  {
   "attachments": {},
   "cell_type": "markdown",
   "metadata": {},
   "source": [
    "\n",
    "책의 답안\n",
    "- 두 포인터를 각각 리스트의 시작부분과 끝부분으로 잡았다.\n",
    "- 경우의 수가 몇 개인지 구하는 것이기에 정렬을 해도 좋으며 정렬을 해야 데이터를 써먹기 좋다.\n",
    "- 이 문제는 두 포인터가 시작과 끝부분에서 시작하여 가운데를 향해 조여오는 방식을 사용"
   ]
  },
  {
   "cell_type": "code",
   "execution_count": null,
   "metadata": {},
   "outputs": [],
   "source": [
    "# 최적화를 위한 임포트\n",
    "import sys\n",
    "input = sys.stdin.readline\n",
    "\n",
    "# 우선 몇 개의 수를 입력받을 것인가 입력\n",
    "N = int(input())\n",
    "# 목표로 하는 값을 입력\n",
    "K = int(input())\n",
    "# 수열을 입력\n",
    "A = list(map(int, (input().split())))\n",
    "\n",
    "# 우선 숫자들을 정렬하고, 정답변수, 시작포인터, 끝포인터를 정의한다.\n",
    "A.sort()\n",
    "count = 0\n",
    "i = 0\n",
    "j = N -1 # 끝 포인터가 마지막 번호에서 시작\n",
    "\n",
    "# 두 포인터가 시작과 끝에서 조여오는 방식\n",
    "while i < j:\n",
    "    if A[i] + A[j] < K: # 더한 값이 정답보다 작은 경우\n",
    "        i += 1\n",
    "    elif A[i] + A[j] > K: # 더한 값이 정답보다 큰 경우\n",
    "        j -= 1\n",
    "    else:               # 정답인 경우\n",
    "        count += 1\n",
    "        i += 1\n",
    "        j -= 1\n",
    "\n",
    "print(count)"
   ]
  },
  {
   "attachments": {},
   "cell_type": "markdown",
   "metadata": {},
   "source": [
    "개선 답안"
   ]
  },
  {
   "cell_type": "code",
   "execution_count": null,
   "metadata": {},
   "outputs": [],
   "source": []
  }
 ],
 "metadata": {
  "kernelspec": {
   "display_name": "Python 3",
   "language": "python",
   "name": "python3"
  },
  "language_info": {
   "name": "python",
   "version": "3.11.2 (tags/v3.11.2:878ead1, Feb  7 2023, 16:38:35) [MSC v.1934 64 bit (AMD64)]"
  },
  "orig_nbformat": 4,
  "vscode": {
   "interpreter": {
    "hash": "a3d8f53f1429d27b792a3789224562ddd32c1395c9a9cfbb17b3c19c3b9a493d"
   }
  }
 },
 "nbformat": 4,
 "nbformat_minor": 2
}
