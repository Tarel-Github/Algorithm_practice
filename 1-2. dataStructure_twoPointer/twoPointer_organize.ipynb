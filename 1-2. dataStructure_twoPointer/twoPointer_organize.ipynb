{
 "cells": [
  {
   "attachments": {},
   "cell_type": "markdown",
   "metadata": {},
   "source": [
    "## TwoPointer"
   ]
  },
  {
   "attachments": {},
   "cell_type": "markdown",
   "metadata": {},
   "source": [
    "___\n",
    "### 필수 코드\n",
    "import sys  \n",
    "input = sys.stdin.readlines  \n",
    "코드의 시간 복잡도를 낮추기 위해서 사용  \n",
    "___"
   ]
  },
  {
   "attachments": {},
   "cell_type": "markdown",
   "metadata": {},
   "source": [
    "### Normal"
   ]
  },
  {
   "attachments": {},
   "cell_type": "markdown",
   "metadata": {},
   "source": [
    "리스트가 있으면 시작 인덱스(이하 s)와 끝 인덱스(이하 e)가 있다.  \n",
    "이 포인터들은 리스트의 시작지점(0번 인덱스)와 끝지점(-1번 인덱스)에서 시작하며  \n",
    "가운데 방향으로 점차 조여오는 방식을 사용한다.  \n",
    "  \n",
    "우선 sort로 정렬을 먼저 하고  \n",
    "s와 e가 만날 때까지 반복하므로 while문을 주로 사용한다.\n",
    "s값과 e값의 변화는 if~elif로 주로 하는 듯\n"
   ]
  }
 ],
 "metadata": {
  "language_info": {
   "name": "python"
  },
  "orig_nbformat": 4
 },
 "nbformat": 4,
 "nbformat_minor": 2
}
