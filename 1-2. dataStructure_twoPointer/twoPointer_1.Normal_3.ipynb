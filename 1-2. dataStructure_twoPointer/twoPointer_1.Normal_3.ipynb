{
 "cells": [
  {
   "attachments": {},
   "cell_type": "markdown",
   "metadata": {},
   "source": [
    "#### 좋은 수 구하기 (투 포인터)\n",
    "\n",
    "N개의 수가 입력된다.  \n",
    "이 숫자들 안에서, 어떤 숫자든지 다른 두 수의 합으로 표현되는 수가 있다면 그 수를  \n",
    "좋은 수라고 정의한다.  \n",
    "이때 좋은 수가 몇 개인지 출력하시오.  \n",
    "\n",
    "##### 입력예시\n",
    "10  \n",
    "1 2 3 4 5 6 7 8 9 10  \n",
    "\n",
    "##### 출력예시\n",
    "8  \n"
   ]
  },
  {
   "attachments": {},
   "cell_type": "markdown",
   "metadata": {},
   "source": [
    "내 답안"
   ]
  },
  {
   "cell_type": "code",
   "execution_count": null,
   "metadata": {},
   "outputs": [],
   "source": [
    "n = int(input())\n",
    "A = list(map(int, (input().split())))\n",
    "\n",
    "A.sort()\n",
    "count = 0\n",
    "i = 0\n",
    "j = n-1 # 끝부분 인덱스가 마지막 번호에서 시작\n",
    "tg = 0\n",
    "\n",
    "while tg < n:\n",
    "    if A[i] + A[j] > A[tg]:\n",
    "        j -= 1\n",
    "    elif A[i] + A[j] < A[tg]:\n",
    "        i += 1\n",
    "    else:   # 정답인 경우\n",
    "        tg += 1\n",
    "        count += 1\n",
    "        i = 0\n",
    "        j = n-1\n",
    "    \n",
    "    if j == 0:  # 없는 경우\n",
    "        tg += 1\n",
    "        i = 0\n",
    "        j = n-1\n",
    "\n",
    "print(count)"
   ]
  },
  {
   "attachments": {},
   "cell_type": "markdown",
   "metadata": {},
   "source": [
    "책의 답안"
   ]
  },
  {
   "cell_type": "code",
   "execution_count": null,
   "metadata": {},
   "outputs": [],
   "source": [
    "# 최적화를 위한 임포트\n",
    "import sys\n",
    "input = sys.stdin.readline\n",
    "\n",
    "# 몇 개의 숫자를 입력받는지를 입력하고, 수열을 입력\n",
    "# 정답 변수를 선언하고 수열을 사용하기 좋게 정렬함\n",
    "N = int(input())\n",
    "A = list(map(int, (input().split())))\n",
    "Result = 0\n",
    "A.sort()\n",
    "\n",
    "# 여기서부터 핵심\n",
    "# 포인터 i와 j는 시작과 끝부분에서 시작한다.\n",
    "# 이 두 포인터를 양쪽에서 조여나가는 식으로 전개한다.\n",
    "# 목표값보다 작으면 시작포인터를, 크면 끝포인터를 당기는 방식이다.\n",
    "for k in range(N):\n",
    "    find = A[k]          # 목표값을 find로 저장\n",
    "    i = 0\n",
    "    j = N - 1\n",
    "    while i < j:\n",
    "        if A[i] + A[j] == find:\n",
    "            if i != k and j != k:   # 목표값을 찾았을 때, 그 값이 자기자신인 경우는 제외해야 한다.\n",
    "                Result += 1\n",
    "                break\n",
    "            elif i == k:    # 시작포인터나 끝포인터가 목표값이 되는 경우도 제외\n",
    "                i += 1\n",
    "            elif j == k:\n",
    "                j -= 1\n",
    "        elif A[i] + A[j] < find:    # 여기서부터는 포인터를 조여오는 구문\n",
    "            i += 1\n",
    "        else:\n",
    "            j -= 1\n",
    "print(Result)"
   ]
  }
 ],
 "metadata": {
  "kernelspec": {
   "display_name": "Python 3",
   "language": "python",
   "name": "python3"
  },
  "language_info": {
   "name": "python",
   "version": "3.11.2 (tags/v3.11.2:878ead1, Feb  7 2023, 16:38:35) [MSC v.1934 64 bit (AMD64)]"
  },
  "orig_nbformat": 4,
  "vscode": {
   "interpreter": {
    "hash": "a3d8f53f1429d27b792a3789224562ddd32c1395c9a9cfbb17b3c19c3b9a493d"
   }
  }
 },
 "nbformat": 4,
 "nbformat_minor": 2
}
