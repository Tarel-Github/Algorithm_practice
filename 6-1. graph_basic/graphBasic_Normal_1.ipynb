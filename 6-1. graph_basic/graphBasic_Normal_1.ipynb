{
 "cells": [
  {
   "attachments": {},
   "cell_type": "markdown",
   "metadata": {},
   "source": [
    "#### 문제 (그래프)\n",
    "엣지 리스트는 출발 노드, 도착 노드를 저장하고  \n",
    "경우에 따라 가중치가 있다.  각 노드는 방향성이 있다.  \n",
    "  \n",
    "\n",
    "특정거리의 도시찾기  \n",
    "이 문제에는 가중치가 없다.  \n",
    "도시의 수, 도로의 수, 구하고자 하는 최단거리, 출발 도시 번호 를 입력받는다.  \n",
    "출발 도시로부터 최단거리에 위치한 도시의 번호를 출력하는 프로그램을 작성  \n",
    "\n",
    "##### 입력예시\n",
    "4 4 2 1  \n",
    "1 2  \n",
    "1 3  \n",
    "2 3  \n",
    "2 4  \n",
    "##### 출력예시\n",
    "4  "
   ]
  },
  {
   "attachments": {},
   "cell_type": "markdown",
   "metadata": {},
   "source": [
    "내 첫번째 답안\n",
    "- 답안의 문제점"
   ]
  },
  {
   "cell_type": "code",
   "execution_count": null,
   "metadata": {},
   "outputs": [],
   "source": []
  },
  {
   "attachments": {},
   "cell_type": "markdown",
   "metadata": {},
   "source": [
    "\n",
    "책의 답안\n",
    "- 코드 분석 중"
   ]
  },
  {
   "cell_type": "code",
   "execution_count": null,
   "metadata": {},
   "outputs": [],
   "source": [
    "import sys\n",
    "from collections import deque\n",
    "input = sys.stdin.readline\n",
    "\n",
    "N, M, K, X = map(int, input().split()) # 도시수, 도로수, 구할 거리, 출발 도시 번호\n",
    "A = [[] for _ in range(N+1)]        # 0번 인덱스는 버리기 때문에 N+1번 수행\n",
    "answer = []\n",
    "visited = [-1] * (N + 1)            # 0번 인덱스는 버리는듯 함\n",
    "\n",
    "\n",
    "# BFS 탐색 함수, 전에 사용한 BFS알고리즘이랑 거의 일치한다. print()위치와 visited 만 다르다.\n",
    "def BFS(v):\n",
    "    queue = deque()\n",
    "    queue.append(v)         # 큐에 출발도시번호 삽입\n",
    "    visited[v] += 1         # 출발 도시는 0으로 변경, 나머지는 -1\n",
    "    while queue:\n",
    "        now_Node = queue.popleft()      # 큐에서 왼쪽 값을 빼고 now_Node에 삽입\n",
    "        for i in A[now_Node]:           # 예를들어, A[1]가 [1, 2, 3] 이면 1, 2, 3 순차로 가져옴\n",
    "            if visited[i] == -1:        # 방문한 적이 없다면\n",
    "                visited[i] = visited[now_Node] + 1  # 방문 기록을 1 올린다.\n",
    "                queue.append(i)         # 큐에 방문한 노드들을 추가한다.\n",
    "\n",
    "# 노드 연결 정보를 입력받고 A배열의 S번째 인덱스에 E를 넣는다.\n",
    "# 즉, 각 도시가 어디랑 연결되어 있는지 인덱스와 요소로써 나타낸다.\n",
    "for _ in range(M):\n",
    "    S, E =map(int, input().split())\n",
    "    A[S].append(E)\n",
    "\n",
    "BFS(X)              # 출발 도시 번호로 BFS 탐색 시작\n",
    "print(visited)      # BFS는 visited를 반환한다. 대략 오른쪽과 같은 형태로 나온다. [-1, 0, 1, 1, 2]\n",
    "            # 이 변수의 숫자는 스타트지점으로부터 해당 도시까지의 거리를 말한다.\n",
    "            # 즉, [-1, 0, 1, 1, 2]는 1번 인덱스가 스타트지점, 4번 인덱스까지 거리가 2라는 뜻이다.\n",
    "\n",
    "for i in range(N + 1):  # 이제 방문 인덱스에서, 거리가 내가 찾고자하는거리(K)와 같으면\n",
    "    if visited[i] == K:\n",
    "        answer.append(i) # answer에 그 도시번호를 추가한다.\n",
    "\n",
    "if not answer:      # answer가 없으면 그냥 1을 반환하고\n",
    "    print(-1)\n",
    "else:\n",
    "    answer.sort()   # answer가 있으면 이를 정렬한다음 순서대로 출력한다.\n",
    "    for i in answer:\n",
    "        print(i)\n",
    "\n",
    "'''\n",
    "\n",
    "'''"
   ]
  },
  {
   "attachments": {},
   "cell_type": "markdown",
   "metadata": {},
   "source": [
    "개선 답안"
   ]
  },
  {
   "cell_type": "code",
   "execution_count": null,
   "metadata": {},
   "outputs": [],
   "source": []
  }
 ],
 "metadata": {
  "kernelspec": {
   "display_name": "Python 3",
   "language": "python",
   "name": "python3"
  },
  "language_info": {
   "name": "python",
   "version": "3.11.2 (tags/v3.11.2:878ead1, Feb  7 2023, 16:38:35) [MSC v.1934 64 bit (AMD64)]"
  },
  "orig_nbformat": 4,
  "vscode": {
   "interpreter": {
    "hash": "a3d8f53f1429d27b792a3789224562ddd32c1395c9a9cfbb17b3c19c3b9a493d"
   }
  }
 },
 "nbformat": 4,
 "nbformat_minor": 2
}
