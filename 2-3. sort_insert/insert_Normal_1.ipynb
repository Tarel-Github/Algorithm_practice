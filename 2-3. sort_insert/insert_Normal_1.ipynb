{
 "cells": [
  {
   "attachments": {},
   "cell_type": "markdown",
   "metadata": {},
   "source": [
    "#### 문제 (삽입 정렬)\n",
    "\n",
    "리스트 내에서 두 번째 값을 찾고 그것을 1~2 번째 값과 비교하여 올바른 위치에 삽입하고  \n",
    "3 번째 값을 찾고 그것을 1~3 번째 값과 비교하여 적절한 위치에 찾아가는...  \n",
    "이와 같은 행동을 반복하는 것이 삽입 정렬이다.  \n",
    "\n",
    "첫 번째 입력은 데이터 개수, 두번째 입력은 정렬해야할 리스트이다.  \n",
    "삽입 정렬을 구현하자  \n",
    "  \n",
    "총 사람들의 수를 입력받고  \n",
    "그 다음 각 사람들의 작업시간을 순서대로 입력받는다.  \n",
    "만약 3 1 4 3 2를 입력받는다면  \n",
    "3번째 사람은 3 + 1 + 4 총 8분이 걸린다.  \n",
    "만약 가장 짧게 걸릴 수 있도록 줄을 다시 선다면  \n",
    "몇 분이 걸리는가?  \n",
    "##### 입력예시\n",
    "\n",
    "5  \n",
    "3 1 4 3 2  \n",
    "\n",
    "##### 출력예시\n",
    "32  "
   ]
  },
  {
   "attachments": {},
   "cell_type": "markdown",
   "metadata": {},
   "source": [
    "내 첫번째 답안\n",
    "- 답안의 문제점"
   ]
  },
  {
   "cell_type": "code",
   "execution_count": null,
   "metadata": {},
   "outputs": [],
   "source": []
  },
  {
   "attachments": {},
   "cell_type": "markdown",
   "metadata": {},
   "source": [
    "\n",
    "책의 답안\n",
    "- 답안의 특징"
   ]
  },
  {
   "cell_type": "code",
   "execution_count": null,
   "metadata": {},
   "outputs": [],
   "source": []
  },
  {
   "attachments": {},
   "cell_type": "markdown",
   "metadata": {},
   "source": [
    "개선 답안"
   ]
  },
  {
   "cell_type": "code",
   "execution_count": null,
   "metadata": {},
   "outputs": [],
   "source": []
  }
 ],
 "metadata": {
  "kernelspec": {
   "display_name": "Python 3",
   "language": "python",
   "name": "python3"
  },
  "language_info": {
   "name": "python",
   "version": "3.11.2 (tags/v3.11.2:878ead1, Feb  7 2023, 16:38:35) [MSC v.1934 64 bit (AMD64)]"
  },
  "orig_nbformat": 4,
  "vscode": {
   "interpreter": {
    "hash": "a3d8f53f1429d27b792a3789224562ddd32c1395c9a9cfbb17b3c19c3b9a493d"
   }
  }
 },
 "nbformat": 4,
 "nbformat_minor": 2
}
