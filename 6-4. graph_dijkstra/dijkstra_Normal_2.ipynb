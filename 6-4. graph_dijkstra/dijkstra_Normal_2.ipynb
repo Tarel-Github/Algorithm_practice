{
 "cells": [
  {
   "attachments": {},
   "cell_type": "markdown",
   "metadata": {},
   "source": [
    "#### 문제 (그래프, 다익스트라)\n",
    "그래프에서 최단 거리를 구하는 알고리즘  \n",
    "\n",
    "\n",
    "##### 입력예시\n",
    "\n",
    "\n",
    "##### 출력예시\n"
   ]
  },
  {
   "attachments": {},
   "cell_type": "markdown",
   "metadata": {},
   "source": [
    "내 첫번째 답안\n",
    "- 답안의 문제점"
   ]
  },
  {
   "cell_type": "code",
   "execution_count": null,
   "metadata": {},
   "outputs": [],
   "source": []
  },
  {
   "attachments": {},
   "cell_type": "markdown",
   "metadata": {},
   "source": [
    "\n",
    "책의 답안\n",
    "- 답안의 특징"
   ]
  },
  {
   "cell_type": "code",
   "execution_count": null,
   "metadata": {},
   "outputs": [],
   "source": [
    "import sys\n",
    "import heapq\n",
    "input = sys.stdin.readline\n",
    "N, M, K = map(int, input().split())\n",
    "W = [[] for _ in range(N+1)]\n",
    "\n",
    "distance = [[sys.maxsize] * K for _ in range(N+1)]\n",
    "\n",
    "for _ in range(M):\n",
    "    a, b, c = map(int, input().split())\n",
    "    W[a].append((b, c))\n",
    "\n",
    "pq = [(0, 1)]\n",
    "distance[1][0] = 0\n",
    "\n",
    "while pq:\n",
    "    cost, node = heapq.heappop(pq)\n",
    "    for nNode, nCost in W[node]:\n",
    "        sCost = cost + nCost\n",
    "        if distance[nNode][K-1] > sCost:\n",
    "            distance[nNode][K-1] = sCost\n",
    "            distance[nNode].sort()\n",
    "            heapq.heappush(pq, [sCost, nNode])\n",
    "\n",
    "\n",
    "for i in range(1, N+1):\n",
    "    if distance[i][K-1] == sys.maxsize:\n",
    "        print(-1)\n",
    "    else:\n",
    "        print(distance[i][K-1])\n",
    "\n",
    "\n",
    "'''\n",
    "\n",
    "'''"
   ]
  },
  {
   "attachments": {},
   "cell_type": "markdown",
   "metadata": {},
   "source": [
    "개선 답안"
   ]
  },
  {
   "cell_type": "code",
   "execution_count": null,
   "metadata": {},
   "outputs": [],
   "source": []
  }
 ],
 "metadata": {
  "kernelspec": {
   "display_name": "Python 3",
   "language": "python",
   "name": "python3"
  },
  "language_info": {
   "name": "python",
   "version": "3.11.2 (tags/v3.11.2:878ead1, Feb  7 2023, 16:38:35) [MSC v.1934 64 bit (AMD64)]"
  },
  "orig_nbformat": 4,
  "vscode": {
   "interpreter": {
    "hash": "a3d8f53f1429d27b792a3789224562ddd32c1395c9a9cfbb17b3c19c3b9a493d"
   }
  }
 },
 "nbformat": 4,
 "nbformat_minor": 2
}
