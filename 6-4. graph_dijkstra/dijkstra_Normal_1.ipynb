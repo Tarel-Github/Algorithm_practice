{
 "cells": [
  {
   "attachments": {},
   "cell_type": "markdown",
   "metadata": {},
   "source": [
    "#### 문제 (그래프, 다익스트라)\n",
    "그래프에서 최단 거리를 구하는 알고리즘  \n",
    "\n",
    "\n",
    "##### 입력예시\n",
    "\n",
    "\n",
    "##### 출력예시\n"
   ]
  },
  {
   "attachments": {},
   "cell_type": "markdown",
   "metadata": {},
   "source": [
    "내 첫번째 답안\n",
    "- 답안의 문제점"
   ]
  },
  {
   "cell_type": "code",
   "execution_count": null,
   "metadata": {},
   "outputs": [],
   "source": []
  },
  {
   "attachments": {},
   "cell_type": "markdown",
   "metadata": {},
   "source": [
    "\n",
    "책의 답안\n",
    "- 답안의 특징"
   ]
  },
  {
   "cell_type": "code",
   "execution_count": null,
   "metadata": {},
   "outputs": [],
   "source": [
    "import sys\n",
    "input = sys.stdin.readline\n",
    "from queue import PriorityQueue     # 새로운 라이브러리????\n",
    "\n",
    "V, E = map (int, input().split())\n",
    "K = int(input())\n",
    "distance = [sys.maxsize] * (V + 1)\n",
    "visited = [False] * ( V + 1)\n",
    "myList = [[] for _ in range(V+1)]\n",
    "q = PriorityQueue()\n",
    "\n",
    "for _ in range(E):\n",
    "    u, v, w = map(int, input().split())\n",
    "    myList[u].append((v, w))\n",
    "\n",
    "q.put((0, K))   # K를 시작점으로 설정\n",
    "distance[K] = 0\n",
    "\n",
    "while q.qsize() > 0:\n",
    "    current = q.get()\n",
    "    c_v = current[1]\n",
    "    if visited[c_v]:\n",
    "        continue\n",
    "    visited[c_v] = True\n",
    "    for tmp in myList[c_v]:\n",
    "        next = tmp[0]\n",
    "        value = tmp[1]\n",
    "        if distance[next] > distance[c_v] + value:\n",
    "            distance[next] = distance[c_v] + value\n",
    "            q.put((distance[next], next))\n",
    "\n",
    "for i in range(1, V + 1):\n",
    "    if visited[i]:\n",
    "        print(distance[i])\n",
    "    else:\n",
    "        print(\"INF\")\n",
    "\n",
    "\n",
    "\n",
    "'''\n",
    "\n",
    "'''"
   ]
  },
  {
   "attachments": {},
   "cell_type": "markdown",
   "metadata": {},
   "source": [
    "개선 답안"
   ]
  },
  {
   "cell_type": "code",
   "execution_count": null,
   "metadata": {},
   "outputs": [],
   "source": []
  }
 ],
 "metadata": {
  "kernelspec": {
   "display_name": "Python 3",
   "language": "python",
   "name": "python3"
  },
  "language_info": {
   "name": "python",
   "version": "3.11.2 (tags/v3.11.2:878ead1, Feb  7 2023, 16:38:35) [MSC v.1934 64 bit (AMD64)]"
  },
  "orig_nbformat": 4,
  "vscode": {
   "interpreter": {
    "hash": "a3d8f53f1429d27b792a3789224562ddd32c1395c9a9cfbb17b3c19c3b9a493d"
   }
  }
 },
 "nbformat": 4,
 "nbformat_minor": 2
}
