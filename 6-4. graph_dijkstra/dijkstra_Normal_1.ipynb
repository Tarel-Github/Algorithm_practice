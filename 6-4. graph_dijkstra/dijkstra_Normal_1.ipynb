{
 "cells": [
  {
   "attachments": {},
   "cell_type": "markdown",
   "metadata": {},
   "source": [
    "#### 문제 (그래프, 다익스트라)\n",
    "그래프에서 최단 거리를 구하는 알고리즘  \n",
    "가중치가 있으며, 가중치는 모두 양수다, 출발노드와 모든 노드간의 최단거리를 탐색한다.  \n",
    "  \n",
    "가중치가 10 이하 자연수인 방향 그래프에서, 출발점부터 모든 노드까지의 최단경로를 구하는  \n",
    "알고리즘을 작성  \n",
    "\n",
    "##### 입력예시\n",
    "5 6  \n",
    "1  \n",
    "5 1 1  \n",
    "1 2 2  \n",
    "1 3 3  \n",
    "2 3 4  \n",
    "2 4 5  \n",
    "3 4 6  \n",
    "\n",
    "##### 출력예시\n",
    "0  \n",
    "2  \n",
    "3  \n",
    "7  \n",
    "INF  \n"
   ]
  },
  {
   "attachments": {},
   "cell_type": "markdown",
   "metadata": {},
   "source": [
    "내 첫번째 답안\n",
    "- 답안의 문제점"
   ]
  },
  {
   "cell_type": "code",
   "execution_count": null,
   "metadata": {},
   "outputs": [],
   "source": []
  },
  {
   "attachments": {},
   "cell_type": "markdown",
   "metadata": {},
   "source": [
    "\n",
    "책의 답안\n",
    "- 답안의 특징"
   ]
  },
  {
   "cell_type": "code",
   "execution_count": null,
   "metadata": {},
   "outputs": [],
   "source": [
    "import sys\n",
    "input = sys.stdin.readline\n",
    "from queue import PriorityQueue     # 새로운 라이브러리????\n",
    "\n",
    "V, E = map (int, input().split())           # 노드와 엣지수 입력 받음\n",
    "K = int(input())                            # 출발 노드\n",
    "distance = [sys.maxsize] * (V + 1)          # 거리 리스트, 충분히 큰 값으로 초기화\n",
    "visited = [False] * ( V + 1)                # 방문 여부를 나타내는 리스트, 노드 수보다 하나 더 길게 선언하고 0번은 안 쓴다.\n",
    "myList = [[] for _ in range(V+1)]           # [[], [], []~~] 연결 목록\n",
    "q = PriorityQueue()                         # 우선 순위 큐\n",
    "\n",
    "for _ in range(E):\n",
    "    u, v, w = map(int, input().split())\n",
    "    myList[u].append((v, w))\n",
    "\n",
    "\n",
    "q.put((0, K))   # K를 시작점으로 설정, put()메소드는 우선순위 큐에 새로운 항목을 추가하는 역할을 한다.\n",
    "            \n",
    "distance[K] = 0 # 시작점과 시작점간의 거리는 0으로 설정\n",
    "\n",
    "while q.qsize() > 0:        #.qsize() 메소드는 우선순위 큐에 있는 항목의 개수를 반환한다, 큐가 빌 때 까지 반복\n",
    "    current = q.get()       #.get() 메소드는 우선순위 큐에서 가장 높은 우선순위를 가진 항목을 제거하고 그 값을 반환한다.\n",
    "                    # q에 넣었던 값은 q.put()을 통해 넣었던 값\n",
    "    c_v = current[1]    # 노드 번호를 가져온다.   \n",
    "    if visited[c_v]:    # 방문한 적이 있다면 다음으로 넘어감\n",
    "        continue\n",
    "    visited[c_v] = True # 방문한 적이 있게 변경\n",
    "\n",
    "    # 인접한 노드를 탐색한다.\n",
    "    for tmp in myList[c_v]: \n",
    "        next = tmp[0]       # 다음에 방문할 노드\n",
    "        value = tmp[1]      # 현 노드에서 다음 노드까지의 가중치\n",
    "\n",
    "        # 출발점으로부터 다음 노드까지의 거리가 현재 저장된 거립다 작으면 업데이트 하고 우선순위 큐에 넣는다.\n",
    "        if distance[next] > distance[c_v] + value:\n",
    "            distance[next] = distance[c_v] + value\n",
    "            q.put((distance[next], next))\n",
    "\n",
    "# 거리를 출력한다.\n",
    "for i in range(1, V + 1):\n",
    "    if visited[i]:\n",
    "        print(distance[i])\n",
    "    else:\n",
    "        print(\"INF\")\n",
    "\n",
    "\n",
    "\n",
    "'''\n",
    "\n",
    "'''"
   ]
  },
  {
   "attachments": {},
   "cell_type": "markdown",
   "metadata": {},
   "source": [
    "개선 답안"
   ]
  },
  {
   "cell_type": "code",
   "execution_count": null,
   "metadata": {},
   "outputs": [],
   "source": []
  }
 ],
 "metadata": {
  "kernelspec": {
   "display_name": "Python 3",
   "language": "python",
   "name": "python3"
  },
  "language_info": {
   "name": "python",
   "version": "3.11.2 (tags/v3.11.2:878ead1, Feb  7 2023, 16:38:35) [MSC v.1934 64 bit (AMD64)]"
  },
  "orig_nbformat": 4,
  "vscode": {
   "interpreter": {
    "hash": "a3d8f53f1429d27b792a3789224562ddd32c1395c9a9cfbb17b3c19c3b9a493d"
   }
  }
 },
 "nbformat": 4,
 "nbformat_minor": 2
}
