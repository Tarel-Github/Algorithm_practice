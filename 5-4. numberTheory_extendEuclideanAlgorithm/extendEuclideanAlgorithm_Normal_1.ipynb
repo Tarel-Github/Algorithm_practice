{
 "cells": [
  {
   "attachments": {},
   "cell_type": "markdown",
   "metadata": {},
   "source": [
    "#### 문제 (확장 유클리드 호제법)\n",
    "방정식의 해를 구하는 알고리즘  \n",
    "이걸 제대로 이해하려면 수학 증명 과정까지 공부해야 한다. 그러나 지금은  \n",
    "그저 확장 유클리드 호제법 문제를 풀기 위한 알고리즘만 설명한다.  \n",
    "\n",
    "예를 들어, 5x + 9y = 2 일 때, 5와 9의 최대공약수는 1이다.  \n",
    "고로 5x + 9y = 1로 다시 설정한다.  \n",
    "유클리드 호제법에 따라 반복하면 다음과 같이 된다.  \n",
    "5 % 9 = 5   몫은 0, 나머지 5  \n",
    "9 % 5 = 4   몫은 1, 나머지 4  \n",
    "5 % 4 = 1   몫은 1, 나머지 1  \n",
    "4 % 1 = 0   몫은 4, 나머지 0  \n",
    "\n",
    "이제 여기서 역순으로 올라간다. 단, x는 0, y는 1로 정한다.  \n",
    "x = 0, y= 1 - (0 * 4) = 1  \n",
    "이 식에서, 4는 몫에서 온 값이고 y에서 0은 x 값을 가져온 것이다.  \n",
    "\n",
    "다음 행의 몫은 1이다. 다음 y값의 첫 숫자는 x값이다. 즉 아래와 같다.  \n",
    "x = ?, y= 0 - ( ? * 1) = -1   \n",
    "★★★★★★★★★★★★★★★  \n",
    "★★★★★이 다음 내용은 추가적인 이해가 필요할듯 함  \n",
    "★★★★★★★★★★★★★★★  \n",
    "  \n",
    "정수 A B C가 주어졌을 때,\n",
    "Ax + By = C 를 만족하는 x, y를 출력한다.  \n",
    "존재하지 않을 경우, -1 을 출력하는 프로그램을 작성하시오.  \n",
    "\n",
    "\n",
    "##### 입력예시\n",
    "\n",
    "\n",
    "##### 출력예시\n"
   ]
  },
  {
   "attachments": {},
   "cell_type": "markdown",
   "metadata": {},
   "source": [
    "내 첫번째 답안\n",
    "- 답안의 문제점"
   ]
  },
  {
   "cell_type": "code",
   "execution_count": null,
   "metadata": {},
   "outputs": [],
   "source": [
    "a, b, c = map(int, input().split())\n",
    "\n",
    "def gcd(a,b):           # 최대 공약수 구하는 알고리즘\n",
    "    if b == 0:\n",
    "        return a\n",
    "    else:\n",
    "        return gcd(b, a % b)\n",
    "\n",
    "def Execute(a, b):\n",
    "    ret = [0] * 2               # [0,0] 배열을 만듦\n",
    "    if b == 0:                  # ax+by=c 식에서 bx가 0이 되는 경우로 이때는 [1, 0]만 하고 바로 리턴\n",
    "        ret[0] = 1              # 단, 재귀로 돌아온 경우, a % b가 0이면 이쪽으로 온다.\n",
    "        ret[1] = 0\n",
    "        return ret\n",
    "    q = a // b\n",
    "    v = Execute(b, a % b)       # b와 ab최.공을 넣고 다시 재귀 시작, 어느순간 [1, 0]을 반환받는 순간이 있다.\n",
    "    ret[0] = v[1]\n",
    "    ret[1] = v[0] - v[1] * q\n",
    "    return ret\n",
    "\n",
    "\n",
    "mgcd = gcd(a, b)        # 최대공약수를 구해옴\n",
    "\n",
    "if c % mgcd != 0:       # c가 최대공약수로 안 나뉘어지면 불가능 리턴\n",
    "    print(-1)\n",
    "else:\n",
    "    mok = int(c / mgcd)               # mok은 C/최.공\n",
    "    ret = Execute(a, b)\n",
    "    print(ret[0] * mok, end = ' ')\n",
    "    print(ret[1] * mok)\n",
    "\n",
    "\n",
    "'''\n",
    "다소 어려운 부분\n",
    "마찬가지로 암기 후 숙달하는 것이 좋을 듯 함\n",
    "'''"
   ]
  },
  {
   "attachments": {},
   "cell_type": "markdown",
   "metadata": {},
   "source": [
    "\n",
    "책의 답안\n",
    "- 답안의 특징"
   ]
  },
  {
   "cell_type": "code",
   "execution_count": null,
   "metadata": {},
   "outputs": [],
   "source": []
  },
  {
   "attachments": {},
   "cell_type": "markdown",
   "metadata": {},
   "source": [
    "개선 답안"
   ]
  },
  {
   "cell_type": "code",
   "execution_count": null,
   "metadata": {},
   "outputs": [],
   "source": []
  }
 ],
 "metadata": {
  "kernelspec": {
   "display_name": "Python 3",
   "language": "python",
   "name": "python3"
  },
  "language_info": {
   "name": "python",
   "version": "3.11.2 (tags/v3.11.2:878ead1, Feb  7 2023, 16:38:35) [MSC v.1934 64 bit (AMD64)]"
  },
  "orig_nbformat": 4,
  "vscode": {
   "interpreter": {
    "hash": "a3d8f53f1429d27b792a3789224562ddd32c1395c9a9cfbb17b3c19c3b9a493d"
   }
  }
 },
 "nbformat": 4,
 "nbformat_minor": 2
}
