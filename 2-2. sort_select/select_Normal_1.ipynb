{
 "cells": [
  {
   "attachments": {},
   "cell_type": "markdown",
   "metadata": {},
   "source": [
    "#### 문제 (선택 정렬)\n",
    "\n",
    "선택정렬은 리스트 내에서, 최솟값이나 최댓값을 찾고 가장 앞의 것과 서로 스왑하면서 정렬한다.  \n",
    "내림차순으로 선택정렬을 구현하자\n",
    "\n",
    "##### 입력예시\n",
    "2143\n",
    "\n",
    "##### 출력예시\n",
    "4321"
   ]
  },
  {
   "attachments": {},
   "cell_type": "markdown",
   "metadata": {},
   "source": [
    "내 첫번째 답안\n",
    "- N = list(input()) 을 하면 붙어있는 숫자들도 한 칸씩 리스트화 할 수 있다."
   ]
  },
  {
   "cell_type": "code",
   "execution_count": null,
   "metadata": {},
   "outputs": [],
   "source": []
  },
  {
   "attachments": {},
   "cell_type": "markdown",
   "metadata": {},
   "source": [
    "\n",
    "책의 답안\n",
    "- 답안의 특징"
   ]
  },
  {
   "cell_type": "code",
   "execution_count": null,
   "metadata": {},
   "outputs": [],
   "source": []
  },
  {
   "attachments": {},
   "cell_type": "markdown",
   "metadata": {},
   "source": [
    "개선 답안"
   ]
  },
  {
   "cell_type": "code",
   "execution_count": null,
   "metadata": {},
   "outputs": [],
   "source": []
  }
 ],
 "metadata": {
  "kernelspec": {
   "display_name": "Python 3",
   "language": "python",
   "name": "python3"
  },
  "language_info": {
   "name": "python",
   "version": "3.11.2 (tags/v3.11.2:878ead1, Feb  7 2023, 16:38:35) [MSC v.1934 64 bit (AMD64)]"
  },
  "orig_nbformat": 4,
  "vscode": {
   "interpreter": {
    "hash": "a3d8f53f1429d27b792a3789224562ddd32c1395c9a9cfbb17b3c19c3b9a493d"
   }
  }
 },
 "nbformat": 4,
 "nbformat_minor": 2
}
