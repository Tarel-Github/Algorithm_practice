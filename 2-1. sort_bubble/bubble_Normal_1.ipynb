{
 "cells": [
  {
   "attachments": {},
   "cell_type": "markdown",
   "metadata": {},
   "source": [
    "#### 문제 (버블 정렬)\n",
    "\n",
    "N개의 수가 주어졌을 때, 이를 오름차순 정렬하는 프로그램 작성\n",
    "\n",
    "##### 입력예시\n",
    "5 <--수의 개수  \n",
    "5  \n",
    "2  \n",
    "3  \n",
    "4  \n",
    "1  \n",
    "\n",
    "##### 출력예시\n",
    "1  \n",
    "2  \n",
    "3  \n",
    "4  \n",
    "5  "
   ]
  },
  {
   "attachments": {},
   "cell_type": "markdown",
   "metadata": {},
   "source": [
    "내 첫번째 답안\n",
    "- sort를 사용하면 쉽게 구현할 수 있지만, 문제 의도는 아닌것 같다.\n",
    "- 정렬을 직접 구현할 필요가 있다."
   ]
  },
  {
   "cell_type": "code",
   "execution_count": null,
   "metadata": {},
   "outputs": [],
   "source": [
    "N = int(input())\n",
    "A = []\n",
    "\n",
    "for i in range(0, N):\n",
    "    A.append(int(input()))\n",
    "\n",
    "A.sort()\n",
    "\n",
    "for i in range(0, len(A)):\n",
    "    print(A[i])"
   ]
  },
  {
   "attachments": {},
   "cell_type": "markdown",
   "metadata": {},
   "source": [
    "\n",
    "책의 답안\n",
    "- sort를 사용하지 않고 직접 구현했다."
   ]
  },
  {
   "cell_type": "code",
   "execution_count": null,
   "metadata": {},
   "outputs": [],
   "source": [
    "N = int(input())\n",
    "A = [] * N\n",
    "\n",
    "for i in range(N):\n",
    "    A[i] = int(input())\n",
    "\n",
    "for i in range(N-1):\n",
    "    for j in range(N-1-i):\n",
    "        if A[j] > A[j-1]:\n",
    "            temp = A[j+1]\n",
    "            A[j+1] = temp\n",
    "\n",
    "for i in range(N):\n",
    "    print(A[i])"
   ]
  },
  {
   "attachments": {},
   "cell_type": "markdown",
   "metadata": {},
   "source": [
    "개선 답안"
   ]
  },
  {
   "cell_type": "code",
   "execution_count": null,
   "metadata": {},
   "outputs": [],
   "source": []
  }
 ],
 "metadata": {
  "kernelspec": {
   "display_name": "Python 3",
   "language": "python",
   "name": "python3"
  },
  "language_info": {
   "name": "python",
   "version": "3.11.2 (tags/v3.11.2:878ead1, Feb  7 2023, 16:38:35) [MSC v.1934 64 bit (AMD64)]"
  },
  "orig_nbformat": 4,
  "vscode": {
   "interpreter": {
    "hash": "a3d8f53f1429d27b792a3789224562ddd32c1395c9a9cfbb17b3c19c3b9a493d"
   }
  }
 },
 "nbformat": 4,
 "nbformat_minor": 2
}
