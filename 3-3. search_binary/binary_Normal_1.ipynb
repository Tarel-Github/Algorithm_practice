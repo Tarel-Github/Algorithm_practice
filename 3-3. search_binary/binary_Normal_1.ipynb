{
 "cells": [
  {
   "attachments": {},
   "cell_type": "markdown",
   "metadata": {},
   "source": [
    "#### 문제 (이진 탐색)\n",
    "\n",
    "이진탐색은 데이터가 정렬돼 있는 상태에서 값을 찾는 알고리즘으로  \n",
    "대상 데이터의 중앙값과 찾고자 하는 값을 비교해 데이터 크기를 반씩 줄이면서 찾는다.  \n",
    "이진 탐색은 정렬 데이터에서 원하는 값을 찾을 때 사용하는 가장 일반적인 알고리즘으로  \n",
    "비교적 간단하기 때문에 자주 요구된다.  \n",
    "데이터 개수와 배열을 입력받고, 찾아야할 데이터 수와 그 배열을 입력받는다.  \n",
    "찾아야할 숫자를 찾았으면 1, 못찾았으면 0을 출력  \n",
    "\n",
    "##### 입력예시\n",
    "5  \n",
    "4 1 5 2 3  \n",
    "5  \n",
    "1 3 7 9 5  \n",
    "\n",
    "##### 출력예시\n",
    "1  \n",
    "1  \n",
    "0  \n",
    "0  \n",
    "1  "
   ]
  },
  {
   "attachments": {},
   "cell_type": "markdown",
   "metadata": {},
   "source": [
    "내 첫번째 답안\n",
    "- 답안의 문제점"
   ]
  },
  {
   "cell_type": "code",
   "execution_count": null,
   "metadata": {},
   "outputs": [],
   "source": []
  },
  {
   "attachments": {},
   "cell_type": "markdown",
   "metadata": {},
   "source": [
    "\n",
    "책의 답안\n",
    "- 비교적 간단하다."
   ]
  },
  {
   "cell_type": "code",
   "execution_count": null,
   "metadata": {},
   "outputs": [],
   "source": [
    "N = int(input())                    # 데이터 개수 입력\n",
    "A = list(map(int, input().split())) # 배열을 받음\n",
    "A.sort()\n",
    "\n",
    "M = int(input())                    # 찾아야할 숫자의 개수\n",
    "target_list = list(map(int, input().split())) # 찾아야할 숫자를 모아둔 배열을 받음\n",
    "\n",
    "\n",
    "for i in range(M):\n",
    "    find = False\n",
    "    target = target_list[i]         # 찾아야할 대상의 i번째 값을 받아옴\n",
    "\n",
    "    #이진탐색 시작\n",
    "    start = 0\n",
    "    end = len(A) - 1\n",
    "    while start <= end:\n",
    "        midi = int((start + end)/2)\n",
    "        midv = A[midi]\n",
    "        if midv > target:\n",
    "            end = midi - 1\n",
    "        elif midv < target:\n",
    "            start = midi + 1\n",
    "        else:\n",
    "            find = True\n",
    "            break\n",
    "    if find:\n",
    "        print(1)\n",
    "    else:\n",
    "        print(0)\n",
    "\n",
    "'''\n",
    "이진 탐색 시작부분이 중요하다\n",
    "우선 배열에서, 시작과 끝부분을 지정해줄 인덱스를 만들고 반복문을 시작한다.\n",
    "시작인덱스가 끝 인덱스 이하일때 반복한다.\n",
    "\n",
    "우선 중앙 인덱스를 midi로 만든다.\n",
    "그리고 그 인덱스에 있는 값을 midv라고 한다.\n",
    "\n",
    "그 midv의 값이 찾고자 하는 값보다 크면 end 값을 1 감소,\n",
    "반대로 작다면 start 값을 1 증가 시킨다.\n",
    "만약 같다면 찾은것으로 판명한다.\n",
    "\n",
    "'''"
   ]
  },
  {
   "attachments": {},
   "cell_type": "markdown",
   "metadata": {},
   "source": [
    "개선 답안"
   ]
  },
  {
   "cell_type": "code",
   "execution_count": null,
   "metadata": {},
   "outputs": [],
   "source": []
  }
 ],
 "metadata": {
  "kernelspec": {
   "display_name": "Python 3",
   "language": "python",
   "name": "python3"
  },
  "language_info": {
   "name": "python",
   "version": "3.11.2 (tags/v3.11.2:878ead1, Feb  7 2023, 16:38:35) [MSC v.1934 64 bit (AMD64)]"
  },
  "orig_nbformat": 4,
  "vscode": {
   "interpreter": {
    "hash": "a3d8f53f1429d27b792a3789224562ddd32c1395c9a9cfbb17b3c19c3b9a493d"
   }
  }
 },
 "nbformat": 4,
 "nbformat_minor": 2
}
