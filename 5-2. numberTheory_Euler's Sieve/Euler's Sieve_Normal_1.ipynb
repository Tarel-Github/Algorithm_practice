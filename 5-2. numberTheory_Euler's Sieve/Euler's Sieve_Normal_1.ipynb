{
 "cells": [
  {
   "attachments": {},
   "cell_type": "markdown",
   "metadata": {},
   "source": [
    "#### 문제 (정수론, 오일러의 피)\n",
    "\n",
    "오일러의 피 함수의 정의는 1부터 N까지 범위에서 N과 서로소인 자연수의 개수를 말한다.  \n",
    "원리는 에라토스테네스와 비슷하다.  \n",
    "자연수 n이 GCD(n, k) = 1을 만족하는 자연수 개수를 구하는 프로그램을 작성  \n",
    "  \n",
    "참고로 서로소란 두 개 이상의 자연수가 공약수가 없으면 서로소다.\n",
    "\n",
    "##### 입력예시\n",
    "99\n",
    "\n",
    "##### 출력예시\n",
    "60"
   ]
  },
  {
   "attachments": {},
   "cell_type": "markdown",
   "metadata": {},
   "source": [
    "내 첫번째 답안\n",
    "- 답안의 문제점"
   ]
  },
  {
   "cell_type": "code",
   "execution_count": null,
   "metadata": {},
   "outputs": [],
   "source": []
  },
  {
   "attachments": {},
   "cell_type": "markdown",
   "metadata": {},
   "source": [
    "\n",
    "책의 답안\n",
    "- 답안의 특징"
   ]
  },
  {
   "cell_type": "code",
   "execution_count": null,
   "metadata": {},
   "outputs": [],
   "source": [
    "import math\n",
    "\n",
    "N = int(input())                # N과 서로소인 자연수의 개수를 구해야 함\n",
    "result = N\n",
    "\n",
    "for p in range(2, int(math.sqrt(N)) + 1):   #에라토스테네스처럼 제곱근까지만 진행,P는 2부터 N의 제곱근이다. 99 기준 9까지\n",
    "    if N % p == 0:                  # p가 N의 소인수(p로 N나눈 나머지가 0)라면\n",
    "        result -= result / p        # 결과값(최대값)에서 p로 나누어 떨어지는는 수를 result에서 뺀다.(result / p 는, 결국 result를 p로 나눌 수 있는 숫자를 말한다.)\n",
    "                # 만약 10 / 2이면 2, 4, 6, 8, 10 총 5개다. // 만약 15 / 3이면 3, 6, 9, 12, 15 총 5개다.\n",
    "\n",
    "        while N % p == 0:           # N % p == 0 이라는건 p가 N의 소인수라는 뜻\n",
    "            N /= p                  # N을 p로 나눈다. 99를 기준으로 99 -> 33 --> 11 됌                          \n",
    "        # N값은 지속적으로 작아지지만 최상단의 for문의 범위에는 영향이 없다.\n",
    "\n",
    "print(N, result)\n",
    "# 반복문을 거친 결과, N의 값은 1보다 큰 소수가 될 수 있다.\n",
    "if N > 1:                       # 그럴 경우, \n",
    "    result -= result / N        # 99기준 result는 66, N은 11이다. 66이하로 11의 배수는 6개가 있으니 이를 빼준다.\n",
    "\n",
    "print(int(result))\n",
    "\n",
    "'''\n",
    "코드는 짧지만 원리는 어렵다.\n",
    "아직 이해가 다 되지 않았기에 좀더 면밀히 살펴볼 필요가 있음\n",
    "그냥 외우는게 나을지도.\n",
    "\n",
    "'''"
   ]
  },
  {
   "attachments": {},
   "cell_type": "markdown",
   "metadata": {},
   "source": [
    "개선 답안"
   ]
  },
  {
   "cell_type": "code",
   "execution_count": null,
   "metadata": {},
   "outputs": [],
   "source": []
  }
 ],
 "metadata": {
  "kernelspec": {
   "display_name": "Python 3",
   "language": "python",
   "name": "python3"
  },
  "language_info": {
   "name": "python",
   "version": "3.11.2 (tags/v3.11.2:878ead1, Feb  7 2023, 16:38:35) [MSC v.1934 64 bit (AMD64)]"
  },
  "orig_nbformat": 4,
  "vscode": {
   "interpreter": {
    "hash": "a3d8f53f1429d27b792a3789224562ddd32c1395c9a9cfbb17b3c19c3b9a493d"
   }
  }
 },
 "nbformat": 4,
 "nbformat_minor": 2
}
