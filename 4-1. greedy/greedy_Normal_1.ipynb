{
 "cells": [
  {
   "attachments": {},
   "cell_type": "markdown",
   "metadata": {},
   "source": [
    "#### 문제 (그리디)\n",
    "그리디 알고리즘은 현재 보이는 선택지중 최선의 선택지를 찾는 알고리즘이다.  \n",
    "  \n",
    "여러가지 동전이 있고 이 동전들이 각각 몇개씩 있어야 목표 금액을 만들 수 있는가는  \n",
    "전형적인 그리디 문제다.  \n",
    "동전의 종류가 몇개인지와 목표금액을 입력받고  \n",
    "어떤 종류의 동전이 있는지를 입력받으면  \n",
    "필요한 동전 개수를 출력한다.  \n",
    "해당 알고리즘을 구현해보자  \n",
    "\n",
    "##### 입력예시\n",
    "10 4200 <--동전 종류의 수, 목표 금액  \n",
    "1  \n",
    "5  \n",
    "10  \n",
    "50  \n",
    "100  \n",
    "500  \n",
    "1000  \n",
    "5000  \n",
    "10000  \n",
    "50000  \n",
    "\n",
    "##### 출력예시\n",
    "6"
   ]
  },
  {
   "attachments": {},
   "cell_type": "markdown",
   "metadata": {},
   "source": [
    "내 첫번째 답안\n",
    "- 답안의 문제점"
   ]
  },
  {
   "cell_type": "code",
   "execution_count": null,
   "metadata": {},
   "outputs": [],
   "source": []
  },
  {
   "attachments": {},
   "cell_type": "markdown",
   "metadata": {},
   "source": [
    "\n",
    "책의 답안\n",
    "- 답안의 특징"
   ]
  },
  {
   "cell_type": "code",
   "execution_count": null,
   "metadata": {},
   "outputs": [],
   "source": [
    "N, K = map(int, input().split())        # 동전의 수와 목표 금액을 입력 받음\n",
    "A = [0] *N                              # 동전 수만큼 배열 생성, [0, 0, 0, 0......]이런식\n",
    "\n",
    "for i in range(N):\n",
    "    A[i] = int(input())                 # 배열에 동전 종류를 입력\n",
    "\n",
    "count = 0\n",
    "\n",
    "for i in range(N - 1, -1, -1):          # 동전 종류 수의 -1 부터 -1 까지 역순으로 for문 실행\n",
    "    if A[i] <= K:                       # 해당 동전(최대 액면가 동전부터 차례대로)이 목표값보다 작으면\n",
    "        count += int(K/A[i])            # 목표금액을 최대 액면가로 나눈 뒤, 소숫점 버린 수를 카운트에 더함\n",
    "        K = K % A[i]                    # 위 계산하고 남은 나머지값이 남은 목표 금액이 된다.\n",
    "\n",
    "print(count)\n",
    "\n",
    "# 비교적 간단한 알고리즘"
   ]
  },
  {
   "attachments": {},
   "cell_type": "markdown",
   "metadata": {},
   "source": [
    "개선 답안"
   ]
  },
  {
   "cell_type": "code",
   "execution_count": null,
   "metadata": {},
   "outputs": [],
   "source": []
  }
 ],
 "metadata": {
  "kernelspec": {
   "display_name": "Python 3",
   "language": "python",
   "name": "python3"
  },
  "language_info": {
   "name": "python",
   "version": "3.11.2 (tags/v3.11.2:878ead1, Feb  7 2023, 16:38:35) [MSC v.1934 64 bit (AMD64)]"
  },
  "orig_nbformat": 4,
  "vscode": {
   "interpreter": {
    "hash": "a3d8f53f1429d27b792a3789224562ddd32c1395c9a9cfbb17b3c19c3b9a493d"
   }
  }
 },
 "nbformat": 4,
 "nbformat_minor": 2
}
