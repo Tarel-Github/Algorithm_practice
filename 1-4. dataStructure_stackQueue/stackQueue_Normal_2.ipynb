{
 "cells": [
  {
   "attachments": {},
   "cell_type": "markdown",
   "metadata": {},
   "source": [
    "#### 오큰수 구하기 (스택과 큐)\n",
    "크기가 N인 수열 A = A1, A2, A3... AN이 있다.  \n",
    "각 원소 Ai의 오큰수는 오른쪽에 있으면서 Ai보다 큰 수 중  \n",
    "가장 왼쪽에 위치한 수를 의미한다.  \n",
    "이러한 수가 없을 경우, -1을 출력  \n",
    "사실상 가장 오른쪽은 무조건 -1이 나와야 한다.  \n",
    "\n",
    "##### 입력예시\n",
    "4  <-- 수열의 크기  \n",
    "3 5 2 7  \n",
    "\n",
    "##### 출력예시\n",
    "5 7 7 -1"
   ]
  },
  {
   "attachments": {},
   "cell_type": "markdown",
   "metadata": {},
   "source": [
    "내 답안"
   ]
  },
  {
   "cell_type": "code",
   "execution_count": null,
   "metadata": {},
   "outputs": [],
   "source": []
  },
  {
   "attachments": {},
   "cell_type": "markdown",
   "metadata": {},
   "source": [
    "책의 답안"
   ]
  },
  {
   "cell_type": "code",
   "execution_count": null,
   "metadata": {},
   "outputs": [],
   "source": []
  }
 ],
 "metadata": {
  "kernelspec": {
   "display_name": "Python 3",
   "language": "python",
   "name": "python3"
  },
  "language_info": {
   "name": "python",
   "version": "3.11.2 (tags/v3.11.2:878ead1, Feb  7 2023, 16:38:35) [MSC v.1934 64 bit (AMD64)]"
  },
  "orig_nbformat": 4,
  "vscode": {
   "interpreter": {
    "hash": "a3d8f53f1429d27b792a3789224562ddd32c1395c9a9cfbb17b3c19c3b9a493d"
   }
  }
 },
 "nbformat": 4,
 "nbformat_minor": 2
}
