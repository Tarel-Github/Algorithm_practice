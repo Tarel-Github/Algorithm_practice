{
 "cells": [
  {
   "attachments": {},
   "cell_type": "markdown",
   "metadata": {},
   "source": [
    "#### 카드 게임 (스택과 큐)\n",
    "N장의 카드가 있다.  \n",
    "각 카드는 차례대로 1에서 N까지의 번호가 붙어있으며 1번 카드가 가장 위다.  \n",
    "다음과 같은 동작을 카드가 한 장만 남을 때까지 반복한다.  \n",
    "먼저 가장 위에 있는 카드를 버린다.  \n",
    "그 다음 가장 위에 있는 카드를 가장 아래에 있는 카드 밑으로 옮긴다.  \n",
    "이걸 반복했을 때, 가장 마지막에 있는 카드가 무엇인지 구하는 프로그램 작성\n",
    "##### 입력예시\n",
    "6  <-- 카드의 개수\n",
    "\n",
    "##### 출력예시\n",
    "4"
   ]
  },
  {
   "attachments": {},
   "cell_type": "markdown",
   "metadata": {},
   "source": [
    "내 답안\n",
    "- 큐를 구현할 때는 collections의 deque를 임포트 하면 쉽게 할 수 있다."
   ]
  },
  {
   "cell_type": "code",
   "execution_count": null,
   "metadata": {},
   "outputs": [],
   "source": [
    "from collections import deque\n",
    "N = int(input()) # 카드 수 입력\n",
    "\n",
    "result = deque()\n",
    "\n",
    "\n",
    "for i in range(N):\n",
    "    result.append(i+1)\n",
    "\n",
    "count = 1\n",
    "while True:\n",
    "    if count % 2 == 1:\n",
    "        result.popleft()\n",
    "        count +=1\n",
    "    else:\n",
    "        a = result.popleft()\n",
    "        result.append(a)\n",
    "        count +=1\n",
    "    \n",
    "    if len(result) == 1:\n",
    "        break\n",
    "print(result[0])"
   ]
  },
  {
   "attachments": {},
   "cell_type": "markdown",
   "metadata": {},
   "source": [
    "\n",
    "책의 답안\n",
    "- 코드가 훨씬 간결하다."
   ]
  },
  {
   "cell_type": "code",
   "execution_count": null,
   "metadata": {},
   "outputs": [],
   "source": [
    "from collections import deque\n",
    "N = int(input()) # 카드 수 입력\n",
    "myQueue = deque()\n",
    "\n",
    "for i in range(N):\n",
    "    myQueue.append(i+1)\n",
    "\n",
    "while len(myQueue):\n",
    "    myQueue.popleft()\n",
    "    myQueue.append(myQueue.popleft())\n",
    "\n",
    "print(myQueue[0])"
   ]
  },
  {
   "attachments": {},
   "cell_type": "markdown",
   "metadata": {},
   "source": [
    "개선 답안"
   ]
  },
  {
   "cell_type": "code",
   "execution_count": null,
   "metadata": {},
   "outputs": [],
   "source": []
  }
 ],
 "metadata": {
  "kernelspec": {
   "display_name": "Python 3",
   "language": "python",
   "name": "python3"
  },
  "language_info": {
   "name": "python",
   "version": "3.11.2 (tags/v3.11.2:878ead1, Feb  7 2023, 16:38:35) [MSC v.1934 64 bit (AMD64)]"
  },
  "orig_nbformat": 4,
  "vscode": {
   "interpreter": {
    "hash": "a3d8f53f1429d27b792a3789224562ddd32c1395c9a9cfbb17b3c19c3b9a493d"
   }
  }
 },
 "nbformat": 4,
 "nbformat_minor": 2
}
