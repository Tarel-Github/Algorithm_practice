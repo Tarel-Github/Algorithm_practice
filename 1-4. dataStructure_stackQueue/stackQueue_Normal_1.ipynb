{
 "cells": [
  {
   "attachments": {},
   "cell_type": "markdown",
   "metadata": {},
   "source": [
    "#### 문제 (문제 종류)\n",
    "\n",
    "문제 내용\n",
    "\n",
    "##### 입력예시\n",
    "8  \n",
    "4  \n",
    "3  \n",
    "6  \n",
    "8  \n",
    "7  \n",
    "5  \n",
    "2  \n",
    "1  \n",
    "\n",
    "##### 출력예시\n",
    "+  \n",
    "+  \n",
    "+  \n",
    "+  \n",
    "-  \n",
    "-  \n",
    "+  \n",
    "+  \n",
    "-  \n",
    "+  \n",
    "+  \n",
    "-  \n",
    "-  \n",
    "-  \n",
    "-  \n",
    "-  "
   ]
  },
  {
   "attachments": {},
   "cell_type": "markdown",
   "metadata": {},
   "source": [
    "내 첫번째 답안\n",
    "- 답안의 문제점"
   ]
  },
  {
   "cell_type": "code",
   "execution_count": null,
   "metadata": {},
   "outputs": [],
   "source": [
    "# 파이썬 코드 테스트를 위한 파일\n",
    "N = int(input()) # 수열의 갯수 입력\n",
    "\n",
    "stack = []      # 스택\n",
    "data = 1\n",
    "\n",
    "def sys(num):\n",
    "    global data, stack\n",
    "    if num >= len(stack):\n",
    "        while num != len(stack):\n",
    "            stack.append(data)\n",
    "            print(stack, data)\n",
    "            print('+')\n",
    "            if data == num:\n",
    "                data += 1\n",
    "                break\n",
    "            data += 1\n",
    "    elif num <= len(stack):\n",
    "        while num < len(stack)+1:\n",
    "            a = stack.pop()\n",
    "            print(stack, data)\n",
    "            print('-')\n",
    "            if a == num:\n",
    "                break\n",
    "            \n",
    "\n",
    "for i in range(N):\n",
    "    target = int(input())\n",
    "    sys(target)\n"
   ]
  },
  {
   "attachments": {},
   "cell_type": "markdown",
   "metadata": {},
   "source": [
    "\n",
    "책의 답안\n",
    "- 답안의 특징"
   ]
  },
  {
   "cell_type": "code",
   "execution_count": null,
   "metadata": {},
   "outputs": [],
   "source": [
    "# 파이썬 코드 테스트를 위한 파일\n",
    "N = int(input()) # 수열의 갯수 입력\n",
    "A = [0] * N     # 갯수 입력 이후의 입력을 받아줄 리스트\n",
    "\n",
    "for i in range(N):\n",
    "    A[i] = int(input()) # 입력받은 숫자를 A리스트에 저장한다.\n",
    "               \n",
    "stack = []\n",
    "num = 1\n",
    "result = True\n",
    "answer = \"\"\n",
    "\n",
    "for i in range(N):  # 수열만큼 반복한다.\n",
    "    su = A[i]       # su는 입력받은 수 리스트의 첫 번쨰를 가져온다.\n",
    "    if su >= num:\n",
    "        while su >= num:\n",
    "            stack.append(num)\n",
    "            num += 1            # 입력받은 수 까지 stack에 1,2,3,4... 이렇게 순차적으로 대입한다.\n",
    "            answer += \"+\\n\"     # 출력할 정답에 +를 넣는다.\n",
    "        stack.pop()             # 마지막 숫자를 꺼낸다.\n",
    "        answer += \"-\\n\"         # 출력할 정답에 -를 넣는다.\n",
    "    else:\n",
    "        n = stack.pop()         # stack의 마지막 숫자를 꺼냈을 때,\n",
    "        if n > su:              # n이 입력 리스트보다 크다면 pop이 불가능하므로 NO를 출력한다.\n",
    "            print(\"NO\")\n",
    "            Result = False\n",
    "            break\n",
    "        else:\n",
    "            answer += \"-\\n\"     # 그게 아니라면, pop으로 꺼냈으니 -를 출력한다.\n",
    "if result:\n",
    "    print(answer)\n",
    "    \n"
   ]
  },
  {
   "attachments": {},
   "cell_type": "markdown",
   "metadata": {},
   "source": [
    "개선 답안"
   ]
  },
  {
   "cell_type": "code",
   "execution_count": null,
   "metadata": {},
   "outputs": [],
   "source": []
  }
 ],
 "metadata": {
  "kernelspec": {
   "display_name": "Python 3",
   "language": "python",
   "name": "python3"
  },
  "language_info": {
   "name": "python",
   "version": "3.11.2 (tags/v3.11.2:878ead1, Feb  7 2023, 16:38:35) [MSC v.1934 64 bit (AMD64)]"
  },
  "orig_nbformat": 4,
  "vscode": {
   "interpreter": {
    "hash": "a3d8f53f1429d27b792a3789224562ddd32c1395c9a9cfbb17b3c19c3b9a493d"
   }
  }
 },
 "nbformat": 4,
 "nbformat_minor": 2
}
