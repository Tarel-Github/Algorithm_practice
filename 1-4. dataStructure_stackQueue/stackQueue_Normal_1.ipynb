{
 "cells": [
  {
   "attachments": {},
   "cell_type": "markdown",
   "metadata": {},
   "source": [
    "#### 스택으로 수열 만들기 (스택과 큐)\n",
    "\n",
    "스택과 큐는 리스트에서 조금 더 발전한 형태의 자료구조다.  \n",
    "구조는 비슷하지만 처리방식에서 완전히 다르다.  \n",
    "마치 CD 보관함에 CD를 보관하는 것과 같다.  \n",
    "가장 먼저 넣은 CD는 최하단에 위치하고 가장 나중에 넣은 CD는 최상단에 위치하며  \n",
    "최하단에 넣은 CD를 꺼내려면 모든 CD를 꺼내야 한다.  \n",
    "때문에 스택의 -1번째 데이터는 최상단의 데이터를 가리킨다.\n",
    "스택은 append로 값을 삽입하고 pop으로 값을 꺼내며 peak으로 최상단 값을 확인한다.  \n",
    "스택은 깊이 우선 탐색에 효과적이므로 잘 알아둘 필요가 있다.\n",
    "\n",
    "큐는 줄을 서는 것과 같은 데이터 구조다.  \n",
    "먼저 들어온 데이터가 먼저 나가는 구조이다.  \n",
    "rear로 마지막 값을 가리키고 front로 첫번째 값을 가리키며  \n",
    "append로 값을 넣고 popleft로 첫번째 값을 꺼낸다.  \n",
    "첫번째 값을 확인할 때는 리스트처럼 [0]으로 확인한다.  \n",
    "큐는 너비우선탐색에서 주로 사용하므로 역시 잘 알아둘 필요가 있다.  \n",
    "\n",
    "문제 내용  \n",
    "1부터 n까지의 수를 스택에 저장하고 출력하는 방식으로 하나의 수열을 만들 수 있다.  \n",
    "이때 스택에 push하는 순서는 반드시 오름차순을 지킨다.  \n",
    "수열이 주어졌을 때,이러한 방식으로 스택을 이용해 주어진 수열을 만들 수 있는지 확인하고  \n",
    "만들 수 있다면 어떤 순서로 push와 pop을 수행해야 하는지 확인하는 프로그램을 작성하자  \n",
    "만약 만들 수 없다면 NO를 출력한다.  \n",
    "push는 + pop은 -를 출력한다.  \n",
    "\n",
    "##### 입력예시\n",
    "8  <-- 수열의 개수\n",
    "4  \n",
    "3  \n",
    "6  \n",
    "8  \n",
    "7  \n",
    "5  \n",
    "2  \n",
    "1  \n",
    "\n",
    "##### 출력예시  \n",
    "\\+  \n",
    "\\+  \n",
    "\\+  \n",
    "\\+  \n",
    "\\-  \n",
    "\\-  \n",
    "\\+  \n",
    "\\+  \n",
    "\\-  \n",
    "\\+  \n",
    "\\+  \n",
    "\\-  \n",
    "\\-  \n",
    "\\-  \n",
    "\\-  \n",
    "\\-\n",
    "\n",
    "##### 설명\n",
    "입력 받은 수는 4 3 6 8 7 5 2 1 이다.  \n",
    "우선 4가 되기 위해서 +를 4번하고 "
   ]
  },
  {
   "attachments": {},
   "cell_type": "markdown",
   "metadata": {},
   "source": [
    "내 답안"
   ]
  },
  {
   "cell_type": "code",
   "execution_count": null,
   "metadata": {},
   "outputs": [],
   "source": [
    "N = int(input()) # 수열의 갯수 입력\n",
    "\n",
    "stack = []      # 스택\n",
    "data = 1\n",
    "\n",
    "def sys(num):\n",
    "    global data, stack\n",
    "    if num >= len(stack):\n",
    "        while num != len(stack):\n",
    "            stack.append(data)\n",
    "            print(stack, data)\n",
    "            print('+')\n",
    "            if data == num:\n",
    "                data += 1\n",
    "                break\n",
    "            data += 1\n",
    "    elif num <= len(stack):\n",
    "        while num < len(stack)+1:\n",
    "            a = stack.pop()\n",
    "            print(stack, data)\n",
    "            print('-')\n",
    "            if a == num:\n",
    "                break\n",
    "            \n",
    "\n",
    "for i in range(N):\n",
    "    target = int(input())\n",
    "    sys(target)\n"
   ]
  },
  {
   "attachments": {},
   "cell_type": "markdown",
   "metadata": {},
   "source": [
    "\n",
    "책의 답안\n",
    "- 답안의 특징"
   ]
  },
  {
   "cell_type": "code",
   "execution_count": null,
   "metadata": {},
   "outputs": [],
   "source": [
    "N = int(input()) # 수열의 갯수 입력\n",
    "A = [0] * N     # 갯수 입력 이후의 입력을 받아줄 리스트\n",
    "\n",
    "for i in range(N):\n",
    "    A[i] = int(input()) # 입력받은 숫자를 A리스트에 저장한다.\n",
    "               \n",
    "stack = []\n",
    "num = 1\n",
    "result = True\n",
    "answer = \"\"\n",
    "\n",
    "for i in range(N):  # 수열만큼 반복한다.\n",
    "    su = A[i]       # su는 입력받은 수 리스트의 첫 번쨰를 가져온다.\n",
    "    if su >= num:\n",
    "        while su >= num:\n",
    "            stack.append(num)\n",
    "            num += 1            # 입력받은 수 까지 stack에 1,2,3,4... 이렇게 순차적으로 대입한다.\n",
    "            answer += \"+\\n\"     # 출력할 정답에 +를 넣는다.\n",
    "        stack.pop()             # 마지막 숫자를 꺼낸다.\n",
    "        answer += \"-\\n\"         # 출력할 정답에 -를 넣는다.\n",
    "    else:\n",
    "        n = stack.pop()         # stack의 마지막 숫자를 꺼냈을 때,\n",
    "        if n > su:              # n이 입력 리스트보다 크다면 pop이 불가능하므로 NO를 출력한다.\n",
    "            print(\"NO\")\n",
    "            Result = False\n",
    "            break\n",
    "        else:\n",
    "            answer += \"-\\n\"     # 그게 아니라면, pop으로 꺼냈으니 -를 출력한다.\n",
    "if result:\n",
    "    print(answer)\n",
    "    \n"
   ]
  },
  {
   "attachments": {},
   "cell_type": "markdown",
   "metadata": {},
   "source": [
    "개선 답안"
   ]
  },
  {
   "cell_type": "code",
   "execution_count": null,
   "metadata": {},
   "outputs": [],
   "source": []
  }
 ],
 "metadata": {
  "kernelspec": {
   "display_name": "Python 3",
   "language": "python",
   "name": "python3"
  },
  "language_info": {
   "name": "python",
   "version": "3.11.2 (tags/v3.11.2:878ead1, Feb  7 2023, 16:38:35) [MSC v.1934 64 bit (AMD64)]"
  },
  "orig_nbformat": 4,
  "vscode": {
   "interpreter": {
    "hash": "a3d8f53f1429d27b792a3789224562ddd32c1395c9a9cfbb17b3c19c3b9a493d"
   }
  }
 },
 "nbformat": 4,
 "nbformat_minor": 2
}
