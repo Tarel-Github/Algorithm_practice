{
 "cells": [
  {
   "attachments": {},
   "cell_type": "markdown",
   "metadata": {},
   "source": [
    "#### 문제 (유클리드 호제법)\n",
    "두 수의 최대공약수를 구하는 알고리즘  \n",
    "MOD 연산을 활용하면 좋다. 예를 들어, 10 MOD 4 = 2이며 이는 즉 10 % 4= 2 와 같다.\n",
    "예를 들어, 270과 192의 최대 공약수를 구하는 방법은 다음과 같다.  \n",
    "270 % 192 = 78  \n",
    "192 %  78 = 36  \n",
    " 78 %  36 =  6  \n",
    " 36 %   6 =  0\n",
    "\n",
    "여기서 6이 최대 공약수가 된다.   \n",
    "  \n",
    "최소 공배수를 구하는 프로그램을 작성하시오.   \n",
    "\n",
    "##### 입력예시\n",
    "3  <-- 테스트 케이스 개수, 이후론 최소공약수를 구하기 위한 테스트들  \n",
    "1 45000  \n",
    "6 10  \n",
    "13 17  \n",
    "\n",
    "##### 출력예시\n",
    "45000  \n",
    "30  \n",
    "221  "
   ]
  },
  {
   "attachments": {},
   "cell_type": "markdown",
   "metadata": {},
   "source": [
    "내 첫번째 답안\n",
    "- 답안의 문제점"
   ]
  },
  {
   "cell_type": "code",
   "execution_count": null,
   "metadata": {},
   "outputs": [],
   "source": [
    "\n",
    "def gcd(a, b):\n",
    "    if b == 0:\n",
    "        return a\n",
    "    else:\n",
    "        return gcd(b, a%b)  # 재귀함수 형태로 구현한다.\n",
    "    \n",
    "t = int(input())\n",
    "\n",
    "for i in range(t):\n",
    "    a, b = map(int, input().split())    #최소공배수를 구해야 하는 숫자들을 입력받음\n",
    "    result = a*b/gcd(a,b)           # 최소공배수는 두 수의 곱을 최대 공약수로 나눈 것과 같다.\n",
    "\n",
    "'''\n",
    "이 문제는 최소 공약수를 몇 번 구할 것인지가 문제 요지중 하나다.\n",
    "때문에 최대 공약수 구하는 알고리즘을 함수로 해놓은 다음\n",
    "for문으로 해당 함수를 실행하는 형태로 구현한다.\n",
    "\n",
    "'''"
   ]
  },
  {
   "attachments": {},
   "cell_type": "markdown",
   "metadata": {},
   "source": [
    "\n",
    "책의 답안\n",
    "- 답안의 특징"
   ]
  },
  {
   "cell_type": "code",
   "execution_count": null,
   "metadata": {},
   "outputs": [],
   "source": []
  },
  {
   "attachments": {},
   "cell_type": "markdown",
   "metadata": {},
   "source": [
    "개선 답안"
   ]
  },
  {
   "cell_type": "code",
   "execution_count": null,
   "metadata": {},
   "outputs": [],
   "source": []
  }
 ],
 "metadata": {
  "kernelspec": {
   "display_name": "Python 3",
   "language": "python",
   "name": "python3"
  },
  "language_info": {
   "name": "python",
   "version": "3.11.2 (tags/v3.11.2:878ead1, Feb  7 2023, 16:38:35) [MSC v.1934 64 bit (AMD64)]"
  },
  "orig_nbformat": 4,
  "vscode": {
   "interpreter": {
    "hash": "a3d8f53f1429d27b792a3789224562ddd32c1395c9a9cfbb17b3c19c3b9a493d"
   }
  }
 },
 "nbformat": 4,
 "nbformat_minor": 2
}
