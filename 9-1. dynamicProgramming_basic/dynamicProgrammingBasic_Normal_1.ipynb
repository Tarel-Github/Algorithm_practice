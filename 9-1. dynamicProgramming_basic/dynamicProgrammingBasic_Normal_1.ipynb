{
 "cells": [
  {
   "attachments": {},
   "cell_type": "markdown",
   "metadata": {},
   "source": [
    "#### 정수 1 만들기 (동적 계획법)\n",
    "동적 계획법은 다이나믹 프로그래밍이라고도 한다.  \n",
    "  \n",
    "동적계획법은 복잡한 문제를 여러 개의 간단한 문제로 분리하여 부분의 문제들을  \n",
    "해결함으로써 최종적으로 복잡한 문제의 답을 구하는 방법을 뜻한다.  \n",
    "구현 방식은 다음과 같다.  \n",
    "1. 큰 문제를 작은 문제로 나눌 수 있어야 함\n",
    "2. 작은 문제들이 반복돼 나타나고 사용되며 이 작은 문제들의 결과값은 늘 같아야 함\n",
    "3. 모든 작은 문제들은 한 번만 계산해 DP 테이블에 저장하며 추후 재사용할 때는 이 DP 테이블을 사용한다. 이를 메모이제이션 기법이라 한다.\n",
    "4. 동적 계획법은 톱다운방식과 바텀업 밤식이 있다.\n",
    "  \n",
    "가장 대표적인 동적 계획법으로 피보나치 수열이 있다.  \n",
    "동적 계획법은 보통 바텀업 방식을 사용한다.  \n",
    "동적 계획법은 최적화 문제에 많이 사용된다.  \n",
    "  \n",
    "정수 x가 주어진다.  \n",
    "x가 3으로 나누어 떨어지면 3으로 나눈다.  \n",
    "x가 2로 나누어 떨어지면 2로 나눈다.  \n",
    "1을 뺀다.  \n",
    "이 과정을 반복해서 정수 N을 1로 만들 것이다.  \n",
    "연산을 사용하는 횟수의 최솟값을 출력할 것.  \n",
    "##### 입력예시\n",
    "10\n",
    "\n",
    "##### 출력예시\n",
    "3"
   ]
  },
  {
   "attachments": {},
   "cell_type": "markdown",
   "metadata": {},
   "source": [
    "내 첫번째 답안\n",
    "- 답안의 문제점"
   ]
  },
  {
   "cell_type": "code",
   "execution_count": null,
   "metadata": {},
   "outputs": [],
   "source": []
  },
  {
   "attachments": {},
   "cell_type": "markdown",
   "metadata": {},
   "source": [
    "\n",
    "책의 답안\n",
    "- 답안의 특징"
   ]
  },
  {
   "cell_type": "code",
   "execution_count": null,
   "metadata": {},
   "outputs": [],
   "source": [
    "import sys\n",
    "input = sys.stdin.readline\n",
    "N =int(input())\n",
    "D = [-1]*(N+1)\n",
    "D[0] = 0\n",
    "D[1] = 1\n",
    "\n",
    "def fibo(n):\n",
    "    if D[n] != -1:\n",
    "        return D[n]\n",
    "    \n",
    "    D[n] = fibo(n-2) + fibo(n-1)\n",
    "    return D[n]\n",
    "\n",
    "fibo(N)\n",
    "print(D[N])"
   ]
  },
  {
   "attachments": {},
   "cell_type": "markdown",
   "metadata": {},
   "source": [
    "개선 답안"
   ]
  },
  {
   "cell_type": "code",
   "execution_count": null,
   "metadata": {},
   "outputs": [],
   "source": []
  }
 ],
 "metadata": {
  "kernelspec": {
   "display_name": "Python 3",
   "language": "python",
   "name": "python3"
  },
  "language_info": {
   "name": "python",
   "version": "3.11.2 (tags/v3.11.2:878ead1, Feb  7 2023, 16:38:35) [MSC v.1934 64 bit (AMD64)]"
  },
  "orig_nbformat": 4,
  "vscode": {
   "interpreter": {
    "hash": "a3d8f53f1429d27b792a3789224562ddd32c1395c9a9cfbb17b3c19c3b9a493d"
   }
  }
 },
 "nbformat": 4,
 "nbformat_minor": 2
}
