{
 "cells": [
  {
   "attachments": {},
   "cell_type": "markdown",
   "metadata": {},
   "source": [
    "#### 문제 (트리)\n",
    "트리는 노드와 엣지로 연결된 그래프의 특수한 형태이다.  \n",
    "\n",
    "\n",
    "##### 입력예시\n",
    "\n",
    "\n",
    "##### 출력예시\n"
   ]
  },
  {
   "attachments": {},
   "cell_type": "markdown",
   "metadata": {},
   "source": [
    "내 첫번째 답안\n",
    "- 답안의 문제점"
   ]
  },
  {
   "cell_type": "code",
   "execution_count": null,
   "metadata": {},
   "outputs": [],
   "source": []
  },
  {
   "attachments": {},
   "cell_type": "markdown",
   "metadata": {},
   "source": [
    "\n",
    "책의 답안\n",
    "- 답안의 특징"
   ]
  },
  {
   "cell_type": "code",
   "execution_count": null,
   "metadata": {},
   "outputs": [],
   "source": [
    "import sys\n",
    "sys.setrecursionlimit(10**6)\n",
    "input = sys.stdin.readline\n",
    "\n",
    "N = int(input())\n",
    "\n",
    "visited = [False] * (N + 1)\n",
    "tree = [[]for _ in range(N + 1)]\n",
    "\n",
    "answer = [0] * (N + 1)\n",
    "\n",
    "for _ in range(1, N):\n",
    "    n1, n2 = map(int, input().split())\n",
    "    tree[n1].append(n2)\n",
    "    tree[n2].append(n1)\n",
    "\n",
    "def DFS(number):\n",
    "    visited[number] = True\n",
    "    for i in tree[number]:\n",
    "        if not visited[i]:\n",
    "            answer[i] = number\n",
    "            DFS(i)\n",
    "\n",
    "DFS(1)\n",
    "\n",
    "for i in range(2, N+1):\n",
    "    print(answer[i])\n",
    "\n",
    "'''\n",
    "\n",
    "'''"
   ]
  },
  {
   "attachments": {},
   "cell_type": "markdown",
   "metadata": {},
   "source": [
    "개선 답안"
   ]
  },
  {
   "cell_type": "code",
   "execution_count": null,
   "metadata": {},
   "outputs": [],
   "source": []
  }
 ],
 "metadata": {
  "kernelspec": {
   "display_name": "Python 3",
   "language": "python",
   "name": "python3"
  },
  "language_info": {
   "name": "python",
   "version": "3.11.2 (tags/v3.11.2:878ead1, Feb  7 2023, 16:38:35) [MSC v.1934 64 bit (AMD64)]"
  },
  "orig_nbformat": 4,
  "vscode": {
   "interpreter": {
    "hash": "a3d8f53f1429d27b792a3789224562ddd32c1395c9a9cfbb17b3c19c3b9a493d"
   }
  }
 },
 "nbformat": 4,
 "nbformat_minor": 2
}
