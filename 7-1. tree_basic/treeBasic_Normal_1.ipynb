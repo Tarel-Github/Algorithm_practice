{
 "cells": [
  {
   "attachments": {},
   "cell_type": "markdown",
   "metadata": {},
   "source": [
    "#### 문제 (트리)\n",
    "트리는 노드와 엣지로 연결된 그래프의 특수한 형태이다.  \n",
    "사진으로 보는쪽이 이해가 편하다.  \n",
    "  \n",
    "루트없는 트리가 주어졌을때, 트리의 루트를 1이라고 할 경우, 각 노드의 부모를 구하는 프로그램을 작성  \n",
    "\n",
    "##### 입력예시\n",
    "7 <-- 노드 개수  \n",
    "1 6  \n",
    "6 3  \n",
    "3 5  \n",
    "4 1  \n",
    "2 4  \n",
    "4 7  \n",
    "\n",
    "##### 출력예시\n",
    "4  \n",
    "6  \n",
    "1  \n",
    "3  \n",
    "1  \n",
    "4  "
   ]
  },
  {
   "attachments": {},
   "cell_type": "markdown",
   "metadata": {},
   "source": [
    "내 첫번째 답안\n",
    "- 답안의 문제점"
   ]
  },
  {
   "cell_type": "code",
   "execution_count": null,
   "metadata": {},
   "outputs": [],
   "source": []
  },
  {
   "attachments": {},
   "cell_type": "markdown",
   "metadata": {},
   "source": [
    "\n",
    "책의 답안\n",
    "- 답안의 특징"
   ]
  },
  {
   "cell_type": "code",
   "execution_count": null,
   "metadata": {},
   "outputs": [],
   "source": [
    "import sys\n",
    "sys.setrecursionlimit(10**6)        # 최대 재귀 깊이를 설정하는것, 기본적으로 1000번까지만 재귀하지만 여기선 더 깊게 설정한다.\n",
    "input = sys.stdin.readline\n",
    "\n",
    "N = int(input())            # 노드 개수를 입력 받음\n",
    "\n",
    "visited = [False] * (N + 1)             # 방문 여부 리스트, 0번은 안 쓰고 False로 체운다.\n",
    "tree = [[]for _ in range(N + 1)]        # 노드 수 + 1개만큼 배열안의 배열을 만듦\n",
    "\n",
    "answer = [0] * (N + 1)                  # 정답 리스트, [0, 0, 0, 0......] 형태로 만듦\n",
    "\n",
    "for _ in range(1, N):\n",
    "    n1, n2 = map(int, input().split())  # 노드 연결 정보를 입력 받아서\n",
    "    tree[n1].append(n2)                 # n1번에 n2를, n2번에 n1값을 넣는다.\n",
    "    tree[n2].append(n1)                 # 이건 방향이 없기 때문에, 2차원 배열이 대각선 대칭이 되기 때문이다.\n",
    "\n",
    "# DFS 함수\n",
    "def DFS(number):                        # 재귀 형태로 찾음\n",
    "    visited[number] = True\n",
    "    for i in tree[number]:\n",
    "        if not visited[i]:\n",
    "            answer[i] = number\n",
    "            DFS(i)\n",
    "\n",
    "DFS(1)                                  # DFS 탐색 시작\n",
    "\n",
    "# 출력\n",
    "for i in range(2, N+1):\n",
    "    print(answer[i])\n",
    "\n",
    "'''\n",
    "\n",
    "'''"
   ]
  },
  {
   "attachments": {},
   "cell_type": "markdown",
   "metadata": {},
   "source": [
    "개선 답안"
   ]
  },
  {
   "cell_type": "code",
   "execution_count": null,
   "metadata": {},
   "outputs": [],
   "source": []
  }
 ],
 "metadata": {
  "kernelspec": {
   "display_name": "Python 3",
   "language": "python",
   "name": "python3"
  },
  "language_info": {
   "name": "python",
   "version": "3.11.2 (tags/v3.11.2:878ead1, Feb  7 2023, 16:38:35) [MSC v.1934 64 bit (AMD64)]"
  },
  "orig_nbformat": 4,
  "vscode": {
   "interpreter": {
    "hash": "a3d8f53f1429d27b792a3789224562ddd32c1395c9a9cfbb17b3c19c3b9a493d"
   }
  }
 },
 "nbformat": 4,
 "nbformat_minor": 2
}
