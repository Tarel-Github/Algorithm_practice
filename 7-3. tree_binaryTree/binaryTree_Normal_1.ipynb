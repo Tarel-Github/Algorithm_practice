{
 "cells": [
  {
   "attachments": {},
   "cell_type": "markdown",
   "metadata": {},
   "source": [
    "#### 문제 (이진 트리)\n",
    "이진트리는 각 노드가 자식을 2개 이하로 구성된 트리를 말한다.  \n",
    "이진트리는 리스트를 사용해서 관리하는데  \n",
    "루트노드 인덱스는  1  \n",
    "부모노드 인덱스는  본인 / 2     ( 본인이 루트가 아니어야 함 )  \n",
    "왼쪽자식 인덱스는  본인 * 2     ( 단, 계산결과가 노드개수보다 적어야함)  \n",
    "오른자식 인덱스는  본인 * 2 + 1 ( 단, 계산결과가 노드개수보다 적어야함)  \n",
    "  \n",
    "이진트리는 전위순회, 중위순회, 후위 순회가 있다.  \n",
    "       A  \n",
    "    ┌──┴──┐  \n",
    "    B     C  \n",
    "  ┌─┘   ┌─┴─┐  \n",
    "  D     E   F  \n",
    "            └─┐   \n",
    "              G  \n",
    "이 트리를 기준으로  \n",
    "전위순회: ABDCEFG  \n",
    "중위순회: DBAECFG\n",
    "후위순회: DBEGFCA  \n",
    "  \n",
    "노드 수를 입력받고 노드 요소를 \n",
    "\n",
    "##### 입력예시\n",
    "7 <-- 노드 개수  \n",
    "A B C  <-- A가 부모, B가 좌, C가 우  \n",
    "B D .  <-- B가 부모, D가 좌, 우 없음  \n",
    "C E F  <-- C가 부모, E가 좌, F가 우  \n",
    "E . .  <-- E가 부모, 좌우 없음  \n",
    "F . G  \n",
    "D . .  \n",
    "G . .  <-- 노드 수 만큼 입력 받음  \n",
    "\n",
    "\n",
    "##### 출력예시\n",
    "ABDCEFG  \n",
    "DBAECFG  \n",
    "DBEGFCA  "
   ]
  },
  {
   "attachments": {},
   "cell_type": "markdown",
   "metadata": {},
   "source": [
    "내 첫번째 답안\n",
    "- 답안의 문제점"
   ]
  },
  {
   "cell_type": "code",
   "execution_count": null,
   "metadata": {},
   "outputs": [],
   "source": []
  },
  {
   "attachments": {},
   "cell_type": "markdown",
   "metadata": {},
   "source": [
    "\n",
    "책의 답안\n",
    "- 전위 순회, 중위 순회, 후위 순회 함수는 순서만 다를 뿐 다 같다."
   ]
  },
  {
   "cell_type": "code",
   "execution_count": null,
   "metadata": {},
   "outputs": [],
   "source": [
    "# 임포트\n",
    "import sys\n",
    "input = sys.stdin.readline\n",
    "\n",
    "# 노드 수를 입력받고 tree작성을 준비함\n",
    "N = int(input())\n",
    "tree = {}   # 딕셔너리 자료형, 입력예시기준으로 {'A': ['B', 'C'], 'B': ['D', '.']...} 이런 식으로 작성\n",
    "\n",
    "# 트리 관계 입력받음, 루트, 왼쪽, 오른쪽 이런식으로\n",
    "for _ in range(N):\n",
    "    root, left, right = input().split()\n",
    "    tree[root] = [left, right]\n",
    "\n",
    "# 중간 왼쪽 오른쪽 (전위 순회)\n",
    "def preOrder(now):\n",
    "    if now == '.':\n",
    "        return\n",
    "    print(now, end= '')         # 순회중인 노드를 출력한다. 줄바꿈을 하지 않음\n",
    "\n",
    "    preOrder(tree[now][0])      # 왼쪽 먼저\n",
    "    preOrder(tree[now][1])      # 왼쪽이 끝나면 오른쪽\n",
    "\n",
    "# 왼쪽 중간 오른쪽\n",
    "def inOrder(now):\n",
    "    if now == '.':\n",
    "        return\n",
    "    inOrder(tree[now][0])\n",
    "    print(now, end= '')\n",
    "    inOrder(tree[now][1])\n",
    "\n",
    "# 왼쪽 오른쪽 중간\n",
    "def postOrder(now):\n",
    "    if now == '.':\n",
    "        return\n",
    "    postOrder(tree[now][0])\n",
    "    postOrder(tree[now][1])\n",
    "    print(now, end= '')\n",
    "\n",
    "# 순서만 바꿔주기만해도 편하게 바꿀 수 있다.\n",
    "preOrder('A')\n",
    "print()\n",
    "inOrder('A')\n",
    "print()\n",
    "postOrder('A')\n",
    "\n"
   ]
  },
  {
   "attachments": {},
   "cell_type": "markdown",
   "metadata": {},
   "source": [
    "개선 답안"
   ]
  },
  {
   "cell_type": "code",
   "execution_count": null,
   "metadata": {},
   "outputs": [],
   "source": []
  }
 ],
 "metadata": {
  "kernelspec": {
   "display_name": "Python 3",
   "language": "python",
   "name": "python3"
  },
  "language_info": {
   "name": "python",
   "version": "3.11.2 (tags/v3.11.2:878ead1, Feb  7 2023, 16:38:35) [MSC v.1934 64 bit (AMD64)]"
  },
  "orig_nbformat": 4,
  "vscode": {
   "interpreter": {
    "hash": "a3d8f53f1429d27b792a3789224562ddd32c1395c9a9cfbb17b3c19c3b9a493d"
   }
  }
 },
 "nbformat": 4,
 "nbformat_minor": 2
}
