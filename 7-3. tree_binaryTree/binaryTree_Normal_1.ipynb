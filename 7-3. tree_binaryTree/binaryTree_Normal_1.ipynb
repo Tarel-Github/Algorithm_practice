{
 "cells": [
  {
   "attachments": {},
   "cell_type": "markdown",
   "metadata": {},
   "source": [
    "#### 문제 (문제 종류)\n",
    "\n",
    "문제 내용\n",
    "\n",
    "##### 입력예시\n",
    "\n",
    "\n",
    "##### 출력예시\n"
   ]
  },
  {
   "attachments": {},
   "cell_type": "markdown",
   "metadata": {},
   "source": [
    "내 첫번째 답안\n",
    "- 답안의 문제점"
   ]
  },
  {
   "cell_type": "code",
   "execution_count": null,
   "metadata": {},
   "outputs": [],
   "source": []
  },
  {
   "attachments": {},
   "cell_type": "markdown",
   "metadata": {},
   "source": [
    "\n",
    "책의 답안\n",
    "- 답안의 특징"
   ]
  },
  {
   "cell_type": "code",
   "execution_count": null,
   "metadata": {},
   "outputs": [],
   "source": [
    "import sys\n",
    "input = sys.stdin.readline\n",
    "N = int(input())\n",
    "tree = {}\n",
    "\n",
    "for _ in range(N):\n",
    "    root, left, right = input().split()\n",
    "    tree[root] = [left, right]\n",
    "\n",
    "\n",
    "def preOrder(now):\n",
    "    if now == '.':\n",
    "        return\n",
    "    print(now, end= '')\n",
    "\n",
    "    preOrder(tree[now][0])\n",
    "    preOrder(tree[now][1])\n",
    "\n",
    "def inOrder(now):\n",
    "    if now == '.':\n",
    "        return\n",
    "    inOrder(tree[now][0])\n",
    "    print(now, end= '')\n",
    "    inOrder(tree[now][0])\n",
    "\n",
    "def postOrder(now):\n",
    "    if now == '.':\n",
    "        return\n",
    "    postOrder(tree[now][0])\n",
    "    postOrder(tree[now][0])\n",
    "    print(now, end= '')\n",
    "\n",
    "preOrder('A')\n",
    "print()\n",
    "inOrder('A')\n",
    "print()\n",
    "postOrder('A')\n",
    "\n"
   ]
  },
  {
   "attachments": {},
   "cell_type": "markdown",
   "metadata": {},
   "source": [
    "개선 답안"
   ]
  },
  {
   "cell_type": "code",
   "execution_count": null,
   "metadata": {},
   "outputs": [],
   "source": []
  }
 ],
 "metadata": {
  "kernelspec": {
   "display_name": "Python 3",
   "language": "python",
   "name": "python3"
  },
  "language_info": {
   "name": "python",
   "version": "3.11.2 (tags/v3.11.2:878ead1, Feb  7 2023, 16:38:35) [MSC v.1934 64 bit (AMD64)]"
  },
  "orig_nbformat": 4,
  "vscode": {
   "interpreter": {
    "hash": "a3d8f53f1429d27b792a3789224562ddd32c1395c9a9cfbb17b3c19c3b9a493d"
   }
  }
 },
 "nbformat": 4,
 "nbformat_minor": 2
}
