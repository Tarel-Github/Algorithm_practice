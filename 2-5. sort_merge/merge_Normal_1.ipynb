{
 "cells": [
  {
   "attachments": {},
   "cell_type": "markdown",
   "metadata": {},
   "source": [
    "#### 문제 (병합정렬)\n",
    "\n",
    "병합정렬은 데이터 집합을 가장 작은 집합으로 나눈다음   \n",
    "그 안에서 정렬한 다음 두 번째로 작은 집합으로 다시 나눈 다음 정렬하는 것을 반복한다.\n",
    "\n",
    "##### 입력예시\n",
    "5  \n",
    "5  \n",
    "4  \n",
    "3  \n",
    "2  \n",
    "1  \n",
    "\n",
    "##### 출력예시\n",
    "1  \n",
    "2  \n",
    "3  \n",
    "4  \n",
    "5  "
   ]
  },
  {
   "attachments": {},
   "cell_type": "markdown",
   "metadata": {},
   "source": [
    "내 첫번째 답안\n",
    "- 답안의 문제점"
   ]
  },
  {
   "cell_type": "code",
   "execution_count": null,
   "metadata": {},
   "outputs": [],
   "source": []
  },
  {
   "attachments": {},
   "cell_type": "markdown",
   "metadata": {},
   "source": [
    "\n",
    "책의 답안\n",
    "- 답안의 특징"
   ]
  },
  {
   "cell_type": "code",
   "execution_count": null,
   "metadata": {},
   "outputs": [],
   "source": [
    "import sys\n",
    "input = sys.stdin.readline\n",
    "print = sys.stdout.write\n",
    "\n",
    "def merge_sort(s, e):\n",
    "    if e - s < 1: return            # 받은 배열이 너무 짧으면 그냥 리턴\n",
    "    m = int(s + (e - s)/ 2)\n",
    "    merge_sort(s, m)                # 재귀함수, 배열을 반으로 계속 쪼갠다.\n",
    "    merge_sort(m + 1, e)            # 쪼개진 배열의 뒷부분\n",
    "    for i in range(s, e + 1):\n",
    "        tmp[i] = A[i]               # 최초 배열의 복사본을 만든다.\n",
    "\n",
    "    # 여기서부터 병합시작\n",
    "    k = s                           # 앞쪽 그룹의 첫 부분\n",
    "    index1 = s                      # 앞쪽 그룹의 첫 부분       \n",
    "    index2 = m + 1                  # 뒤쪽 그룹의 첫 부분\n",
    "\n",
    "    while index1 <= m and index2 <= e:  # 앞 그룹과 뒷 그룹을 각각 끝까지 갈때까지 반복\n",
    "        if tmp[index1] > tmp[index2]:   # 앞쪽 그룹의 첫 부분이 뒷쪽보다 크다면\n",
    "            A[k] = tmp[index2]          # 앞 그룹의 값은 순차적으로 복사된 값의 뒤쪽 그룹의 첫부분 값이 된다.\n",
    "            k += 1                      # k값은 1씩 증가\n",
    "            index2 += 1                 # index2 의 값을 A에 적용했으니 index2의 값이 증가\n",
    "        else:\n",
    "            A[k] = tmp[index1]          \n",
    "            k += 1\n",
    "            index1 += 1                 # 위와 같지만 이번엔 index1의 값이 증가\n",
    "\n",
    "    # 남아있는 값들의 정리, 앞그룹과 뒷그룹 값을 정리한다.\n",
    "    while index1 <= m:\n",
    "        A[k] = tmp[index1]\n",
    "        k += 1\n",
    "        index1 += 1\n",
    "    while index2 <= e:\n",
    "        A[k] = tmp[index2]\n",
    "        k += 1\n",
    "        index2 += 1\n",
    "\n",
    "N = int(input())\n",
    "A = [0] * int(N+1)\n",
    "tmp = [0] * int(N+1)\n",
    "\n",
    "for i in range(1, N + 1):   # \n",
    "    A[i] = int(input())\n",
    "\n",
    "merge_sort(1, N)            # 정렬 실행\n",
    "\n",
    "for i in range(1, N + 1):   # 출력 실행\n",
    "    print(str(A[i])+'\\n')"
   ]
  },
  {
   "attachments": {},
   "cell_type": "markdown",
   "metadata": {},
   "source": [
    "개선 답안"
   ]
  },
  {
   "cell_type": "code",
   "execution_count": null,
   "metadata": {},
   "outputs": [],
   "source": []
  }
 ],
 "metadata": {
  "kernelspec": {
   "display_name": "Python 3",
   "language": "python",
   "name": "python3"
  },
  "language_info": {
   "name": "python",
   "version": "3.11.2 (tags/v3.11.2:878ead1, Feb  7 2023, 16:38:35) [MSC v.1934 64 bit (AMD64)]"
  },
  "orig_nbformat": 4,
  "vscode": {
   "interpreter": {
    "hash": "a3d8f53f1429d27b792a3789224562ddd32c1395c9a9cfbb17b3c19c3b9a493d"
   }
  }
 },
 "nbformat": 4,
 "nbformat_minor": 2
}
