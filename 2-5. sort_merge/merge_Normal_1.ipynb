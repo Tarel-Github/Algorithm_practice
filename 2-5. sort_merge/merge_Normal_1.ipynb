{
 "cells": [
  {
   "attachments": {},
   "cell_type": "markdown",
   "metadata": {},
   "source": [
    "#### 문제 (병합정렬)\n",
    "\n",
    "병합정렬은 데이터 집합을 가장 작은 집합으로 나눈다음   \n",
    "그 안에서 정렬한 다음 두 번째로 작은 집합으로 다시 나눈 다음 정렬하는 것을 반복한다.\n",
    "\n",
    "##### 입력예시\n",
    "5  \n",
    "5  \n",
    "4  \n",
    "3  \n",
    "2  \n",
    "1  \n",
    "\n",
    "##### 출력예시\n",
    "1  \n",
    "2  \n",
    "3  \n",
    "4  \n",
    "5  "
   ]
  },
  {
   "attachments": {},
   "cell_type": "markdown",
   "metadata": {},
   "source": [
    "내 첫번째 답안\n",
    "- 답안의 문제점"
   ]
  },
  {
   "cell_type": "code",
   "execution_count": null,
   "metadata": {},
   "outputs": [],
   "source": []
  },
  {
   "attachments": {},
   "cell_type": "markdown",
   "metadata": {},
   "source": [
    "\n",
    "책의 답안\n",
    "- 답안의 특징"
   ]
  },
  {
   "cell_type": "code",
   "execution_count": null,
   "metadata": {},
   "outputs": [],
   "source": [
    "import sys\n",
    "input = sys.stdin.readline\n",
    "print = sys.stdout.write\n",
    "\n",
    "def merge_sort(s, e):\n",
    "    if e - s < 1: return\n",
    "    m = int(s + (e - s)/ 2)\n",
    "    merge_sort(s, m)\n",
    "    merge_sort(m + 1, e)\n",
    "    for i in range(s, e + 1):\n",
    "        tmp[i] = A[i]\n",
    "    k = s\n",
    "    index1 = s\n",
    "    index2 = m + 1\n",
    "    while index1 <= m and index2 <= e:\n",
    "        if tmp[index1] > tmp[index2]:\n",
    "            A[k] = tmp[index2]\n",
    "            k += 1\n",
    "            index2 += 1\n",
    "        else:\n",
    "            A[k] = tmp[index2]\n",
    "            k += 1\n",
    "            index1 += 1\n",
    "\n",
    "    while index1 <= m:\n",
    "        A[k] = tmp[index1]\n",
    "        k += 1\n",
    "        index1 += 1\n",
    "    while index2 <= e:\n",
    "        A[k] = tmp[index2]\n",
    "        k += 1\n",
    "        index2 += 1\n",
    "\n",
    "N = int(input())\n",
    "A = [0] * int(N+1)\n",
    "tmp = [0] * int(N+1)\n",
    "\n",
    "for i in range(1, N + 1):\n",
    "    A[i] = int(input())\n",
    "\n",
    "merge_sort(1, N)\n",
    "\n",
    "for i in range(1, N + 1):\n",
    "    print(str(A[i])+'\\n')"
   ]
  },
  {
   "attachments": {},
   "cell_type": "markdown",
   "metadata": {},
   "source": [
    "개선 답안"
   ]
  },
  {
   "cell_type": "code",
   "execution_count": null,
   "metadata": {},
   "outputs": [],
   "source": []
  }
 ],
 "metadata": {
  "kernelspec": {
   "display_name": "Python 3",
   "language": "python",
   "name": "python3"
  },
  "language_info": {
   "name": "python",
   "version": "3.11.2 (tags/v3.11.2:878ead1, Feb  7 2023, 16:38:35) [MSC v.1934 64 bit (AMD64)]"
  },
  "orig_nbformat": 4,
  "vscode": {
   "interpreter": {
    "hash": "a3d8f53f1429d27b792a3789224562ddd32c1395c9a9cfbb17b3c19c3b9a493d"
   }
  }
 },
 "nbformat": 4,
 "nbformat_minor": 2
}
