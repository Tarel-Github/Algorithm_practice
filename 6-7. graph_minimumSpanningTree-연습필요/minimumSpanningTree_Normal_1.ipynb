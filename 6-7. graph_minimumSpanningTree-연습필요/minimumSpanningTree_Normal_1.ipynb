{
 "cells": [
  {
   "attachments": {},
   "cell_type": "markdown",
   "metadata": {},
   "source": [
    "#### 문제 (최소 신장 트리)\n",
    "최소 신장 트리란 그래프에서 모든 노드를 연결할 때 사용된 엣지들의 가중치의 합을 최소로 하는 트리  \n",
    "사이클을 포함하지 않으며 N개의 노드가 있으면 최소신장트리를 구성하는 엣지의 수는 항상 N-1개다.  \n",
    "  \n",
    "\n",
    "##### 입력예시\n",
    "3 3  \n",
    "1 2 1  \n",
    "2 3 2  \n",
    "1 3 3  \n",
    "\n",
    "##### 출력예시\n",
    "3"
   ]
  },
  {
   "attachments": {},
   "cell_type": "markdown",
   "metadata": {},
   "source": [
    "내 첫번째 답안\n",
    "- 답안의 문제점"
   ]
  },
  {
   "cell_type": "code",
   "execution_count": null,
   "metadata": {},
   "outputs": [],
   "source": []
  },
  {
   "attachments": {},
   "cell_type": "markdown",
   "metadata": {},
   "source": [
    "\n",
    "책의 답안\n",
    "- 답안의 특징"
   ]
  },
  {
   "cell_type": "code",
   "execution_count": null,
   "metadata": {},
   "outputs": [],
   "source": [
    "import sys\n",
    "from queue import PriorityQueue\n",
    "\n",
    "input = sys.stdin.readline\n",
    "N, M = map(int, input().split())\n",
    "pq = PriorityQueue()\n",
    "parent = [0] * ( N + 1)\n",
    "\n",
    "for i in range(N+1):\n",
    "    parent[i] = i\n",
    "\n",
    "for i in range(M):\n",
    "    s, e, w = map(int, input().split())\n",
    "    pq.put((w, s, e))\n",
    "\n",
    "def find(a):\n",
    "    if a == parent[a]:\n",
    "        return a\n",
    "    else:\n",
    "        parent[a] =find(parent[a])\n",
    "        return parent[a]\n",
    "\n",
    "def union(a, b):\n",
    "    a = find(a)\n",
    "    b = find(b)\n",
    "    if a != b:\n",
    "        parent[b] = a\n",
    "\n",
    "useEdge = 0\n",
    "result = 0\n",
    "\n",
    "while useEdge < N - 1:\n",
    "    w, s, e = pq.get()\n",
    "    if find(s) != find(e):\n",
    "        union(s, e)\n",
    "        result += w\n",
    "        useEdge += 1\n",
    "\n",
    "print(result)"
   ]
  },
  {
   "attachments": {},
   "cell_type": "markdown",
   "metadata": {},
   "source": [
    "개선 답안"
   ]
  },
  {
   "cell_type": "code",
   "execution_count": null,
   "metadata": {},
   "outputs": [],
   "source": []
  }
 ],
 "metadata": {
  "kernelspec": {
   "display_name": "Python 3",
   "language": "python",
   "name": "python3"
  },
  "language_info": {
   "name": "python",
   "version": "3.11.2 (tags/v3.11.2:878ead1, Feb  7 2023, 16:38:35) [MSC v.1934 64 bit (AMD64)]"
  },
  "orig_nbformat": 4,
  "vscode": {
   "interpreter": {
    "hash": "a3d8f53f1429d27b792a3789224562ddd32c1395c9a9cfbb17b3c19c3b9a493d"
   }
  }
 },
 "nbformat": 4,
 "nbformat_minor": 2
}
