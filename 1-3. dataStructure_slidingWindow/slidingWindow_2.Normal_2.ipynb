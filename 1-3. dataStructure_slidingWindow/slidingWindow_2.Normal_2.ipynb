{
 "cells": [
  {
   "attachments": {},
   "cell_type": "markdown",
   "metadata": {},
   "source": [
    "#### 최솟값 찾기1 (슬라이딩 윈도우)\n",
    "N개의 수 A1, A2....AN과 L을 입력받는다.  \n",
    "Ai-L+1 ~ Ai 중 최솟값을 Di라고 할 때 D에 저장된 수를 출력하는 프로그램을 작성  \n",
    "단, Ai가 음수인 것은 무시  \n",
    "\n",
    "##### 입력예시\n",
    "12 3  \n",
    "1 5 2 3 6 2 3 7 3 5 2 6\n",
    "##### 출력예시\n",
    "1 1 1 2 2 2 2 2 3 3 2 2   \n",
    "\n",
    "\n",
    "##### 설명\n",
    "1 5 2 3 6 2 3 7 3 5 2 6 에 3칸짜리 리스트를 돌리면 다음과 같다.\n",
    "1                               1   [1]  \n",
    "1 5                             1   [1, 1]  \n",
    "1 5 2                           1   [1, 1, 1]  \n",
    "  5 2 3                         2   [1, 1, 1, 2]  \n",
    "    2 3 6                       2   [1, 1, 1, 2, 2]   \n",
    "      3 6 2                     2   [1, 1, 1, 2, 2, 2]  \n",
    "        6 2 3                   2   [1, 1, 1, 2, 2, 2, 2]  \n",
    "          2 3 7                 2   [1, 1, 1, 2, 2, 2, 2, 2]  \n",
    "            3 7 3               3   [1, 1, 1, 2, 2, 2, 2, 2, 3]  \n",
    "              7 3 5             3   [1, 1, 1, 2, 2, 2, 2, 2, 3, 3]  \n",
    "                3 5 2           2   [1, 1, 1, 2, 2, 2, 2, 2, 3, 3, 2]  \n",
    "                  5 2 6         2   [1, 1, 1, 2, 2, 2, 2, 2, 3, 3, 2, 2]  \n"
   ]
  },
  {
   "attachments": {},
   "cell_type": "markdown",
   "metadata": {},
   "source": [
    "\n",
    "책의 답안\n"
   ]
  },
  {
   "cell_type": "code",
   "execution_count": null,
   "metadata": {},
   "outputs": [],
   "source": [
    "# 항상 해오던 아래 코드는 없어도 된다.\n",
    "# import sys\n",
    "# input = sys.stdin.readline()\n",
    "\n",
    "# 디큐를 사용\n",
    "from collections import deque       # 디큐 키워드는 deque로 dequeue가 아님을 주의\n",
    "N, L = map(int, input().split())      # N은 숫자의 수, L은 윈도우 길이\n",
    "mydeque = deque()                     # 디큐를 윈도우로 사용\n",
    "now = list(map(int, input().split()))\n",
    "\n",
    "\n",
    "\n",
    "# 여기서부터 핵심, 숫자만큼 반복\n",
    "for i in range(N):\n",
    "    # mydeque에 값이 있는지부터 확인한다. 없으면 스킵, -1은 가장 오른쪽 값을 뜻한다\n",
    "    # 즉 mydeque의 가장 오른쪽에 있는 값(인덱스아님)이 초기 배열의 i 번째 값보다 크면\n",
    "    # 가장 오른쪽의 값을 빼낸다. 조건을 만족하면 전부 빼야하기 때문에 while문 사용\n",
    "    while mydeque and mydeque[-1][0] > now[i]:      \n",
    "        mydeque.pop()           \n",
    "    mydeque.append((now[i], i))                 # 리스트의 i번째칸에 튜플을 삽입한다. now[i]는 리스트값, i는 인덱스 값이다.\n",
    "    if mydeque[0][1] <= i - L:  \n",
    "        mydeque.popleft()                       # 디큐의 왼쪽을 빼낸다.\n",
    "    print(mydeque[0][0], end = ' ')              # 정답 출력, 줄바꿈 없이\n",
    "\n",
    "\"\"\"\n",
    "mydeque 에 now 리스트(초기배열) 값을 (값, 인덱스)로 형태로 하나씩 넣는다.\n",
    "\n",
    "만약 새로 넣고자 하는 값이 큐에 이미 있는 값보다 작다면 큐 안에 있는 값의 오른쪽 값을 뺀다.\n",
    "\n",
    "mydeque 의 길이가 L(윈도우 길이)를 벗어나면 왼쪽 것을 빼낸다.\n",
    "그 다음 가장 왼쪽의 값을 출력한다.\n",
    "\n",
    "이 과정을 N번 반복한다.\n",
    "\n",
    "\"\"\""
   ]
  }
 ],
 "metadata": {
  "kernelspec": {
   "display_name": "Python 3",
   "language": "python",
   "name": "python3"
  },
  "language_info": {
   "name": "python",
   "version": "3.11.2 (tags/v3.11.2:878ead1, Feb  7 2023, 16:38:35) [MSC v.1934 64 bit (AMD64)]"
  },
  "orig_nbformat": 4,
  "vscode": {
   "interpreter": {
    "hash": "a3d8f53f1429d27b792a3789224562ddd32c1395c9a9cfbb17b3c19c3b9a493d"
   }
  }
 },
 "nbformat": 4,
 "nbformat_minor": 2
}
