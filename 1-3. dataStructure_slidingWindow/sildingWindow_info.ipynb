{
 "cells": [
  {
   "attachments": {},
   "cell_type": "markdown",
   "metadata": {},
   "source": [
    "#### 슬라이딩 윈도우 (문제 종류)\n",
    "투 포인터와 비슷한 알고리즘  \n",
    "포인터 두 개로 범위를 지정한 다음, 그 범위를 유지한 채로 이동하며 문제를 하결하는 알고리즘이다.  \n",
    "\n",
    "##### 목적\n",
    "\n",
    "\n",
    "##### 이론\n",
    "\n",
    "\n",
    "##### 결론\n"
   ]
  }
 ],
 "metadata": {
  "kernelspec": {
   "display_name": "Python 3",
   "language": "python",
   "name": "python3"
  },
  "language_info": {
   "name": "python",
   "version": "3.11.2 (tags/v3.11.2:878ead1, Feb  7 2023, 16:38:35) [MSC v.1934 64 bit (AMD64)]"
  },
  "orig_nbformat": 4,
  "vscode": {
   "interpreter": {
    "hash": "a3d8f53f1429d27b792a3789224562ddd32c1395c9a9cfbb17b3c19c3b9a493d"
   }
  }
 },
 "nbformat": 4,
 "nbformat_minor": 2
}
