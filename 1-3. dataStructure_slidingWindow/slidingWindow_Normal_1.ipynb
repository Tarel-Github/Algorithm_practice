{
 "cells": [
  {
   "attachments": {},
   "cell_type": "markdown",
   "metadata": {},
   "source": [
    "#### 문제 (슬라이딩 윈도우)\n",
    "A, C, G, T만 사용된 문자는 DNA 문자열이다.  \n",
    "이 문자들을 사용해 문자열을 만들 것이다.  \n",
    "먼저 DNA 문자로만 이루어진 문자열을 입력받고  \n",
    "그 문자열 중에서 N개를 뽑아서 새로운 DNA 문자열을 만들 것이다.  \n",
    "이 때, 각 문자들은 최소 몇 번이상 나와야 하는지 조건이 생긴다.    \n",
    "이때 만들어질 수 있는 문자열은 총 몇 가지나 되는지 출력하시오.\n",
    "\n",
    "아래 예시는 DNA 문자열길이가 9, 이걸로 만들 DNA 문자열길이가 8이며  \n",
    "CCTGGATTG에서 문자열 8개를 뽑아서  \n",
    "A는 2번이상, C는 0 번이상, G는 1번이상, T는 1번이상 출현하는 문자열의 수는  \n",
    "0이다.  \n",
    "##### 입력예시\n",
    "9 8  \n",
    "CCTGGATTG  \n",
    "2 0 1 1  \n",
    "##### 출력예시\n",
    "0  \n",
    "\n",
    "##### 입력예시2\n",
    "4 2\n",
    "GATA\n",
    "1 0 0 1\n",
    "##### 출력예시2\n",
    "2\n"
   ]
  },
  {
   "attachments": {},
   "cell_type": "markdown",
   "metadata": {},
   "source": [
    "내 첫번째 답안\n",
    "- 답안의 문제점"
   ]
  },
  {
   "cell_type": "code",
   "execution_count": null,
   "metadata": {},
   "outputs": [],
   "source": []
  },
  {
   "attachments": {},
   "cell_type": "markdown",
   "metadata": {},
   "source": [
    "\n",
    "책의 답안\n",
    "- 답안의 특징"
   ]
  },
  {
   "cell_type": "code",
   "execution_count": null,
   "metadata": {},
   "outputs": [],
   "source": []
  },
  {
   "attachments": {},
   "cell_type": "markdown",
   "metadata": {},
   "source": [
    "개선 답안"
   ]
  },
  {
   "cell_type": "code",
   "execution_count": null,
   "metadata": {},
   "outputs": [],
   "source": []
  }
 ],
 "metadata": {
  "kernelspec": {
   "display_name": "Python 3",
   "language": "python",
   "name": "python3"
  },
  "language_info": {
   "name": "python",
   "version": "3.11.2 (tags/v3.11.2:878ead1, Feb  7 2023, 16:38:35) [MSC v.1934 64 bit (AMD64)]"
  },
  "orig_nbformat": 4,
  "vscode": {
   "interpreter": {
    "hash": "a3d8f53f1429d27b792a3789224562ddd32c1395c9a9cfbb17b3c19c3b9a493d"
   }
  }
 },
 "nbformat": 4,
 "nbformat_minor": 2
}
