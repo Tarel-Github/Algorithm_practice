{
 "cells": [
  {
   "attachments": {},
   "cell_type": "markdown",
   "metadata": {},
   "source": [
    "#### 문제 (트라이)\n",
    "\n",
    "문제 내용\n",
    "\n",
    "##### 입력예시\n",
    "\n",
    "\n",
    "##### 출력예시\n"
   ]
  },
  {
   "attachments": {},
   "cell_type": "markdown",
   "metadata": {},
   "source": [
    "내 첫번째 답안\n",
    "- 답안의 문제점"
   ]
  },
  {
   "cell_type": "code",
   "execution_count": null,
   "metadata": {},
   "outputs": [],
   "source": []
  },
  {
   "attachments": {},
   "cell_type": "markdown",
   "metadata": {},
   "source": [
    "\n",
    "책의 답안\n",
    "- 답안의 특징"
   ]
  },
  {
   "cell_type": "code",
   "execution_count": null,
   "metadata": {},
   "outputs": [],
   "source": [
    "from sys import stdin\n",
    "input = stdin.readline\n",
    "\n",
    "class Node(object):\n",
    "    def __init__(self, isEnd):\n",
    "        self.isEnd = isEnd\n",
    "        self.childNode={}\n",
    "\n",
    "class Trie(object):\n",
    "    def __init__(self):\n",
    "        self.parent = Node(None)\n",
    "\n",
    "    def insert(self, string):\n",
    "        nowNode = self.parent\n",
    "        temp_length = 0\n",
    "        for char in string:\n",
    "            if char in string:\n",
    "                if  char not in nowNode.childNode:\n",
    "                    nowNode.childNode[char] = Node(char)\n",
    "                \n",
    "                nowNode = nowNode.childNode[char]\n",
    "                temp_length += 1\n",
    "                if temp_length == len(string):\n",
    "                    nowNode.isEnd = True\n",
    "\n",
    "    def search(self, string):\n",
    "        nowNode = self.parent\n",
    "        temp_length = 0\n",
    "        for char in string:\n",
    "            if char in nowNode.childNode:\n",
    "                nowNode = nowNode.childNode[char]\n",
    "                temp_length += 1\n",
    "                if temp_length == len(string):\n",
    "                    nowNode.isEnd = True\n",
    "\n",
    "    def search(self, string):\n",
    "        nowNode = self.parent\n",
    "        temp_length = 0\n",
    "        for char in string:\n",
    "            if char in nowNode.childNode:\n",
    "                nowNode =nowNode.childNode[char]\n",
    "                temp_length += 1\n",
    "                if temp_length == len(string) and nowNode.isEnd == True:\n",
    "                    return True\n",
    "                else:\n",
    "                    return False\n",
    "            return False\n",
    "        \n",
    "N, M = map(int , input().split())\n",
    "myTrie = Trie()\n",
    "\n",
    "for _ in range(N):\n",
    "    word = input().strip()\n",
    "    myTrie.insert(word)\n",
    "\n",
    "result = 0\n",
    "\n",
    "for _ in range(M):\n",
    "    word = input().strip()\n",
    "    if myTrie.search(word):\n",
    "        result += 1\n",
    "\n",
    "print(result)\n",
    "\n",
    "\n",
    "'''\n",
    "\n",
    "'''"
   ]
  },
  {
   "attachments": {},
   "cell_type": "markdown",
   "metadata": {},
   "source": [
    "개선 답안"
   ]
  },
  {
   "cell_type": "code",
   "execution_count": null,
   "metadata": {},
   "outputs": [],
   "source": []
  }
 ],
 "metadata": {
  "kernelspec": {
   "display_name": "Python 3",
   "language": "python",
   "name": "python3"
  },
  "language_info": {
   "name": "python",
   "version": "3.11.2 (tags/v3.11.2:878ead1, Feb  7 2023, 16:38:35) [MSC v.1934 64 bit (AMD64)]"
  },
  "orig_nbformat": 4,
  "vscode": {
   "interpreter": {
    "hash": "a3d8f53f1429d27b792a3789224562ddd32c1395c9a9cfbb17b3c19c3b9a493d"
   }
  }
 },
 "nbformat": 4,
 "nbformat_minor": 2
}
