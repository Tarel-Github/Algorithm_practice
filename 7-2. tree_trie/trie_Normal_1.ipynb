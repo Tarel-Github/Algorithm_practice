{
 "cells": [
  {
   "attachments": {},
   "cell_type": "markdown",
   "metadata": {},
   "source": [
    "#### 문자열 찾기 (트라이)\n",
    "\n",
    "트라이는 문자열 검색을 빠르게 실행할 수 있도록 설계한 트리 형태의 자료 구조다.  \n",
    "N진 트리, 즉, 문자 종류의 개수에 따라 N이 결정된다. 예를 들어, 알파벳은 26개의 문자로 이뤄져 있으므로  \n",
    "26진 트리로 구성된다.  \n",
    "루트 노드는 항상 빈 문자열인 공백 상태를 유지한다.  \n",
    "트라이는 쉽게 말해, 우리가 사전에서 단어 찾는것과 비슷하다고 볼 수 있다.  \n",
    "  \n",
    "총 N개의 문자열로 이뤄진 집합 S가 있다. 입력으로 주어지는 M개의 문자열 중, 집합 S에 포함되는 것이 총 몇개인지 구하는 프로그램을 작성하시오.  \n",
    "\n",
    "##### 입력예시\n",
    "5 11    <-- 문자열의 개수 N과 M\n",
    "baekjoononlinejudge\n",
    "startlink\n",
    "codeplus\n",
    "sundaycoding\n",
    "codingsh    <-- 여기까지가 N, 총 5개\n",
    "baekjoon\n",
    "codeplus\n",
    "codeminus\n",
    "startlink\n",
    "starlink\n",
    "sundatcoding\n",
    "codingsh\n",
    "codinghs\n",
    "sondaycoding\n",
    "startrink\n",
    "icerink <-- 여기까지가 M 총 11개\n",
    "\n",
    "\n",
    "##### 출력예시\n",
    "4"
   ]
  },
  {
   "attachments": {},
   "cell_type": "markdown",
   "metadata": {},
   "source": [
    "내 첫번째 답안\n",
    "- 답안의 문제점"
   ]
  },
  {
   "cell_type": "code",
   "execution_count": null,
   "metadata": {},
   "outputs": [],
   "source": []
  },
  {
   "attachments": {},
   "cell_type": "markdown",
   "metadata": {},
   "source": [
    "\n",
    "책의 답안\n",
    "- 답안의 특징"
   ]
  },
  {
   "cell_type": "code",
   "execution_count": null,
   "metadata": {},
   "outputs": [],
   "source": [
    "# 임포트\n",
    "from sys import stdin\n",
    "input = stdin.readline\n",
    "\n",
    "# 필요한건 다음과 같다.\n",
    "# 노드에 대한 정의\n",
    "# 트라이에 대한 정의\n",
    "# 트라이에서, 문자열을 추가\n",
    "# 트라이에서, 문자열을 찾기\n",
    "\n",
    "# 노드 클래스\n",
    "class Node(object):\n",
    "    def __init__(self, isEnd):\n",
    "        self.isEnd = isEnd      # 마지막 노드\n",
    "        self.childNode={}       # 자식 노드를 저장하는 딕셔너리\n",
    "\n",
    "# 트라이 클래스\n",
    "class Trie(object):\n",
    "    def __init__(self):\n",
    "        self.parent = Node(None)    # Node 클래스를 생성하고, isEnd에는 아무것도 전달되지 않으므로 마지막 노드가 아니라는 뜻이다\n",
    "\n",
    "    # 문자열 삽입\n",
    "    def insert(self, string):                             \n",
    "        nowNode = self.parent       # 루트 노드부터 시작     \n",
    "        temp_length = 0\n",
    "\n",
    "        for char in string:         # 입력받은 문자열을 하나하나 입력한다. 예를들어, string이 'Apple' 이면 A, p, p...가 char에 담긴다.\n",
    "            if char in string:\n",
    "                if  char not in nowNode.childNode:\n",
    "                    nowNode.childNode[char] = Node(char)\n",
    "                \n",
    "                nowNode = nowNode.childNode[char]\n",
    "                temp_length += 1\n",
    "                if temp_length == len(string):\n",
    "                    nowNode.isEnd = True\n",
    "\n",
    "    # 문자가 존재하는지 검색\n",
    "    def search(self, string):                               \n",
    "        nowNode = self.parent\n",
    "        temp_length = 0\n",
    "        for char in string:\n",
    "            if char in nowNode.childNode:\n",
    "                nowNode = nowNode.childNode[char]\n",
    "                temp_length += 1\n",
    "                if temp_length == len(string) and nowNode.isEnd == True:\n",
    "                    return True\n",
    "                else:\n",
    "                    return False\n",
    "            return False\n",
    "        \n",
    "# 입력을 받음\n",
    "N, M = map(int , input().split())   # 먼저 사전에 등록할 문자열 N개를 받고 찾을 문자열 M개를 받음\n",
    "myTrie = Trie()                     # Trie 클래스 사용\n",
    "\n",
    "for _ in range(N):\n",
    "    word = input().strip()          # 입력받은 문자열의 양쪽 끝의 공백을 제거\n",
    "    myTrie.insert(word)             # Trie 클래스의 insert 함수에 word를 삽입\n",
    "\n",
    "result = 0\n",
    "\n",
    "for _ in range(M):\n",
    "    word = input().strip()\n",
    "    if myTrie.search(word):\n",
    "        result += 1\n",
    "\n",
    "print(result)\n",
    "\n",
    "\n",
    "'''\n",
    "\n",
    "'''"
   ]
  },
  {
   "attachments": {},
   "cell_type": "markdown",
   "metadata": {},
   "source": [
    "개선 답안"
   ]
  },
  {
   "cell_type": "code",
   "execution_count": null,
   "metadata": {},
   "outputs": [],
   "source": []
  }
 ],
 "metadata": {
  "kernelspec": {
   "display_name": "Python 3",
   "language": "python",
   "name": "python3"
  },
  "language_info": {
   "name": "python",
   "version": "3.11.2 (tags/v3.11.2:878ead1, Feb  7 2023, 16:38:35) [MSC v.1934 64 bit (AMD64)]"
  },
  "orig_nbformat": 4,
  "vscode": {
   "interpreter": {
    "hash": "a3d8f53f1429d27b792a3789224562ddd32c1395c9a9cfbb17b3c19c3b9a493d"
   }
  }
 },
 "nbformat": 4,
 "nbformat_minor": 2
}
