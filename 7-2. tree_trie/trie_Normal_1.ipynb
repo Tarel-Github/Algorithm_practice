{
 "cells": [
  {
   "attachments": {},
   "cell_type": "markdown",
   "metadata": {},
   "source": [
    "#### 문자열 찾기 (트라이)\n",
    "\n",
    "트라이는 문자열 검색을 빠르게 실행할 수 있도록 설계한 트리 형태의 자료 구조다.  \n",
    "N진 트리, 즉, 문자 종류의 개수에 따라 N이 결정된다. 예를 들어, 알파벳은 26개의 문자로 이뤄져 있으므로  \n",
    "26진 트리로 구성된다.  \n",
    "루트 노드는 항상 빈 문자열인 공백 상태를 유지한다.  \n",
    "트라이는 쉽게 말해, 우리가 사전에서 단어 찾는것과 비슷하다고 볼 수 있다.  \n",
    "  \n",
    "총 N개의 문자열로 이뤄진 집합 S가 있다. 입력으로 주어지는 M개의 문자열 중, 집합 S에 포함되는 것이 총 몇개인지 구하는 프로그램을 작성하시오.  \n",
    "\n",
    "##### 입력예시\n",
    "5 11    <-- 문자열의 개수 N과 M  \n",
    "baekjoononlinejudge  \n",
    "startlink  \n",
    "codeplus   \n",
    "sundaycoding  \n",
    "codingsh    <-- 여기까지가 N, 총 5개  \n",
    "baekjoon  \n",
    "codeplus    \n",
    "codeminus  \n",
    "startlink  \n",
    "starlink  \n",
    "sundatcoding  \n",
    "codingsh  \n",
    "codinghs  \n",
    "sondaycoding    \n",
    "startrink  \n",
    "icerink <-- 여기까지가 M 총 11개  \n",
    "\n",
    "\n",
    "##### 출력예시\n",
    "4"
   ]
  },
  {
   "attachments": {},
   "cell_type": "markdown",
   "metadata": {},
   "source": [
    "내 첫번째 답안\n",
    "- 답안의 문제점"
   ]
  },
  {
   "cell_type": "code",
   "execution_count": null,
   "metadata": {},
   "outputs": [],
   "source": []
  },
  {
   "attachments": {},
   "cell_type": "markdown",
   "metadata": {},
   "source": [
    "\n",
    "책의 답안\n",
    "- 노드 클래스\n",
    "- 트라이 클래스\n",
    "    - 문자열 삽입\n",
    "    - 문자열 찾기"
   ]
  },
  {
   "cell_type": "code",
   "execution_count": null,
   "metadata": {},
   "outputs": [],
   "source": [
    "# 임포트\n",
    "from sys import stdin\n",
    "input = stdin.readline\n",
    "\n",
    "# 필요한건 다음과 같다.\n",
    "# 노드에 대한 정의\n",
    "# 트라이에 대한 정의\n",
    "# 트라이에서, 문자열을 추가\n",
    "# 트라이에서, 문자열을 찾기\n",
    "\n",
    "# 노드 클래스\n",
    "class Node(object):\n",
    "    def __init__(self, isEnd):\n",
    "        self.isEnd = isEnd      # 마지막 노드\n",
    "        self.childNode={}       # 자식 노드를 저장하는 딕셔너리\n",
    "\n",
    "# 트라이 클래스\n",
    "class Trie(object):\n",
    "    def __init__(self):\n",
    "        self.parent = Node(None)    # 첫 번째 노드를 생성한다. 이는 공백상태의 루트노드가 된다.\n",
    "\n",
    "    '''문자열 삽입\n",
    "    Apple 를 입력 받으면 A, p, p, l, e 가 전부 노드가 되며 앞글자가 뒷글자의 부모가 된다.\n",
    "    이 상태에서 Air를 입력 받으면 i, r 노드가 생기고 이것이 A의 하위 노드가 된다.\n",
    "    '''\n",
    "    def insert(self, string):                             \n",
    "        nowNode = self.parent       # 현 노드는 루트노드라고 정의한다.\n",
    "        temp_length = 0\n",
    "\n",
    "        for char in string:         # 입력받은 문자열을 하나하나 입력한다. 예를들어, string이 'Apple' 이면 A, p, p...가 char에 담긴다.\n",
    "            if char in string:\n",
    "                if  char not in nowNode.childNode:          # 글자가 child노드에 없을 때\n",
    "                    nowNode.childNode[char] = Node(char)    # 그 글자는 새로운 노드가 된다. 즉, 모든 노드에는 글자가 하나만 담긴다.\n",
    "                \n",
    "                nowNode = nowNode.childNode[char]           # 글자가 child노드에 없으면 위처럼 추가해서 nowNode에 넣고 있으면 바로 넣는다.\n",
    "                temp_length += 1                            # 갈라져나가는 노드의 길이가 1씩 늘어난다.\n",
    "                if temp_length == len(string):              # 노드 길이가 단어의 길이와 일치하다면\n",
    "                    nowNode.isEnd = True                    # 이제 그 노드는 종료 노드가 된다.\n",
    "\n",
    "    '''문자가 존재하는지 검색\n",
    "    Apple을 찾는다고 할 때, 우선 루트노드인 공백노드에서, 자식 노드로 A가 있는지를 찾는다. 없으면 False 리턴\n",
    "    A가 있다면 nowNode를 A로, 문자길이를 1 증가시킨다.\n",
    "    그리고 '문자길이'와 '찾고자하는단어'의 길이가 같다면 True를 리턴한다.\n",
    "    아니라면 for문에 다음 글자인 p를 넣고 반복한다.\n",
    "    만약 반복이 다 끝났는데도 True를 반환하지 못했다면 False를 반환한다.\n",
    "    '''\n",
    "    def search(self, string):                               \n",
    "        nowNode = self.parent                   # 현 노드 선언\n",
    "        temp_length = 0                         # 길이는 0\n",
    "        for char in string:                     # 입력받은 문자열 한 글자 한 글자 반복\n",
    "            if char in nowNode.childNode:               # 현 노드의 차일드 노드에 입력받은 글자 중 한 글자가 있는가?\n",
    "                nowNode = nowNode.childNode[char]       # 있다면 글자의 차일드 노드를 현노드로 지정하고\n",
    "                temp_length += 1                        # 길이를 1 증가 시킨다.\n",
    "                if temp_length == len(string) and nowNode.isEnd == True:\n",
    "                    return True\n",
    "                else:\n",
    "                    return False\n",
    "            return False                                # A -> P -> P... 찾다가 그 다음이 없다면? False리턴\n",
    "        \n",
    "# 입력을 받음, 먼저 등록할 문자 N개와 찾을 문자 M개\n",
    "N, M = map(int , input().split())   # 먼저 사전에 등록할 문자열 N개를 받고 찾을 문자열 M개를 받음\n",
    "myTrie = Trie()                     # Trie 클래스 사용\n",
    "# 우선 등록할 문자를 입력받고 이를 트라이에 저장함\n",
    "for _ in range(N):\n",
    "    word = input().strip()          # 입력받은 문자열의 양쪽 끝의 공백을 제거\n",
    "    myTrie.insert(word)             # Trie 클래스의 insert 함수에 word를 삽입\n",
    "\n",
    "result = 0\n",
    "\n",
    "# 찾을 문자를 입력받고 그걸 트라이에서 찾음, 있으면 result 1 증가\n",
    "for _ in range(M):\n",
    "    word = input().strip()\n",
    "    if myTrie.search(word):\n",
    "        result += 1\n",
    "\n",
    "print(result)\n",
    "\n",
    "\n",
    "'''\n",
    "\n",
    "'''"
   ]
  },
  {
   "attachments": {},
   "cell_type": "markdown",
   "metadata": {},
   "source": [
    "개선 답안"
   ]
  },
  {
   "cell_type": "code",
   "execution_count": null,
   "metadata": {},
   "outputs": [],
   "source": []
  }
 ],
 "metadata": {
  "kernelspec": {
   "display_name": "Python 3",
   "language": "python",
   "name": "python3"
  },
  "language_info": {
   "name": "python",
   "version": "3.11.2 (tags/v3.11.2:878ead1, Feb  7 2023, 16:38:35) [MSC v.1934 64 bit (AMD64)]"
  },
  "orig_nbformat": 4,
  "vscode": {
   "interpreter": {
    "hash": "a3d8f53f1429d27b792a3789224562ddd32c1395c9a9cfbb17b3c19c3b9a493d"
   }
  }
 },
 "nbformat": 4,
 "nbformat_minor": 2
}
