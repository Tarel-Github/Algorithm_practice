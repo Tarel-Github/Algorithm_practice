{
 "cells": [
  {
   "attachments": {},
   "cell_type": "markdown",
   "metadata": {},
   "source": [
    "#### 문제 (BFS)\n",
    "\n",
    "너비우선 탐색은 DFS와 마찬가지로 그래프 완전 탐색 기법으로  \n",
    "시작노드에서 출발해 시작 부분을 기준으로 가까운 노드를 먼저 방문하면서 탐색하는 알고리즘이다.  \n",
    "  \n",
    "그래프를 DFS로 탐색한 결과와 BFS로 탐색한 결과를 출력하는 프로그램을 작성할 것\n",
    "\n",
    "##### 입력예시\n",
    "4 5 1  \n",
    "1 2  \n",
    "1 3  \n",
    "1 4  \n",
    "2 4  \n",
    "3 4  \n",
    "\n",
    "##### 출력예시\n",
    "1 2 4 3  \n",
    "1 2 3 4  "
   ]
  },
  {
   "attachments": {},
   "cell_type": "markdown",
   "metadata": {},
   "source": [
    "내 첫번째 답안\n",
    "- 답안의 문제점"
   ]
  },
  {
   "cell_type": "code",
   "execution_count": null,
   "metadata": {},
   "outputs": [],
   "source": []
  },
  {
   "attachments": {},
   "cell_type": "markdown",
   "metadata": {},
   "source": [
    "\n",
    "책의 답안\n",
    "- 답안의 특징"
   ]
  },
  {
   "cell_type": "code",
   "execution_count": null,
   "metadata": {},
   "outputs": [],
   "source": [
    "from collections import deque\n",
    "N, M, Start = map(int, input().split())\n",
    "A=[[]for _ in range(N+1)]\n",
    "\n",
    "for _ in range(M):\n",
    "    s, e =map(int, input().split())\n",
    "    A[s].append(e)\n",
    "    A[e].append(s)\n",
    "\n",
    "for i in range(N+1):\n",
    "    A[i].sort()\n",
    "\n",
    "def DFS(v):\n",
    "    print(v, end= ' ')\n",
    "    visited[v] = True\n",
    "    for i in A[v]:\n",
    "        if not visited[i]:\n",
    "            DFS(i)\n",
    "\n",
    "visited=[False] * (N+1)\n",
    "DFS(Start)\n",
    "\n",
    "def BFS(v):\n",
    "    queue = deque()\n",
    "    queue.append(v)\n",
    "    visited[v] = True\n",
    "    while queue:\n",
    "        now_Node = queue.popleft()\n",
    "        print(now_Node, end = ' ')\n",
    "        for i in A[now_Node]:\n",
    "            if not visited[i]:\n",
    "                visited[i] = True\n",
    "                queue.append(i)\n",
    "\n",
    "print()\n",
    "visited = [False] * (N + 1)\n",
    "BFS(Start)\n",
    "'''\n",
    "디큐 사용\n",
    "배열안에 배열을 노드수 + 1 개 길이만큼 빈 배열 생성하고 (0번 인덱스는 안쓰는 인덱스)\n",
    "그 빈배열에 노드와 엣지 연결 정보를 담는다. -> [[], [2, 3, 4], [4], [4], [], []] 이런식으로 만들어 짐\n",
    "그렇게 만들어진 배열안의 배열 요소들을 sort로 정렬\n",
    "\n",
    "깊이 우선 탐색은 스킵\n",
    "\n",
    "방문 여부 배열을 만든다. 최초값은 모두 False, 길이는 N + 1, 마찬가지로 0번 인덱스는 안씀\n",
    "\n",
    "너비우선탐색 시작\n",
    "큐는 디큐로 생성\n",
    "우선 큐에 시작포인트를 넣고 방문여부배열도 해당 인덱스를 True로 변환한다. 이때, 시작점이 1이면 큐는 [1]\n",
    "이제 while문 가동 조건은 큐가 True인 동안임\n",
    "\n",
    "큐에서 왼쪽 것을 빼고, 그렇게 나온 것을 now_Node로 정의\n",
    "for문 시작, A 를 for문에 투입\n",
    "앞서 말했듯, A는 오른쪽과 같은 형상이다. -> [[], [2, 3, 4], [4], [4], [], []]\n",
    "여기서 now_Node번 인덱스에 있는 리스트를 가져온다.\n",
    "now_Node는 1, 즉 [2, 3, 4]를 가져와 for문을 돌린다.\n",
    "\n",
    "방문 리스트에서, i번째가 방문한적이 없다면, 2, 3, 4번째 인덱스를 True로 바꾼다.\n",
    "큐에 2, 3, 4 숫자를 넣는다.\n",
    "큐는 현 노드와 연결된 노드를 말하며, 방문할 때마다 방문한 노드는 지워진다.\n",
    "그렇게 반복하다보면 큐에는 아무것도 남지 않는다\n",
    "\n",
    "!!!중요 !!! BFS 부분은 암기할 것!!\n",
    "\n",
    "'''"
   ]
  },
  {
   "attachments": {},
   "cell_type": "markdown",
   "metadata": {},
   "source": [
    "개선 답안"
   ]
  },
  {
   "cell_type": "code",
   "execution_count": null,
   "metadata": {},
   "outputs": [],
   "source": []
  }
 ],
 "metadata": {
  "kernelspec": {
   "display_name": "Python 3",
   "language": "python",
   "name": "python3"
  },
  "language_info": {
   "name": "python",
   "version": "3.11.2 (tags/v3.11.2:878ead1, Feb  7 2023, 16:38:35) [MSC v.1934 64 bit (AMD64)]"
  },
  "orig_nbformat": 4,
  "vscode": {
   "interpreter": {
    "hash": "a3d8f53f1429d27b792a3789224562ddd32c1395c9a9cfbb17b3c19c3b9a493d"
   }
  }
 },
 "nbformat": 4,
 "nbformat_minor": 2
}
