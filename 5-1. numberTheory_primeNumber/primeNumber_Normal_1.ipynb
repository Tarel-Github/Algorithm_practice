{
 "cells": [
  {
   "attachments": {},
   "cell_type": "markdown",
   "metadata": {},
   "source": [
    "#### 문제 (정수론, 소수구하기, 에라토스테네스)\n",
    "\n",
    "M 이상 N 이하의 소수를 모두 출력하는 프로그램을 작성하시오.  \n",
    "단, 최대범위가 매우 높기 때문에 일반적인 방식을 사용하면 안 됌.  \n",
    "\n",
    "##### 입력예시\n",
    "3 16  \n",
    "\n",
    "##### 출력예시\n",
    "3  \n",
    "5  \n",
    "7  \n",
    "11  \n",
    "13  "
   ]
  },
  {
   "attachments": {},
   "cell_type": "markdown",
   "metadata": {},
   "source": [
    "내 첫번째 답안\n",
    "- 답안의 문제점"
   ]
  },
  {
   "cell_type": "code",
   "execution_count": null,
   "metadata": {},
   "outputs": [],
   "source": []
  },
  {
   "attachments": {},
   "cell_type": "markdown",
   "metadata": {},
   "source": [
    "\n",
    "책의 답안\n",
    "- 답안의 특징"
   ]
  },
  {
   "cell_type": "code",
   "execution_count": null,
   "metadata": {},
   "outputs": [],
   "source": [
    "import math\n",
    "M, N = map(int, input().split())    # 최댓값과 최솟값을 받음\n",
    "A = [0] *(N+1)                      # 최댓값 + 1 만큼 배열 생성 -> [0, 0, 0, 0, 0......]\n",
    "\n",
    "for i in range(2, N + 1):           # 2번 인덱스부터 N + 1 인덱스까지 \n",
    "    A[i] = i                        # 자기 인덱스 번호를 배열에 입력\n",
    "\n",
    "for i in range(2, int(math.sqrt(N))+1): # 최대 값의 제곱근에서 소수를 버리고 1을 더한 수 만큼 반복, 시간단축의 핵심부\n",
    "    if A[i] == 0:                       # A의 해당 인덱스 요소가 0 이면 컨티뉴\n",
    "        continue\n",
    "    for j in range(i + i, N + 1, i):    # i의 두배부터, 최대값 + 1까지, i씩 증가하면서 반복\n",
    "        A[j] =0                         # 해당 인덱스 값은 0으로 한다.\n",
    "                # 이 과정은 배수를 지우는 과정이다. i가 2라면 모든 2의 배수가, 3이면 모든 3의 배수가 지워진다.\n",
    "                # i + i가 시작점인 이유는 1은 제외해야하기 때문이다.\n",
    "\n",
    "for i in range(M, N+1):\n",
    "    if A[i] != 0:\n",
    "        print(A[i])\n",
    "\n",
    "'''\n",
    "결론:\n",
    "모든 숫자가 포함된 배열을 만들고\n",
    "배수에 해당하는 모든 숫자를 지우는 방식으로 소수만을 구한다.\n",
    "여기서 시간단축의 핵심은 저 제곱근까지만 연산하는 부분으로 보인다.\n",
    "\n",
    "'''"
   ]
  },
  {
   "attachments": {},
   "cell_type": "markdown",
   "metadata": {},
   "source": [
    "개선 답안"
   ]
  },
  {
   "cell_type": "code",
   "execution_count": null,
   "metadata": {},
   "outputs": [],
   "source": []
  }
 ],
 "metadata": {
  "kernelspec": {
   "display_name": "Python 3",
   "language": "python",
   "name": "python3"
  },
  "language_info": {
   "name": "python",
   "version": "3.11.2 (tags/v3.11.2:878ead1, Feb  7 2023, 16:38:35) [MSC v.1934 64 bit (AMD64)]"
  },
  "orig_nbformat": 4,
  "vscode": {
   "interpreter": {
    "hash": "a3d8f53f1429d27b792a3789224562ddd32c1395c9a9cfbb17b3c19c3b9a493d"
   }
  }
 },
 "nbformat": 4,
 "nbformat_minor": 2
}
